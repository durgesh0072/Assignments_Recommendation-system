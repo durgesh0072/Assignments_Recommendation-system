{
 "cells": [
  {
   "cell_type": "markdown",
   "metadata": {},
   "source": [
    "# Recommend a best book based on the ratings."
   ]
  },
  {
   "cell_type": "code",
   "execution_count": 1,
   "metadata": {
    "ExecuteTime": {
     "end_time": "2021-06-13T19:10:02.594574Z",
     "start_time": "2021-06-13T19:09:57.016255Z"
    }
   },
   "outputs": [],
   "source": [
    "import pandas as pd\n",
    "import numpy as np\n",
    "import matplotlib.pyplot as plt\n",
    "import seaborn as sns\n",
    "from sklearn.feature_extraction.text import TfidfVectorizer\n",
    "from sklearn.metrics.pairwise import linear_kernel\n",
    "from scipy import sparse"
   ]
  },
  {
   "cell_type": "code",
   "execution_count": 15,
   "metadata": {
    "ExecuteTime": {
     "end_time": "2021-06-13T19:20:49.948600Z",
     "start_time": "2021-06-13T19:20:49.820593Z"
    }
   },
   "outputs": [
    {
     "data": {
      "text/html": [
       "<div>\n",
       "<style scoped>\n",
       "    .dataframe tbody tr th:only-of-type {\n",
       "        vertical-align: middle;\n",
       "    }\n",
       "\n",
       "    .dataframe tbody tr th {\n",
       "        vertical-align: top;\n",
       "    }\n",
       "\n",
       "    .dataframe thead th {\n",
       "        text-align: right;\n",
       "    }\n",
       "</style>\n",
       "<table border=\"1\" class=\"dataframe\">\n",
       "  <thead>\n",
       "    <tr style=\"text-align: right;\">\n",
       "      <th></th>\n",
       "      <th>Unnamed: 0</th>\n",
       "      <th>User.ID</th>\n",
       "      <th>Book.Title</th>\n",
       "      <th>Book.Rating</th>\n",
       "    </tr>\n",
       "  </thead>\n",
       "  <tbody>\n",
       "    <tr>\n",
       "      <th>0</th>\n",
       "      <td>1</td>\n",
       "      <td>276726</td>\n",
       "      <td>Classical Mythology</td>\n",
       "      <td>5</td>\n",
       "    </tr>\n",
       "    <tr>\n",
       "      <th>1</th>\n",
       "      <td>2</td>\n",
       "      <td>276729</td>\n",
       "      <td>Clara Callan</td>\n",
       "      <td>3</td>\n",
       "    </tr>\n",
       "    <tr>\n",
       "      <th>2</th>\n",
       "      <td>3</td>\n",
       "      <td>276729</td>\n",
       "      <td>Decision in Normandy</td>\n",
       "      <td>6</td>\n",
       "    </tr>\n",
       "    <tr>\n",
       "      <th>3</th>\n",
       "      <td>4</td>\n",
       "      <td>276736</td>\n",
       "      <td>Flu: The Story of the Great Influenza Pandemic...</td>\n",
       "      <td>8</td>\n",
       "    </tr>\n",
       "    <tr>\n",
       "      <th>4</th>\n",
       "      <td>5</td>\n",
       "      <td>276737</td>\n",
       "      <td>The Mummies of Urumchi</td>\n",
       "      <td>6</td>\n",
       "    </tr>\n",
       "  </tbody>\n",
       "</table>\n",
       "</div>"
      ],
      "text/plain": [
       "   Unnamed: 0  User.ID                                         Book.Title  \\\n",
       "0           1   276726                                Classical Mythology   \n",
       "1           2   276729                                       Clara Callan   \n",
       "2           3   276729                               Decision in Normandy   \n",
       "3           4   276736  Flu: The Story of the Great Influenza Pandemic...   \n",
       "4           5   276737                             The Mummies of Urumchi   \n",
       "\n",
       "   Book.Rating  \n",
       "0            5  \n",
       "1            3  \n",
       "2            6  \n",
       "3            8  \n",
       "4            6  "
      ]
     },
     "execution_count": 15,
     "metadata": {},
     "output_type": "execute_result"
    }
   ],
   "source": [
    "book = pd.read_csv('book_rec_sys.csv', encoding='latin-1') \n",
    "book.head()"
   ]
  },
  {
   "cell_type": "code",
   "execution_count": 7,
   "metadata": {
    "ExecuteTime": {
     "end_time": "2021-06-13T19:12:36.144356Z",
     "start_time": "2021-06-13T19:12:36.132355Z"
    }
   },
   "outputs": [],
   "source": [
    "book.rename(columns={'Unnamed: 0':'ID'}, inplace=True )"
   ]
  },
  {
   "cell_type": "code",
   "execution_count": 8,
   "metadata": {
    "ExecuteTime": {
     "end_time": "2021-06-13T19:12:53.152329Z",
     "start_time": "2021-06-13T19:12:53.140328Z"
    }
   },
   "outputs": [],
   "source": [
    "book.rename(columns={'Book.Title':'Title'}, inplace = True)"
   ]
  },
  {
   "cell_type": "code",
   "execution_count": 9,
   "metadata": {
    "ExecuteTime": {
     "end_time": "2021-06-13T19:13:10.273308Z",
     "start_time": "2021-06-13T19:13:10.259307Z"
    }
   },
   "outputs": [],
   "source": [
    "book.rename(columns={'User.ID':'User'}, inplace = True)"
   ]
  },
  {
   "cell_type": "code",
   "execution_count": 10,
   "metadata": {
    "ExecuteTime": {
     "end_time": "2021-06-13T19:13:28.609357Z",
     "start_time": "2021-06-13T19:13:28.598356Z"
    }
   },
   "outputs": [],
   "source": [
    "book.rename(columns={'Book.Rating':'Rating'}, inplace = True)"
   ]
  },
  {
   "cell_type": "code",
   "execution_count": 16,
   "metadata": {
    "ExecuteTime": {
     "end_time": "2021-06-13T19:20:59.120125Z",
     "start_time": "2021-06-13T19:20:59.090123Z"
    }
   },
   "outputs": [
    {
     "data": {
      "text/html": [
       "<div>\n",
       "<style scoped>\n",
       "    .dataframe tbody tr th:only-of-type {\n",
       "        vertical-align: middle;\n",
       "    }\n",
       "\n",
       "    .dataframe tbody tr th {\n",
       "        vertical-align: top;\n",
       "    }\n",
       "\n",
       "    .dataframe thead th {\n",
       "        text-align: right;\n",
       "    }\n",
       "</style>\n",
       "<table border=\"1\" class=\"dataframe\">\n",
       "  <thead>\n",
       "    <tr style=\"text-align: right;\">\n",
       "      <th></th>\n",
       "      <th>Unnamed: 0</th>\n",
       "      <th>User.ID</th>\n",
       "      <th>Book.Title</th>\n",
       "      <th>Book.Rating</th>\n",
       "    </tr>\n",
       "  </thead>\n",
       "  <tbody>\n",
       "    <tr>\n",
       "      <th>0</th>\n",
       "      <td>1</td>\n",
       "      <td>276726</td>\n",
       "      <td>Classical Mythology</td>\n",
       "      <td>5</td>\n",
       "    </tr>\n",
       "    <tr>\n",
       "      <th>1</th>\n",
       "      <td>2</td>\n",
       "      <td>276729</td>\n",
       "      <td>Clara Callan</td>\n",
       "      <td>3</td>\n",
       "    </tr>\n",
       "    <tr>\n",
       "      <th>2</th>\n",
       "      <td>3</td>\n",
       "      <td>276729</td>\n",
       "      <td>Decision in Normandy</td>\n",
       "      <td>6</td>\n",
       "    </tr>\n",
       "    <tr>\n",
       "      <th>3</th>\n",
       "      <td>4</td>\n",
       "      <td>276736</td>\n",
       "      <td>Flu: The Story of the Great Influenza Pandemic...</td>\n",
       "      <td>8</td>\n",
       "    </tr>\n",
       "    <tr>\n",
       "      <th>4</th>\n",
       "      <td>5</td>\n",
       "      <td>276737</td>\n",
       "      <td>The Mummies of Urumchi</td>\n",
       "      <td>6</td>\n",
       "    </tr>\n",
       "  </tbody>\n",
       "</table>\n",
       "</div>"
      ],
      "text/plain": [
       "   Unnamed: 0  User.ID                                         Book.Title  \\\n",
       "0           1   276726                                Classical Mythology   \n",
       "1           2   276729                                       Clara Callan   \n",
       "2           3   276729                               Decision in Normandy   \n",
       "3           4   276736  Flu: The Story of the Great Influenza Pandemic...   \n",
       "4           5   276737                             The Mummies of Urumchi   \n",
       "\n",
       "   Book.Rating  \n",
       "0            5  \n",
       "1            3  \n",
       "2            6  \n",
       "3            8  \n",
       "4            6  "
      ]
     },
     "execution_count": 16,
     "metadata": {},
     "output_type": "execute_result"
    }
   ],
   "source": [
    "book.head()"
   ]
  },
  {
   "cell_type": "code",
   "execution_count": 17,
   "metadata": {
    "ExecuteTime": {
     "end_time": "2021-06-13T19:21:22.168443Z",
     "start_time": "2021-06-13T19:21:22.139441Z"
    }
   },
   "outputs": [
    {
     "data": {
      "text/html": [
       "<div>\n",
       "<style scoped>\n",
       "    .dataframe tbody tr th:only-of-type {\n",
       "        vertical-align: middle;\n",
       "    }\n",
       "\n",
       "    .dataframe tbody tr th {\n",
       "        vertical-align: top;\n",
       "    }\n",
       "\n",
       "    .dataframe thead th {\n",
       "        text-align: right;\n",
       "    }\n",
       "</style>\n",
       "<table border=\"1\" class=\"dataframe\">\n",
       "  <thead>\n",
       "    <tr style=\"text-align: right;\">\n",
       "      <th></th>\n",
       "      <th>Unnamed: 0</th>\n",
       "      <th>User.ID</th>\n",
       "      <th>Book.Title</th>\n",
       "      <th>Book.Rating</th>\n",
       "    </tr>\n",
       "  </thead>\n",
       "  <tbody>\n",
       "    <tr>\n",
       "      <th>9995</th>\n",
       "      <td>9996</td>\n",
       "      <td>162121</td>\n",
       "      <td>American Fried: Adventures of a Happy Eater.</td>\n",
       "      <td>7</td>\n",
       "    </tr>\n",
       "    <tr>\n",
       "      <th>9996</th>\n",
       "      <td>9997</td>\n",
       "      <td>162121</td>\n",
       "      <td>Cannibal In Manhattan</td>\n",
       "      <td>9</td>\n",
       "    </tr>\n",
       "    <tr>\n",
       "      <th>9997</th>\n",
       "      <td>9998</td>\n",
       "      <td>162121</td>\n",
       "      <td>How to Flirt: A Practical Guide</td>\n",
       "      <td>7</td>\n",
       "    </tr>\n",
       "    <tr>\n",
       "      <th>9998</th>\n",
       "      <td>9999</td>\n",
       "      <td>162121</td>\n",
       "      <td>Twilight</td>\n",
       "      <td>8</td>\n",
       "    </tr>\n",
       "    <tr>\n",
       "      <th>9999</th>\n",
       "      <td>10000</td>\n",
       "      <td>162129</td>\n",
       "      <td>Kids Say the Darndest Things</td>\n",
       "      <td>6</td>\n",
       "    </tr>\n",
       "  </tbody>\n",
       "</table>\n",
       "</div>"
      ],
      "text/plain": [
       "      Unnamed: 0  User.ID                                    Book.Title  \\\n",
       "9995        9996   162121  American Fried: Adventures of a Happy Eater.   \n",
       "9996        9997   162121                         Cannibal In Manhattan   \n",
       "9997        9998   162121               How to Flirt: A Practical Guide   \n",
       "9998        9999   162121                                      Twilight   \n",
       "9999       10000   162129                  Kids Say the Darndest Things   \n",
       "\n",
       "      Book.Rating  \n",
       "9995            7  \n",
       "9996            9  \n",
       "9997            7  \n",
       "9998            8  \n",
       "9999            6  "
      ]
     },
     "execution_count": 17,
     "metadata": {},
     "output_type": "execute_result"
    }
   ],
   "source": [
    "book.tail()"
   ]
  },
  {
   "cell_type": "code",
   "execution_count": 18,
   "metadata": {
    "ExecuteTime": {
     "end_time": "2021-06-13T19:21:49.972033Z",
     "start_time": "2021-06-13T19:21:49.959033Z"
    }
   },
   "outputs": [
    {
     "data": {
      "text/plain": [
       "(10000, 4)"
      ]
     },
     "execution_count": 18,
     "metadata": {},
     "output_type": "execute_result"
    }
   ],
   "source": [
    "book.shape"
   ]
  },
  {
   "cell_type": "code",
   "execution_count": 20,
   "metadata": {
    "ExecuteTime": {
     "end_time": "2021-06-13T19:23:05.193336Z",
     "start_time": "2021-06-13T19:23:05.019326Z"
    }
   },
   "outputs": [
    {
     "data": {
      "text/html": [
       "<div>\n",
       "<style scoped>\n",
       "    .dataframe tbody tr th:only-of-type {\n",
       "        vertical-align: middle;\n",
       "    }\n",
       "\n",
       "    .dataframe tbody tr th {\n",
       "        vertical-align: top;\n",
       "    }\n",
       "\n",
       "    .dataframe thead th {\n",
       "        text-align: right;\n",
       "    }\n",
       "</style>\n",
       "<table border=\"1\" class=\"dataframe\">\n",
       "  <thead>\n",
       "    <tr style=\"text-align: right;\">\n",
       "      <th></th>\n",
       "      <th>Unnamed: 0</th>\n",
       "      <th>User.ID</th>\n",
       "      <th>Book.Rating</th>\n",
       "    </tr>\n",
       "    <tr>\n",
       "      <th>Book.Title</th>\n",
       "      <th></th>\n",
       "      <th></th>\n",
       "      <th></th>\n",
       "    </tr>\n",
       "  </thead>\n",
       "  <tbody>\n",
       "    <tr>\n",
       "      <th>Jason, Madison &amp;amp</th>\n",
       "      <td>4905.0</td>\n",
       "      <td>2106.0</td>\n",
       "      <td>8.0</td>\n",
       "    </tr>\n",
       "    <tr>\n",
       "      <th>Other Stories;Merril;1985;McClelland &amp;amp</th>\n",
       "      <td>4907.0</td>\n",
       "      <td>2106.0</td>\n",
       "      <td>6.0</td>\n",
       "    </tr>\n",
       "    <tr>\n",
       "      <th>Repairing PC Drives &amp;amp</th>\n",
       "      <td>4906.0</td>\n",
       "      <td>2106.0</td>\n",
       "      <td>4.0</td>\n",
       "    </tr>\n",
       "    <tr>\n",
       "      <th>'48</th>\n",
       "      <td>4405.0</td>\n",
       "      <td>1805.0</td>\n",
       "      <td>7.0</td>\n",
       "    </tr>\n",
       "    <tr>\n",
       "      <th>'O Au No Keia: Voices from Hawai'I's Mahu and Transgender Communities</th>\n",
       "      <td>9231.0</td>\n",
       "      <td>161737.0</td>\n",
       "      <td>8.0</td>\n",
       "    </tr>\n",
       "  </tbody>\n",
       "</table>\n",
       "</div>"
      ],
      "text/plain": [
       "                                                    Unnamed: 0   User.ID  \\\n",
       "Book.Title                                                                 \n",
       " Jason, Madison &amp                                    4905.0    2106.0   \n",
       " Other Stories;Merril;1985;McClelland &amp              4907.0    2106.0   \n",
       " Repairing PC Drives &amp                               4906.0    2106.0   \n",
       "'48                                                     4405.0    1805.0   \n",
       "'O Au No Keia: Voices from Hawai'I's Mahu and T...      9231.0  161737.0   \n",
       "\n",
       "                                                    Book.Rating  \n",
       "Book.Title                                                       \n",
       " Jason, Madison &amp                                        8.0  \n",
       " Other Stories;Merril;1985;McClelland &amp                  6.0  \n",
       " Repairing PC Drives &amp                                   4.0  \n",
       "'48                                                         7.0  \n",
       "'O Au No Keia: Voices from Hawai'I's Mahu and T...          8.0  "
      ]
     },
     "execution_count": 20,
     "metadata": {},
     "output_type": "execute_result"
    }
   ],
   "source": [
    "book.groupby('Book.Title').mean().head()"
   ]
  },
  {
   "cell_type": "code",
   "execution_count": 27,
   "metadata": {
    "ExecuteTime": {
     "end_time": "2021-06-13T19:29:09.001144Z",
     "start_time": "2021-06-13T19:29:08.983143Z"
    }
   },
   "outputs": [
    {
     "name": "stdout",
     "output_type": "stream",
     "text": [
      "0\n",
      "0\n"
     ]
    }
   ],
   "source": [
    "print(book[\"Book.Title\"].isnull().sum() )\n",
    "print(book[\"Book.Rating\"].isnull().sum() )"
   ]
  },
  {
   "cell_type": "code",
   "execution_count": null,
   "metadata": {
    "ExecuteTime": {
     "end_time": "2021-06-13T19:27:55.932965Z",
     "start_time": "2021-06-13T19:27:55.919964Z"
    }
   },
   "outputs": [],
   "source": [
    "n_users = book['User'].nunique()\n",
    "n_books = book['Title'].nunique()\n",
    "\n",
    "print('Num. of Users: '+ str(n_users))\n",
    "print('Num of Books: '+str(n_books))"
   ]
  },
  {
   "cell_type": "code",
   "execution_count": 28,
   "metadata": {
    "ExecuteTime": {
     "end_time": "2021-06-13T19:31:00.067497Z",
     "start_time": "2021-06-13T19:30:59.986492Z"
    }
   },
   "outputs": [
    {
     "data": {
      "text/html": [
       "<div>\n",
       "<style scoped>\n",
       "    .dataframe tbody tr th:only-of-type {\n",
       "        vertical-align: middle;\n",
       "    }\n",
       "\n",
       "    .dataframe tbody tr th {\n",
       "        vertical-align: top;\n",
       "    }\n",
       "\n",
       "    .dataframe thead th {\n",
       "        text-align: right;\n",
       "    }\n",
       "</style>\n",
       "<table border=\"1\" class=\"dataframe\">\n",
       "  <thead>\n",
       "    <tr style=\"text-align: right;\">\n",
       "      <th></th>\n",
       "      <th>Unnamed: 0</th>\n",
       "      <th>User.ID</th>\n",
       "    </tr>\n",
       "    <tr>\n",
       "      <th>Book.Rating</th>\n",
       "      <th></th>\n",
       "      <th></th>\n",
       "    </tr>\n",
       "  </thead>\n",
       "  <tbody>\n",
       "    <tr>\n",
       "      <th>1</th>\n",
       "      <td>5523.209302</td>\n",
       "      <td>82598.906977</td>\n",
       "    </tr>\n",
       "    <tr>\n",
       "      <th>2</th>\n",
       "      <td>4911.476190</td>\n",
       "      <td>122724.746032</td>\n",
       "    </tr>\n",
       "    <tr>\n",
       "      <th>3</th>\n",
       "      <td>4758.897260</td>\n",
       "      <td>110713.438356</td>\n",
       "    </tr>\n",
       "    <tr>\n",
       "      <th>4</th>\n",
       "      <td>4914.270042</td>\n",
       "      <td>114933.189873</td>\n",
       "    </tr>\n",
       "    <tr>\n",
       "      <th>5</th>\n",
       "      <td>4891.099305</td>\n",
       "      <td>109836.636544</td>\n",
       "    </tr>\n",
       "    <tr>\n",
       "      <th>6</th>\n",
       "      <td>5042.135870</td>\n",
       "      <td>94575.890217</td>\n",
       "    </tr>\n",
       "    <tr>\n",
       "      <th>7</th>\n",
       "      <td>5170.971580</td>\n",
       "      <td>86765.114644</td>\n",
       "    </tr>\n",
       "    <tr>\n",
       "      <th>8</th>\n",
       "      <td>4939.773982</td>\n",
       "      <td>99391.067893</td>\n",
       "    </tr>\n",
       "    <tr>\n",
       "      <th>9</th>\n",
       "      <td>4891.517749</td>\n",
       "      <td>95875.471534</td>\n",
       "    </tr>\n",
       "    <tr>\n",
       "      <th>10</th>\n",
       "      <td>5034.075635</td>\n",
       "      <td>87028.972864</td>\n",
       "    </tr>\n",
       "  </tbody>\n",
       "</table>\n",
       "</div>"
      ],
      "text/plain": [
       "              Unnamed: 0        User.ID\n",
       "Book.Rating                            \n",
       "1            5523.209302   82598.906977\n",
       "2            4911.476190  122724.746032\n",
       "3            4758.897260  110713.438356\n",
       "4            4914.270042  114933.189873\n",
       "5            4891.099305  109836.636544\n",
       "6            5042.135870   94575.890217\n",
       "7            5170.971580   86765.114644\n",
       "8            4939.773982   99391.067893\n",
       "9            4891.517749   95875.471534\n",
       "10           5034.075635   87028.972864"
      ]
     },
     "execution_count": 28,
     "metadata": {},
     "output_type": "execute_result"
    }
   ],
   "source": [
    "book.groupby('Book.Rating').mean()"
   ]
  },
  {
   "cell_type": "code",
   "execution_count": 29,
   "metadata": {
    "ExecuteTime": {
     "end_time": "2021-06-13T19:31:48.115245Z",
     "start_time": "2021-06-13T19:31:48.032240Z"
    }
   },
   "outputs": [
    {
     "data": {
      "text/plain": [
       "Book.Title\n",
       "Clear Light of Day                                         10.0\n",
       "Substitute Teaching: A Handbook for Hassle-Free Subbing    10.0\n",
       "Daughter of Camelot (Merlin's Legacy, No 6)                10.0\n",
       "The Resourceful English Teacher                            10.0\n",
       "Das verbotene Lied.                                        10.0\n",
       "Name: Book.Rating, dtype: float64"
      ]
     },
     "execution_count": 29,
     "metadata": {},
     "output_type": "execute_result"
    }
   ],
   "source": [
    "book.groupby('Book.Title')['Book.Rating'].mean().sort_values(ascending=False).head()"
   ]
  },
  {
   "cell_type": "code",
   "execution_count": 30,
   "metadata": {
    "ExecuteTime": {
     "end_time": "2021-06-13T19:32:24.397320Z",
     "start_time": "2021-06-13T19:32:24.323316Z"
    }
   },
   "outputs": [
    {
     "data": {
      "text/plain": [
       "Book.Title\n",
       "Fahrenheit 451                                     5\n",
       "Vanished                                           4\n",
       "Charlie and the Chocolate Factory                  4\n",
       "Stardust                                           4\n",
       "The Amber Spyglass (His Dark Materials, Book 3)    4\n",
       "Name: Book.Rating, dtype: int64"
      ]
     },
     "execution_count": 30,
     "metadata": {},
     "output_type": "execute_result"
    }
   ],
   "source": [
    "book.groupby('Book.Title')['Book.Rating'].count().sort_values(ascending=False).head()"
   ]
  },
  {
   "cell_type": "code",
   "execution_count": 31,
   "metadata": {
    "ExecuteTime": {
     "end_time": "2021-06-13T19:33:02.657509Z",
     "start_time": "2021-06-13T19:33:02.571504Z"
    }
   },
   "outputs": [
    {
     "data": {
      "text/html": [
       "<div>\n",
       "<style scoped>\n",
       "    .dataframe tbody tr th:only-of-type {\n",
       "        vertical-align: middle;\n",
       "    }\n",
       "\n",
       "    .dataframe tbody tr th {\n",
       "        vertical-align: top;\n",
       "    }\n",
       "\n",
       "    .dataframe thead th {\n",
       "        text-align: right;\n",
       "    }\n",
       "</style>\n",
       "<table border=\"1\" class=\"dataframe\">\n",
       "  <thead>\n",
       "    <tr style=\"text-align: right;\">\n",
       "      <th></th>\n",
       "      <th>Book.Rating</th>\n",
       "    </tr>\n",
       "    <tr>\n",
       "      <th>Book.Title</th>\n",
       "      <th></th>\n",
       "    </tr>\n",
       "  </thead>\n",
       "  <tbody>\n",
       "    <tr>\n",
       "      <th>Jason, Madison &amp;amp</th>\n",
       "      <td>8.0</td>\n",
       "    </tr>\n",
       "    <tr>\n",
       "      <th>Other Stories;Merril;1985;McClelland &amp;amp</th>\n",
       "      <td>6.0</td>\n",
       "    </tr>\n",
       "    <tr>\n",
       "      <th>Repairing PC Drives &amp;amp</th>\n",
       "      <td>4.0</td>\n",
       "    </tr>\n",
       "    <tr>\n",
       "      <th>'48</th>\n",
       "      <td>7.0</td>\n",
       "    </tr>\n",
       "    <tr>\n",
       "      <th>'O Au No Keia: Voices from Hawai'I's Mahu and Transgender Communities</th>\n",
       "      <td>8.0</td>\n",
       "    </tr>\n",
       "  </tbody>\n",
       "</table>\n",
       "</div>"
      ],
      "text/plain": [
       "                                                    Book.Rating\n",
       "Book.Title                                                     \n",
       " Jason, Madison &amp                                        8.0\n",
       " Other Stories;Merril;1985;McClelland &amp                  6.0\n",
       " Repairing PC Drives &amp                                   4.0\n",
       "'48                                                         7.0\n",
       "'O Au No Keia: Voices from Hawai'I's Mahu and T...          8.0"
      ]
     },
     "execution_count": 31,
     "metadata": {},
     "output_type": "execute_result"
    }
   ],
   "source": [
    "ratings = pd.DataFrame(book.groupby('Book.Title')['Book.Rating'].mean())\n",
    "ratings.head()"
   ]
  },
  {
   "cell_type": "code",
   "execution_count": 32,
   "metadata": {
    "ExecuteTime": {
     "end_time": "2021-06-13T19:33:46.164997Z",
     "start_time": "2021-06-13T19:33:46.055991Z"
    }
   },
   "outputs": [
    {
     "data": {
      "text/html": [
       "<div>\n",
       "<style scoped>\n",
       "    .dataframe tbody tr th:only-of-type {\n",
       "        vertical-align: middle;\n",
       "    }\n",
       "\n",
       "    .dataframe tbody tr th {\n",
       "        vertical-align: top;\n",
       "    }\n",
       "\n",
       "    .dataframe thead th {\n",
       "        text-align: right;\n",
       "    }\n",
       "</style>\n",
       "<table border=\"1\" class=\"dataframe\">\n",
       "  <thead>\n",
       "    <tr style=\"text-align: right;\">\n",
       "      <th></th>\n",
       "      <th>Book.Rating</th>\n",
       "      <th>num of ratings</th>\n",
       "    </tr>\n",
       "    <tr>\n",
       "      <th>Book.Title</th>\n",
       "      <th></th>\n",
       "      <th></th>\n",
       "    </tr>\n",
       "  </thead>\n",
       "  <tbody>\n",
       "    <tr>\n",
       "      <th>Jason, Madison &amp;amp</th>\n",
       "      <td>8.0</td>\n",
       "      <td>1</td>\n",
       "    </tr>\n",
       "    <tr>\n",
       "      <th>Other Stories;Merril;1985;McClelland &amp;amp</th>\n",
       "      <td>6.0</td>\n",
       "      <td>1</td>\n",
       "    </tr>\n",
       "    <tr>\n",
       "      <th>Repairing PC Drives &amp;amp</th>\n",
       "      <td>4.0</td>\n",
       "      <td>1</td>\n",
       "    </tr>\n",
       "    <tr>\n",
       "      <th>'48</th>\n",
       "      <td>7.0</td>\n",
       "      <td>1</td>\n",
       "    </tr>\n",
       "    <tr>\n",
       "      <th>'O Au No Keia: Voices from Hawai'I's Mahu and Transgender Communities</th>\n",
       "      <td>8.0</td>\n",
       "      <td>1</td>\n",
       "    </tr>\n",
       "    <tr>\n",
       "      <th>...</th>\n",
       "      <td>...</td>\n",
       "      <td>...</td>\n",
       "    </tr>\n",
       "    <tr>\n",
       "      <th>\\Surely You're Joking, Mr. Feynman!\\: Adventures of a Curious Character</th>\n",
       "      <td>8.0</td>\n",
       "      <td>1</td>\n",
       "    </tr>\n",
       "    <tr>\n",
       "      <th>\\Well, there's your problem\\: Cartoons</th>\n",
       "      <td>9.0</td>\n",
       "      <td>1</td>\n",
       "    </tr>\n",
       "    <tr>\n",
       "      <th>iI Paradiso Degli Orchi</th>\n",
       "      <td>7.0</td>\n",
       "      <td>1</td>\n",
       "    </tr>\n",
       "    <tr>\n",
       "      <th>stardust</th>\n",
       "      <td>5.0</td>\n",
       "      <td>1</td>\n",
       "    </tr>\n",
       "    <tr>\n",
       "      <th>Ã?Â?bermorgen.</th>\n",
       "      <td>4.0</td>\n",
       "      <td>1</td>\n",
       "    </tr>\n",
       "  </tbody>\n",
       "</table>\n",
       "<p>9659 rows × 2 columns</p>\n",
       "</div>"
      ],
      "text/plain": [
       "                                                    Book.Rating  \\\n",
       "Book.Title                                                        \n",
       " Jason, Madison &amp                                        8.0   \n",
       " Other Stories;Merril;1985;McClelland &amp                  6.0   \n",
       " Repairing PC Drives &amp                                   4.0   \n",
       "'48                                                         7.0   \n",
       "'O Au No Keia: Voices from Hawai'I's Mahu and T...          8.0   \n",
       "...                                                         ...   \n",
       "\\Surely You're Joking, Mr. Feynman!\\: Adventure...          8.0   \n",
       "\\Well, there's your problem\\: Cartoons                      9.0   \n",
       "iI Paradiso Degli Orchi                                     7.0   \n",
       "stardust                                                    5.0   \n",
       "Ã?Â?bermorgen.                                              4.0   \n",
       "\n",
       "                                                    num of ratings  \n",
       "Book.Title                                                          \n",
       " Jason, Madison &amp                                             1  \n",
       " Other Stories;Merril;1985;McClelland &amp                       1  \n",
       " Repairing PC Drives &amp                                        1  \n",
       "'48                                                              1  \n",
       "'O Au No Keia: Voices from Hawai'I's Mahu and T...               1  \n",
       "...                                                            ...  \n",
       "\\Surely You're Joking, Mr. Feynman!\\: Adventure...               1  \n",
       "\\Well, there's your problem\\: Cartoons                           1  \n",
       "iI Paradiso Degli Orchi                                          1  \n",
       "stardust                                                         1  \n",
       "Ã?Â?bermorgen.                                                   1  \n",
       "\n",
       "[9659 rows x 2 columns]"
      ]
     },
     "execution_count": 32,
     "metadata": {},
     "output_type": "execute_result"
    }
   ],
   "source": [
    "ratings['num of ratings'] = pd.DataFrame(book.groupby('Book.Title')['Book.Rating'].count())\n",
    "ratings"
   ]
  },
  {
   "cell_type": "code",
   "execution_count": 33,
   "metadata": {
    "ExecuteTime": {
     "end_time": "2021-06-13T19:34:16.264719Z",
     "start_time": "2021-06-13T19:34:14.264604Z"
    }
   },
   "outputs": [
    {
     "data": {
      "text/plain": [
       "<AxesSubplot:>"
      ]
     },
     "execution_count": 33,
     "metadata": {},
     "output_type": "execute_result"
    },
    {
     "data": {
      "image/png": "[encoded data removed]",
      "text/plain": [
       "<Figure size 720x288 with 1 Axes>"
      ]
     },
     "metadata": {
      "needs_background": "light"
     },
     "output_type": "display_data"
    }
   ],
   "source": [
    "plt.figure(figsize=(10,4))\n",
    "ratings['num of ratings'].hist(bins=100)"
   ]
  },
  {
   "cell_type": "code",
   "execution_count": 35,
   "metadata": {
    "ExecuteTime": {
     "end_time": "2021-06-13T19:35:17.957247Z",
     "start_time": "2021-06-13T19:35:16.697175Z"
    }
   },
   "outputs": [
    {
     "data": {
      "text/plain": [
       "<AxesSubplot:>"
      ]
     },
     "execution_count": 35,
     "metadata": {},
     "output_type": "execute_result"
    },
    {
     "data": {
      "image/png": "[encoded data removed]",
      "text/plain": [
       "<Figure size 720x288 with 1 Axes>"
      ]
     },
     "metadata": {
      "needs_background": "light"
     },
     "output_type": "display_data"
    }
   ],
   "source": [
    "plt.figure(figsize=(10,4))\n",
    "ratings['Book.Rating'].hist(bins=100)"
   ]
  },
  {
   "cell_type": "code",
   "execution_count": 36,
   "metadata": {
    "ExecuteTime": {
     "end_time": "2021-06-13T19:36:21.198865Z",
     "start_time": "2021-06-13T19:36:18.995739Z"
    }
   },
   "outputs": [
    {
     "data": {
      "text/plain": [
       "<seaborn.axisgrid.JointGrid at 0xd4e4a60>"
      ]
     },
     "execution_count": 36,
     "metadata": {},
     "output_type": "execute_result"
    },
    {
     "data": {
      "image/png": "[encoded data removed]",
      "text/plain": [
       "<Figure size 432x432 with 3 Axes>"
      ]
     },
     "metadata": {
      "needs_background": "light"
     },
     "output_type": "display_data"
    }
   ],
   "source": [
    "sns.jointplot(x='Book.Rating',y='num of ratings',data=ratings,alpha=0.5)"
   ]
  },
  {
   "cell_type": "code",
   "execution_count": 37,
   "metadata": {
    "ExecuteTime": {
     "end_time": "2021-06-13T19:36:57.854961Z",
     "start_time": "2021-06-13T19:36:57.112919Z"
    }
   },
   "outputs": [
    {
     "data": {
      "text/plain": [
       "(10000, 11435)"
      ]
     },
     "execution_count": 37,
     "metadata": {},
     "output_type": "execute_result"
    }
   ],
   "source": [
    "tfid = TfidfVectorizer(stop_words=\"english\")\n",
    "tfid_matrix = tfid.fit_transform(book['Book.Title'])\n",
    "tfid_matrix.shape"
   ]
  },
  {
   "cell_type": "code",
   "execution_count": 38,
   "metadata": {
    "ExecuteTime": {
     "end_time": "2021-06-13T19:37:20.787273Z",
     "start_time": "2021-06-13T19:37:20.773272Z"
    }
   },
   "outputs": [
    {
     "name": "stdout",
     "output_type": "stream",
     "text": [
      "  (0, 6968)\t0.6798989461050784\n",
      "  (0, 2262)\t0.733305818254024\n",
      "  (1, 1816)\t0.7071067811865476\n",
      "  (1, 2252)\t0.7071067811865476\n",
      "  (2, 7166)\t0.6625534369282937\n",
      "  (2, 2933)\t0.749014648197554\n",
      "  (3, 1996)\t0.37362521359059986\n",
      "  (3, 10886)\t0.37362521359059986\n",
      "  (3, 9021)\t0.2813160805754238\n",
      "  (3, 114)\t0.35770766385737696\n",
      "  (3, 7472)\t0.37362521359059986\n",
      "  (3, 5322)\t0.37362521359059986\n",
      "  (3, 4613)\t0.23030946840620475\n",
      "  (3, 9756)\t0.2046583436772717\n",
      "  (3, 4139)\t0.37362521359059986\n",
      "  (4, 10725)\t0.7071067811865476\n",
      "  (4, 6925)\t0.7071067811865476\n",
      "  (5, 11133)\t0.5741118863839041\n",
      "  (5, 4529)\t0.5301064251194945\n",
      "  (5, 5774)\t0.6240053845598971\n",
      "  (6, 5246)\t0.4702119328617262\n",
      "  (6, 5006)\t0.4911357837677152\n",
      "  (6, 6677)\t0.4702119328617262\n",
      "  (6, 4187)\t0.4911357837677152\n",
      "  (6, 11266)\t0.27454099911420016\n",
      "  :\t:\n",
      "  (9993, 7493)\t0.7043514860336613\n",
      "  (9994, 9700)\t0.4171831630623902\n",
      "  (9994, 11276)\t0.37701826971292507\n",
      "  (9994, 10486)\t0.39940991461887054\n",
      "  (9994, 11295)\t0.3162511319165422\n",
      "  (9994, 6108)\t0.34663470081473363\n",
      "  (9994, 10436)\t0.33513416683083763\n",
      "  (9994, 5055)\t0.2727127110372571\n",
      "  (9994, 9113)\t0.2264921047811197\n",
      "  (9994, 4613)\t0.25715939133111937\n",
      "  (9995, 3443)\t0.5445276383788942\n",
      "  (9995, 4279)\t0.52733560642111\n",
      "  (9995, 4793)\t0.4408669669853471\n",
      "  (9995, 559)\t0.3740528837691166\n",
      "  (9995, 740)\t0.3018734284549289\n",
      "  (9996, 1866)\t0.7729346008644407\n",
      "  (9996, 6358)\t0.6344856994342173\n",
      "  (9997, 4127)\t0.738845744479217\n",
      "  (9997, 7984)\t0.5367939467017678\n",
      "  (9997, 4692)\t0.4073809330949243\n",
      "  (9998, 10568)\t1.0\n",
      "  (9999, 2862)\t0.6198552770699516\n",
      "  (9999, 10186)\t0.43160719521166174\n",
      "  (9999, 8905)\t0.48047412333862766\n",
      "  (9999, 5733)\t0.4456896693126657\n"
     ]
    }
   ],
   "source": [
    "print(tfid_matrix)"
   ]
  },
  {
   "cell_type": "code",
   "execution_count": 39,
   "metadata": {
    "ExecuteTime": {
     "end_time": "2021-06-13T19:37:44.837648Z",
     "start_time": "2021-06-13T19:37:44.713641Z"
    }
   },
   "outputs": [
    {
     "name": "stdout",
     "output_type": "stream",
     "text": [
      "{'classical': 2262, 'mythology': 6968, 'clara': 2252, 'callan': 1816, 'decision': 2933, 'normandy': 7166, 'flu': 4139, 'story': 9756, 'great': 4613, 'influenza': 5322, 'pandemic': 7472, '1918': 114, 'search': 9021, 'virus': 10886, 'caused': 1996, 'mummies': 6925, 'urumchi': 10725, 'kitchen': 5774, 'god': 4529, 'wife': 11133, 'world': 11266, 'foremost': 4187, 'military': 6677, 'historians': 5006, 'imagine': 5246, 'pleading': 7844, 'guilty': 4698, 'black': 1425, 'flag': 4095, 'romance': 8685, 'reality': 8350, 'life': 6054, 'pirates': 7793, 'll': 6121, 'stories': 9752, 'nights': 7117, 'station': 9696, 'street': 9784, 'hitler': 5017, 'secret': 9034, 'bankers': 1179, 'myth': 6965, 'swiss': 9965, 'neutrality': 7070, 'holocaust': 5047, 'middle': 6655, 'jane': 5505, 'doe': 3214, 'second': 9032, 'chicken': 2138, 'soup': 9523, 'woman': 11231, 'soul': 9516, 'series': 9113, 'witchfinder': 11204, 'amos': 758, 'walker': 10965, 'mystery': 6961, 'cunning': 2767, 'man': 6341, 'social': 9444, 'history': 5010, 'rats': 8322, 'goodbye': 4550, 'buttermilk': 1775, 'sky': 9368, 'testament': 10150, 'beloved': 1321, 'plume': 7854, 'contemporary': 2525, 'fiction': 4011, 'dumb': 3383, 'century': 2035, 'onion': 7313, 'presents': 8023, '100': 8, 'years': 11336, 'headlines': 4863, 'america': 739, 'finest': 4050, 'news': 7081, 'source': 9525, 'new': 7075, 'vegetarian': 10779, 'bold': 1523, 'beautiful': 1270, 'recipes': 8376, 'occasion': 7262, 'known': 5805, 'know': 5802, 'learn': 5944, 'mistakes': 6738, 'afford': 578, 'make': 6315, 'mary': 6443, 'kate': 5691, 'amp': 761, 'ashley': 966, 'switching': 9970, 'goals': 4527, 'starring': 9683, 'tell': 10100, 'isn': 5469, 'happening': 4788, 'flood': 4129, 'mississippi': 6735, '1927': 116, 'wild': 11136, 'animus': 817, 'airframe': 626, 'timeline': 10262, 'silent': 9289, 'planet': 7812, 'prague': 7990, 'novel': 7197, 'chocolate': 2165, 'jesus': 5547, 'wie': 11129, 'barney': 1207, 'es': 3693, 'sieht': 9275, 'der': 3009, 'fluch': 4140, 'kaiserin': 5666, 'ein': 3499, 'richter': 8586, 'di': 3063, 'roman': 8684, 'sturmzeit': 9822, 'tage': 9993, 'unschuld': 10688, 'lying': 6227, 'awake': 1090, 'kill': 5736, 'mockingbird': 6760, 'seabiscuit': 9013, 'american': 740, 'legend': 5966, 'pigs': 7763, 'heaven': 4886, 'miss': 6729, 'zukas': 11397, 'raven': 8327, 'dance': 2836, 'pride': 8046, 'prejudice': 8007, 'therapeutic': 10178, 'touch': 10370, 'use': 10729, 'hands': 4772, 'help': 4917, 'heal': 4864, 'downtown': 3284, 'icebound': 5191, 'seeing': 9048, 'corner': 2592, 'eye': 3850, 'isle': 5466, 'dogs': 3220, 'purity': 8187, 'death': 2915, 'year': 11333, 'different': 3106, 'proxies': 8138, 'left': 5963, 'earth': 3430, 'days': 2896, 'lawyer': 5924, 'love': 6183, 'medicine': 6546, 'miracles': 6711, 'king': 5751, 'men': 6582, 'pacific': 7432, 'northwest': 7172, 'soldier': 9459, 'war': 10985, 'getting': 4470, 'wines': 11168, 'wineries': 11167, 'atmosphere': 1008, 'eternity': 3738, 'india': 5300, 'lonesome': 6145, 'dove': 3275, 'shabanu': 9146, 'daughter': 2875, 'wind': 11158, 'border': 1556, 'trilogy': 10481, 'haveli': 4845, 'laurel': 5915, 'leaf': 5937, 'books': 1545, 'lieux': 6052, 'dits': 3188, 'dragons': 3301, 'eden': 3461, 'speculations': 9561, 'evolution': 3778, 'human': 5138, 'intelligence': 5381, 'yawning': 11332, 'heights': 4900, 'breathing': 1634, 'lessons': 6001, 'joy': 5606, 'luck': 6206, 'club': 2313, 'heart': 4874, 'darkness': 2856, 'wordsworth': 11253, 'collection': 2349, 'angel': 792, 'near': 7024, 'tess': 10146, 'urbervilles': 10720, 'classics': 2263, 'adventures': 559, 'drew': 3337, 'ellie': 3538, 'magical': 6281, 'dress': 3334, 'accidental': 500, 'virgin': 10879, 'tao': 10042, 'pooh': 7908, 'prince': 8055, 'little': 6109, 'instruction': 5376, 'book': 1540, 'paperback': 7484, 'starship': 9687, 'troopers': 10498, 'ruby': 8748, 'smoke': 9421, 'sally': 8838, 'lockhart': 6134, 'beauty': 1271, 'illustrated': 5236, 'anil': 807, 'ghost': 4476, 'prescription': 8019, 'terror': 10143, 'modern': 6765, 'manners': 6368, 'etiquette': 3746, 'rude': 8750, 'people': 7632, 'turning': 10554, 'thirty': 10196, 'decipher': 2931, 'cousin': 2646, 'removed': 8460, 'money': 6787, 'madness': 6270, 'family': 3901, 'robert': 8656, 'lowell': 6197, 'standing': 9662, 'firm': 4070, 'vice': 10831, 'presidential': 8029, 'memoir': 6575, 'team': 10076, 'bush': 1760, 'leadership': 5935, 'white': 11106, 'house': 5119, 'right': 8604, 'surprise': 9924, 'presidency': 8027, 'george': 4447, 'daybreakers': 2891, 'louis': 6178, 'lamour': 5872, 'catcher': 1971, 'rye': 8793, 'el': 3510, 'senor': 9083, 'los': 6165, 'anillos': 809, 'la': 5855, 'comunidad': 2455, 'del': 2960, 'anillo': 808, 'lord': 6161, 'rings': 8613, 'spanish': 9544, 'las': 5899, 'dos': 3263, 'torres': 10361, 'retorno': 8528, 'rey': 8566, 'tolkien': 10311, 'midnight': 6658, 'garden': 4378, 'good': 4549, 'evil': 3777, 'savannah': 8893, 'pretend': 8036, 'don': 3241, 'fast': 3931, 'women': 11233, 'female': 3977, 'pasquale': 7537, 'nose': 7175, 'idle': 5213, 'italian': 5474, 'town': 10384, 'gospel': 4560, 'judas': 5614, 'prize': 8077, '1987': 142, 'henry': 4928, 'awards': 1096, 'rich': 8583, 'dad': 2814, 'poor': 7912, 'teach': 10071, 'kids': 5733, 'class': 2259, 'pillars': 7771, 'mcdonald': 6517, 'arches': 911, 'creating': 2682, 'wealth': 11030, 'retire': 8523, 'using': 10734, 'allen': 683, 'seven': 9132, 'principles': 8062, 'corelli': 2589, 'mandolin': 6350, 'animal': 811, 'healing': 4865, 'heartwarming': 4882, 'look': 6153, 'spiritual': 9595, 'bond': 1531, 'animals': 812, 'humans': 5143, 'meet': 6557, 'tu': 10528, 'nombre': 7151, 'escrito': 3701, 'en': 3585, 'agua': 614, 'sonrisa': 9495, 'vertical': 10815, 'relics': 8441, 'star': 9668, 'trek': 10460, 'generation': 4431, 'bless': 1457, 'beasts': 1262, 'children': 2147, 'shadow': 9149, 'whisper': 11102, 'babylon': 1122, 'blood': 1475, 'oath': 7241, 'alibi': 666, 'beach': 1251, 'kiss': 5769, 'remembered': 8454, 'short': 9234, 'forever': 4192, 'dead': 2901, 'aim': 621, 'angels': 798, 'demons': 2991, 'deal': 2909, 'wanted': 10982, 'breath': 1632, 'true': 10514, 'obsession': 7258, 'revenge': 8547, 'murder': 6930, 'georgia': 4448, 'gonna': 4548, 'nail': 6980, 'feet': 3966, 'ground': 4665, 'mosquito': 6859, 'coast': 2318, 'oil': 7288, 'quart': 8211, 'low': 6195, 'ones': 7311, 'murderous': 6934, 'mother': 6863, 'innocent': 5348, 'victims': 10833, 'girl': 4498, 'loved': 6185, 'tom': 10319, 'gordon': 4558, 'bringing': 1670, 'inside': 5358, 'students': 9810, 'took': 10345, 'vegas': 10777, 'millions': 6685, 'oneprince': 7310, 'redaemian': 8388, 'chronicles': 2195, 'sum': 9875, 'fears': 3950, 'care': 1903, 'packages': 7434, 'letters': 6009, 'christopher': 2189, 'reeve': 8401, 'strangers': 9772, 'friends': 4284, 'deus': 3047, 'das': 2868, 'pequenas': 7637, 'coisas': 2335, 'lady': 5862, 'green': 4621, 'minor': 6702, 'indiscretions': 5308, 'signet': 9283, 'regency': 8413, 'solitude': 9465, 'altars': 707, 'coyote': 2662, 'waits': 10956, 'joe': 5572, 'leaphorn': 5942, 'jim': 5557, 'chee': 2106, 'novels': 7203, 'say': 8905, 'bye': 1779, 'slow': 9403, 'waltz': 10975, 'cedar': 2009, 'bend': 1326, 'minute': 6706, 'retreats': 8531, 'revive': 8557, 'spirits': 9594, 'just': 5654, 'minutes': 6707, 'day': 2889, 'pan': 7470, 'self': 9069, 'discovery': 3163, 'title': 10283, 'atonement': 1011, 'future': 4332, 'happened': 4787, 'angelic': 796, 'soulbane': 9517, 'stratagem': 9776, 'gangster': 4371, 'hush': 5169, 'hooper': 5091, 'kay': 5699, 'temor': 10105, 'temblor': 10104, 'estudios': 3734, 'sobre': 9442, 'amor': 753, 'rebecca': 8359, 'scarlet': 8921, 'letter': 6006, 'simple': 9306, 'diary': 3080, 'mad': 6260, 'mom': 6776, 'locked': 6132, 'time': 10260, 'contact': 2517, 'brimstone': 1666, 'wedding': 11040, 'catswold': 1990, 'portal': 7922, 'wolf': 11222, 'eyes': 3853, 'puerto': 8166, 'vallarta': 10754, 'squeeze': 9632, 'tree': 10455, 'grows': 4674, 'brooklyn': 1681, 'cybill': 2798, 'disobedience': 3173, 'survived': 9933, 'pageants': 7441, 'elvis': 3550, 'sex': 9139, 'bruce': 1690, 'willis': 11151, 'lies': 6049, 'marriage': 6422, 'motherhood': 6864, 'hollywood': 5045, 'irrepressible': 5452, 'urge': 10721, 'think': 10187, 'snow': 9434, 'wish': 11193, 'hitchhiker': 5014, 'guide': 4692, 'galaxy': 4355, 'crow': 2729, 'lake': 5866, 'today': 10294, 'antonia': 855, 'pen': 7614, 'pals': 7468, 'bridget': 1657, 'jones': 5588, 'dover': 3276, 'thrift': 10218, 'editions': 3471, 'crime': 2702, 'hardy': 4801, 'boys': 1597, '153': 68, 'skin': 9360, 'bones': 1536, 'law': 5919, 'jungle': 5642, 'case': 1949, 'file': 4030, '105': 21, 'cat': 1966, 'came': 1833, 'breakfast': 1626, 'hardcover': 4799, 'singleness': 9318, 'gift': 4484, 'return': 8535, 'policy': 7891, 'daddy': 2816, 'understanding': 10638, 'father': 3936, 'impact': 5256, 'night': 7110, 'mare': 6392, 'xanth': 11316, 'martian': 6433, 'kabale': 5660, 'und': 10629, 'liebe': 6042, 'illustrierte': 5237, 'mann': 6367, 'erzã': 3692, 'hlungen': 5022, 'kã': 5853, 'nig': 7107, 'gelb': 4418, 'fahrenheit': 3874, '451': 273, 'die': 3096, 'mars': 6428, 'chroniken': 2196, 'bã': 1782, 'se': 9011, 'kommt': 5813, 'auf': 1031, 'leisen': 5976, 'sohlen': 9454, 'lã': 6238, 'wenzahnwein': 11073, 'kind': 5746, 'von': 10924, 'morgen': 6837, 'mechanismen': 6540, 'freude': 4274, 'familientreffen': 3899, 'tod': 10293, 'schnell': 8952, 'mexico': 6643, 'veronika': 10806, 'deschliesst': 3016, 'zu': 11394, 'sterben': 9717, 'vernika': 10802, 'decides': 2929, 'den': 2994, 'zelten': 11367, 'klone': 5784, 'joanna': 5567, 'ist': 5473, 'mein': 6565, 'hintern': 4996, 'wirklich': 11186, 'dick': 3086, 'tagebuch': 9994, 'einer': 3503, 'empfindsamen': 3577, 'frau': 4259, 'haifischfrauen': 4737, 'cappuccino': 1886, 'jahre': 5494, 'aus': 1043, 'dem': 2977, 'des': 3011, 'adrian': 551, 'mole': 6772, 'schwarzer': 8965, 'tee': 10088, 'mit': 6748, 'drei': 3331, 'stã¼ck': 9828, 'zucker': 11395, 'querschã': 8224, 'â¼sse': 11428, 'downsize': 3282, 'korrekturen': 5827, 'neun': 7068, 'hebt': 4893, 'dachbalken': 2813, 'hoch': 5029, 'zimmerleute': 11375, 'seymour': 9143, 'wird': 11184, 'vorgestellt': 10928, 'ulysses': 10601, 'bersetzg': 1351, 'wollschlã': 11227, 'ger': 4449, 'neue': 7067, 'folge': 4154, 'eine': 3500, 'ganz': 4372, 'normale': 7163, 'affã': 581, 'intimleben': 5404, '13': 45, 'cbt': 2004, 'ab': 450, '14': 56, 'buch': 1696, 'cherlichen': 2120, 'small': 9410, 'things': 10186, 'james': 5503, 'dean': 2912, 'affair': 568, 'neil': 7048, 'gulliver': 4702, 'stevie': 9721, 'marriner': 6425, 'big': 1378, 'bad': 1133, 'blind': 1463, 'mice': 6647, 'private': 8073, 'screening': 8997, 'congo': 2486, 'protect': 8128, 'defend': 2946, 'tall': 10022, 'pine': 7779, 'polka': 7898, 'memoirs': 6576, 'geisha': 4417, 'plainsong': 7809, 'vintage': 10869, 'contemporaries': 2524, 'body': 1513, 'evidence': 3774, 'scarpetta': 8923, 'mysteries': 6959, 'remains': 8448, 'lost': 6171, 'alike': 674, 'avon': 1088, 'camelot': 1835, 'petals': 7682, 'river': 8636, 'elusive': 3546, 'flame': 4097, 'legacy': 5965, 'silence': 9287, 'brethren': 1640, 'torts': 10364, 'curious': 2778, 'incident': 5281, 'dog': 3217, 'bleachers': 1452, 'sisterhood': 9338, 'traveling': 10440, 'pants': 7479, 'wheeler': 11095, 'large': 5894, 'print': 8063, 'roses': 8719, 'red': 8387, 'alex': 659, 'cross': 2724, 'rescue': 8491, 'manhattan': 6358, 'hunt': 5155, 'patty': 7574, 'curl': 2779, 'ballantine': 1164, 'reader': 8341, 'circle': 2223, 'pet': 7680, 'sematary': 9074, 'pearl': 7596, 'earring': 3429, 'summer': 9876, 'storms': 9754, 'patient': 7566, 'demona': 2988, 'gargoyles': 4384, 'clifford': 2282, 'sports': 9611, 'postmortem': 7953, 'deception': 2927, 'point': 7876, 'tis': 10278, 'monk': 6789, 'swimming': 9960, 'crazy': 2679, 'horse': 5101, 'william': 11148, 'kalahari': 5667, 'typing': 10580, 'school': 8957, 'ladies': 5861, 'detective': 3044, 'agency': 600, 'wicked': 11121, 'times': 10265, 'witch': 11200, 'west': 11081, 'pi': 7729, 'judgement': 5617, 'stone': 9742, 'liars': 6027, 'fair': 3878, 'balanced': 1158, 'paper': 7483, 'expectations': 3814, 'heinemann': 4904, 'guided': 4693, 'readers': 8342, 'weight': 11057, 'water': 11015, 'moving': 6899, 'pictures': 7743, 'discworld': 3165, 'watch': 11010, 'thief': 10181, 'charlotte': 2086, 'web': 11036, 'charm': 2087, 'charming': 2089, 'peter': 7684, 'original': 7361, 'friend': 4282, 'flicka': 4122, 'hero': 4942, 'fable': 3858, 'jingo': 5559, 'terry': 10145, 'pratchett': 7994, 'maskerade': 6453, 'york': 11346, 'interesting': 5389, 'bright': 1661, 'girlfriend': 4499, 'confessions': 2475, 'nicolson': 7102, 'mansfield': 6372, 'park': 7518, 'penguin': 7622, 'popular': 7916, 'willows': 11153, 'winter': 11180, 'arthur': 951, 'warlord': 10990, 'moonheart': 6817, 'newford': 7078, 'elfland': 3529, 'powder': 7972, 'patch': 7560, 'picture': 7742, 'dorian': 3259, 'gray': 4611, 'library': 6034, 'iron': 5450, 'giant': 4479, 'peach': 7591, 'amber': 731, 'spyglass': 9629, 'dark': 2853, 'materials': 6474, 'golden': 4538, 'compass': 2435, 'subtle': 9834, 'knife': 5790, 'diaries': 3078, 'aged': 598, 'growing': 4671, 'pains': 7445, 'possession': 7938, 'born': 1561, 'confused': 2484, 'shopaholic': 9229, 'making': 6321, 'minty': 6704, 'malone': 6333, 'classic': 2261, 'emma': 3568, 'farm': 3922, 'eva': 3757, 'luna': 6214, 'poisonwood': 7883, 'bible': 1372, 'edition': 3470, 'uk': 10592, 'tales': 10015, 'mythic': 6967, 'forest': 4189, 'nicholas': 7096, 'nickleby': 7100, 'everyman': 3773, 'insects': 5356, 'novellas': 7202, 'catch': 1970, '22': 172, 'forsyte': 4209, 'saga': 8817, 'property': 8115, 'chancery': 2065, 'enchanted': 3587, 'wood': 11242, 'folk': 4158, 'faraway': 3919, 'visitations': 10893, 'miscellany': 6723, 'league': 5938, 'extraordinary': 3845, 'gentlemen': 4442, 'vol': 10916, 'comic': 2399, 'preludes': 8010, 'nocturnes': 7144, 'sandman': 8859, 'harlequin': 4805, 'valentine': 10748, 'alpha': 699, 'sign': 9280, 'language': 5889, '24': 182, 'hours': 5118, 'miracle': 6710, 'edgar': 3463, 'mint': 6703, 'october': 7269, 'painted': 7446, 'far': 3918, 'madding': 6265, 'crowd': 2730, 'perfect': 7646, 'storm': 9753, 'sea': 9012, 'battle': 1240, 'sappho': 8877, 'translation': 10421, 'postman': 7950, 'bantam': 1185, 'tortilla': 10362, 'curtain': 2785, 'symposium': 9981, 'parents': 7511, 'sons': 9496, 'object': 7247, 'affection': 570, 'journey': 5600, 'home': 5055, 'taking': 10010, 'ferry': 3994, 'hope': 5093, 'mercy': 6604, 'breach': 1621, 'neanderthal': 7023, 'place': 7802, 'rivan': 8635, 'codex': 2327, 'ancient': 778, 'texts': 10164, 'belgariad': 1307, 'malloreon': 6331, 'babyhood': 1121, 'best': 1356, 'fantasy': 3914, 'dave': 2877, 'barry': 1216, 'cyberspace': 2796, 'moon': 6816, 'eternal': 3737, 'warriors': 10997, 'waiting': 10955, 'run': 8767, 'frankenstein': 4253, 'gust': 4710, 'amarg': 723, 'cervesa': 2045, 'collecciã³': 2346, 'clã': 2315, 'ssica': 9636, 'urn': 10724, 'burial': 1743, 'yesterdays': 11342, 'shall': 9159, 'barbie': 1193, 'carryalong': 1935, 'chance': 2063, 'vinegar': 10865, 'hill': 4985, 'oprah': 7330, 'affinity': 573, 'diario': 3079, 'ana': 767, 'frank': 4250, 'desert': 3020, 'notes': 7181, 'democracy': 2985, 'buy': 1777, 'truth': 10520, 'corporate': 2598, 'cons': 2501, 'globalization': 4518, 'high': 4968, 'finance': 4040, 'fraudsters': 4260, 'music': 6943, 'box': 1591, 'liberty': 6032, 'falling': 3892, 'anna': 822, 'pigeon': 7759, 'palacio': 7456, 'mientras': 6665, 'escribo': 3700, 'killer': 5738, 'market': 6415, 'deborah': 2919, 'knott': 5800, 'remembering': 8455, 'gzowski': 4724, 'tributes': 10473, 'canadian': 1850, 'master': 6461, 'storytellers': 9760, 'trying': 10523, 'save': 8895, 'piggy': 7761, 'sneed': 9432, 'herr': 4946, 'fliegen': 4123, 'poetry': 7872, 'drama': 3307, 'seattle': 9028, 'access': 497, 'real': 8348, 'california': 1814, 'guides': 4695, 'bel': 1302, 'canto': 1876, 'bees': 1289, 'wonderful': 11237, 'lifetime': 6057, 'recordings': 8383, 'digital': 3111, 'fortress': 4210, 'thriller': 10219, 'missalonghi': 6730, 'blackberry': 1426, 'wine': 11166, 'irish': 5448, 'saved': 8896, 'civilization': 2236, 'untold': 10702, 'ireland': 5444, 'heroic': 4944, 'role': 8680, 'fall': 3890, 'rome': 8693, 'rise': 8622, 'medieval': 6547, 'europe': 3754, 'hinges': 4995, 'client': 2280, 'thieves': 10183, 'light': 6059, 'photon': 7721, 'ultimate': 10597, 'game': 4364, 'danger': 2842, 'proof': 8110, 'harmless': 4808, 'spy': 9628, 'riddles': 8592, 'spooky': 9607, 'skull': 9367, 'beneath': 1330, 'shoe': 9223, 'doorbell': 3253, 'rang': 8306, 'thoughts': 10209, 'unfinished': 10648, 'walk': 10963, 'valley': 10756, 'victorious': 10836, 'christians': 2183, 'hebrews': 4892, 'son': 9481, 'continues': 2533, 'unveiled': 10704, 'quit': 8244, 'serving': 9123, 'senders': 9079, 'missionaries': 6733, 'preparing': 8016, 'field': 4017, 'stairs': 9648, 'jonathan': 5585, 'livingston': 6116, 'seagull': 9017, 'crystal': 2741, 'handbook': 4764, 'wicca': 11119, 'wisdom': 11189, 'complete': 2441, 'incense': 5278, 'oils': 7289, 'brews': 1643, 'llewellyn': 6124, 'practical': 7984, 'magick': 6284, 'western': 11082, 'encyclopedic': 3598, 'sacred': 8806, 'languages': 5890, 'magickal': 6285, 'systems': 9984, 'key': 5726, 'ii': 5220, 'astral': 994, 'travel': 10436, 'beginners': 1294, 'perspectives': 7674, 'runes': 8772, 'rosie': 8723, 'julius': 5634, 'caesar': 1797, 'oxford': 7424, 'shakespeare': 9157, 'santa': 8873, 'brought': 1686, 'marrying': 6427, 'boss': 1566, 'silhouette': 9291, '1698': 80, 'marry': 6426, 'montana': 6800, 'mavericks': 6496, 'special': 9554, '1558': 70, 'alice': 668, 'wonderland': 11238, 'looking': 6154, 'glass': 4511, 'moonlight': 6818, 'sawyer': 8903, 'divine': 3195, 'secrets': 9036, 'ya': 11326, 'lakota': 5867, 'heroes': 4943, 'lives': 6114, 'politics': 7895, 'violence': 10872, 'boston': 1567, '1880': 108, '1960': 134, 'florence': 4133, 'lovely': 6186, 'impossible': 5265, 'vacation': 10740, 'hannibal': 4784, 'london': 6141, 'cavedweller': 2001, 'robber': 8653, 'bride': 1649, 'wouldn': 11281, 'mirth': 6719, 'ohitika': 7286, 'elk': 3534, 'speaks': 9553, 'holy': 5050, 'oglala': 7282, 'sioux': 9326, 'community': 2426, 'tent': 10127, 'camping': 1845, 'smoky': 9422, 'mountains': 6881, 'campers': 1844, 'hate': 4833, 'rvs': 8790, 'concrete': 2463, 'slabs': 9373, 'loud': 6176, 'portable': 7921, 'stereos': 9718, 'colorado': 2368, 'mawrdew': 6497, 'czgowchwz': 2808, 'review': 8552, 'prozac': 8139, 'nation': 7007, 'young': 11350, 'depressed': 3006, 'agreements': 613, 'personal': 7666, 'freedom': 4266, 'desarrollo': 3013, 'leonardo': 5990, 'da': 2812, 'vinci': 10864, 'biografã': 1395, 'memorias': 6578, 'gastronomia': 4394, 'divina': 3194, 'ncora': 7019, 'desaparecido': 3012, 'autentica': 1058, 'historia': 5005, 'ejecucion': 3508, 'charles': 2084, 'horman': 5096, 'hotel': 5111, 'europa': 3753, 'balancã': 1159, 'dona': 3242, 'dels': 2973, 'ulls': 10594, 'pluja': 7852, 'barcelona': 1195, 'anys': 865, '90': 409, 'paraã': 7504, 'tiempos': 10244, 'modernos': 6767, 'negra': 7041, 'consentida': 2504, 'colâ': 2383, 'lecciã³': 5956, 'mirall': 6714, 'essa': 3721, 'efa': 3483, 'temps': 10115, 'espurnes': 3720, 'sang': 8866, 'les': 5996, 'llengã¼es': 6122, 'africa': 586, 'biblioteca': 1373, 'universal': 10664, 'empãºries': 3583, 'trã': 10524, 'nsit': 7210, 'area': 918, 'contemporã': 2526, 'nia': 7090, 'sac': 8802, 'grã': 4678, 'cies': 2217, 'propina': 8119, 'columna': 2381, 'dia': 3064, 'que': 8218, 'va': 10739, 'cremar': 2691, 'liceu': 6038, 'primera': 8054, 'cã³mo': 2810, 'ser': 9103, 'una': 10606, 'mujer': 6917, 'morir': 6840, 'intento': 5385, 'colecciã³n': 2341, 'papagayo': 7482, 'casa': 1946, 'irlanda': 5449, 'mirada': 6713, 'tafur': 9991, 'amorrada': 757, 'al': 638, 'pilã³': 7774, 'blur': 1500, 'melody': 6571, 'maker': 6317, 'peace': 7588, 'behaving': 1299, 'badly': 1139, 'masculine': 6448, 'psychology': 8151, 'muertes': 6914, 'gardel': 4377, 'ficcionario': 4008, 'surf': 9919, 'net': 7062, 'internet': 5394, 'want': 10981, 'veterinarian': 10821, 'tulips': 10542, 'centaur': 2028, 'aisle': 630, 'crewel': 2697, 'lye': 6226, 'dragonflight': 3296, 'dragonriders': 3300, 'pern': 7658, 'sword': 9971, 'power': 7974, 'stones': 9744, 'dating': 2874, 'bird': 1403, 'kennedy': 5713, 'center': 2031, 'capital': 1883, 'guinness': 4700, 'records': 8384, '2000': 155, 'brown': 1687, 'philip': 7705, 'jose': 5590, 'farmer': 3923, 'dungeon': 3394, 'pool': 7909, 'radiance': 8269, 'ruins': 8757, 'drannor': 3311, 'forgotten': 4201, 'realms': 8354, 'feminism': 3981, 'suffrage': 9858, 'emergence': 3563, 'independent': 5299, 'movement': 6889, '1848': 98, '1869': 103, 'weird': 11058, 'grade': 4579, 'sheldon': 9192, 'mrs': 6906, 'levine': 6017, 'excruciating': 3791, 'correspondence': 2606, 'playmore': 7841, 'oliver': 7299, 'twist': 10571, 'ponies': 7904, 'assateague': 985, 'island': 5464, 'explorers': 3829, 'dragonsong': 3304, 'harper': 4814, 'hall': 4745, 'said': 8821, 'cloud': 2305, 'sarah': 8879, 'conley': 2491, 'widow': 11126, 'clearing': 2275, 'empire': 3579, 'falls': 3893, 'oryx': 7370, 'crake': 2674, 'sophie': 9500, 'philosophy': 7714, 'berkeley': 1341, 'signature': 9282, 'blue': 1493, 'le': 5930, 'divorce': 3199, 'abrahams': 470, 'face': 3862, 'come': 2388, 'undone': 10642, 'leaves': 5951, 'unwanted': 10705, 'chinese': 2158, 'nickel': 7099, 'dimed': 3118, 'kings': 5755, 'lymond': 6228, 'russia': 8782, 'solv': 9470, 'puzzles': 8200, 'puzzle': 8198, 'activity': 528, 'wives': 11213, 'movie': 6894, 'tie': 10241, 'selected': 9066, 'poems': 7868, 'emily': 3567, 'dickinson': 3088, 'watercolor': 11016, 'digest': 3109, 'joshua': 5594, 'land': 5874, 'messenger': 6620, 'sisters': 9339, 'prose': 8122, 'nature': 7012, 'househusband': 5121, 'messages': 6619, 'inspiration': 5364, 'spirit': 9591, 'nut': 7231, 'karl': 5681, 'marx': 6442, 'shining': 9209, 'ellen': 3537, 'rimbauer': 8608, 'rose': 8716, 'pete': 7683, 'christmas': 2188, 'present': 8021, 'past': 7549, 'mount': 6878, 'vernon': 10803, 'martha': 6432, 'washington': 11005, 'kingdom': 5752, 'arabia': 895, 'sa': 8796, 'ud': 10586, 'florida': 4135, 'road': 8645, '37th': 249, 'hour': 5116, 'cool': 2566, 'hunted': 5156, 'saints': 8826, 'harbour': 4796, 'old': 7294, 'flames': 4098, 'cooking': 2564, 'living': 6115, 'presence': 8020, 'disciplines': 3152, 'bean': 1254, 'trees': 10458, 'homeland': 5059, 'suitable': 9865, 'boy': 1593, 'fortune': 4213, 'fly': 4145, 'wall': 10968, 'cranford': 2675, 'bestselling': 1359, 'backlist': 1129, 'hand': 4762, 'amon': 752, 'wasn': 11006, 'penny': 7627, 'candle': 1858, 'richard': 8584, 'jury': 5653, 'turn': 10552, 'screw': 8999, 'country': 2632, 'pointed': 7877, 'firs': 4072, 'early': 3427, 'barchester': 1196, 'towers': 10383, 'pocket': 7862, 'reef': 8399, 'wednesday': 11044, 'rabbi': 8257, 'got': 4563, 'wet': 11085, 'argued': 919, 'listening': 6100, 'hearts': 4880, 'discerning': 3150, 'unattainable': 10611, 'practice': 7985, 'prayer': 7995, 'church': 2204, 'teaching': 10074, 'recent': 8371, 'rubinstein': 8747, 'chess': 2124, 'masterpieces': 6463, 'nanny': 6989, 'universale': 10665, 'rizzoli': 8642, 'sulla': 9871, 'sponda': 9606, 'fiume': 4093, 'piedra': 7749, 'giorni': 4494, 'dell': 2970, 'abbandono': 452, 'gizmo': 4507, 'abraham': 469, 'lincoln': 6082, 'promise': 8104, 'organic': 7351, 'chemistry': 2118, 'saunders': 8891, 'sunburst': 9885, 'st': 9637, 'john': 5575, 'wort': 11277, 'lynn': 6230, 'sonberg': 9483, 'diet': 3101, 'poisoned': 7882, 'choose': 2172, 'safe': 8814, 'foods': 4169, 'punished': 8175, 'rewards': 8563, 'trouble': 10503, 'gold': 4537, 'stars': 9684, 'incentive': 5279, 'plans': 7817, 'praise': 7992, 'bribes': 1646, 'montessori': 6804, 'comprehensive': 2446, 'approach': 884, 'education': 3476, 'birth': 1405, 'adulthood': 554, 'painting': 7448, 'techniques': 10083, 'artist': 955, 'going': 4536, 'swinging': 9964, 'sociopathic': 9449, 'climber': 2285, 'katya': 5696, 'like': 6067, 'hole': 5034, 'head': 4860, 'cove': 2647, 'inconvenient': 5290, 'shock': 9221, 'wave': 11024, 'dirk': 3143, 'pitt': 7797, 'pretty': 8038, 'sleeps': 9387, 'antipodes': 851, '10': 7, 'kick': 5730, 'ass': 980, 'columns': 2382, 'carl': 1914, 'hiaasen': 4958, 'illuminated': 5233, 'rules': 8759, 'junes': 5640, 'roads': 8647, 'shoes': 9224, 'spun': 9624, 'sweet': 9955, 'rime': 8609, 'mariner': 6409, '11th': 35, 'ri': 8576, 'brazen': 1619, 'virtue': 10883, 'brewing': 1642, 'thatcher': 10168, 'milk': 6679, 'honey': 5080, 'decker': 2937, 'rina': 8610, 'lazarus': 5928, 'deep': 2942, 'end': 3599, 'ocean': 7266, 'thousand': 10210, 'acres': 521, 'chopping': 2174, 'spree': 9616, 'blondes': 1474, 'straw': 9780, 'doctor': 3207, 'physician': 7727, 'cancer': 1852, 'chamber': 2056, 'warlock': 10989, 'egypt': 3492, 'teacher': 10072, 'lagoon': 5863, 'partner': 7528, 'primal': 8050, 'scream': 8992, 'chosen': 2176, 'prey': 8043, 'sin': 9309, 'sins': 9325, 'canopy': 1870, 'blink': 1467, 'caspian': 1956, 'order': 7347, 'abduction': 458, 'let': 6003, 'thomas': 10197, 'capano': 1879, 'deadly': 2906, 'seducer': 9042, 'goes': 4534, 'sun': 9883, 'signs': 9284, 'vampire': 10761, 'lestat': 6002, 'mummy': 6926, 'ramses': 8300, 'damned': 2834, 'erroneous': 3687, 'zones': 11387, 'listener': 6098, 'organizing': 7355, 'hellfire': 4915, 'jack': 5484, 'ripper': 8618, 'investigation': 5429, 'debate': 2917, 'vanished': 10765, 'morning': 6844, 'missing': 6731, 'susan': 9937, 'hiding': 4964, 'shadows': 9155, 'privileges': 8076, 'mothers': 6868, 'daughters': 2876, 'horus': 5104, 'horrible': 5098, 'graders': 4580, 'beginning': 1295, 'literacy': 6104, '101': 10, 'dalmatians': 2828, 'dinosaur': 3132, 'paw': 7579, 'polk': 7897, 'ralph': 8297, 'mouse': 6885, 'animorphs': 815, 'alternamorphs': 709, 'dinosaurs': 3133, 'read': 8340, 'space': 9537, '02': 4, 'characters': 2080, 'machine': 6250, 'troll': 10497, 'burning': 1751, 'tightrope': 10253, 'moveon': 6891, '50': 285, 'ways': 11028, 'political': 7892, 'voice': 10912, 'catalyst': 1969, 'change': 2067, 'rainbow': 8284, 'stormy': 9755, 'judy': 5623, 'garland': 4385, 'cold': 2337, 'mountain': 6879, 'mti': 6909, 'fountain': 4226, 'filled': 4032, 'rev': 8540, 'clare': 2253, 'ferguson': 3989, 'fergusson': 3990, 'russ': 8779, 'van': 10763, 'alstyne': 704, 'daisy': 2821, 'fay': 3946, 'prairie': 7991, 'angela': 793, 'ashes': 965, 'accident': 499, 'socks': 9450, 'cleary': 2276, 'reissue': 8431, 'shop': 9228, 'boxcar': 1592, 'bleak': 1453, 'midwinter': 6662, 'eyeshot': 3854, 'peggy': 7607, 'rosewood': 8722, 'casket': 1955, 'amazing': 726, 'pollifax': 7900, 'food': 4167, 'meal': 6525, 'unsung': 10696, 'princesses': 8058, 'bamarre': 1170, 'ella': 3535, 'rack': 8267, 'passing': 7543, 'losing': 6169, 'half': 4742, 'finding': 4047, 'bloodlines': 1480, 'lover': 6187, 'kissing': 5772, 'echoes': 3449, 'toynbee': 10389, 'convector': 2548, 'stephanie': 9711, 'plum': 7853, 'bell': 1313, 'jar': 5517, 'perennial': 7645, 'polar': 7886, 'bear': 1256, 'called': 1819, 'pingo': 7781, 'scrolls': 9004, 'tarot': 10056, 'says': 8907, 'beware': 1368, 'herculeah': 4936, 'globalhead': 4516, 'spider': 9578, 'abundance': 482, 'daybook': 2890, 'comfort': 2396, 'final': 4037, 'appeal': 873, 'moved': 6888, 'cheese': 2109, 'way': 11027, 'work': 11255, 'clocks': 2293, 'clockwise': 2294, 'imponderables': 5261, 'everyday': 3772, 'explained': 3825, 'stately': 9694, 'pursuits': 8193, 'pinball': 7777, 'effect': 3484, 'renaissance': 8462, 'gardens': 4381, 'carburetor': 1898, 'possible': 7942, 'journeys': 5602, 'knowledge': 5804, 'dancing': 2840, 'harvest': 4826, 'cardiff': 1900, 'tally': 10023, 'types': 10578, 'additions': 536, 'introduction': 5413, 'mike': 6670, 'parker': 7519, 'stand': 9659, 'hummingbird': 5146, 'crossing': 2726, 'unknown': 10669, 'pilgrimage': 7769, 'identity': 5207, 'thinkers': 10189, 'speak': 9550, 'tomorrow': 10332, 'leaders': 5934, 'expecting': 3815, 'adam': 533, 'rebirth': 8364, 'magic': 6280, 'forgiveness': 4199, 'conscience': 2502, 'landmark': 5877, 'speeches': 9562, 'dr': 3289, 'martin': 6435, 'luther': 6223, 'jr': 5611, '20th': 164, 'thou': 10206, 'sarajevo': 8880, 'maybe': 6501, 'anni': 825, 'novanta': 7195, 'feltrinelli': 3976, 'teenage': 10091, 'number': 7220, 'dominant': 3239, 'blonde': 1473, 'girls': 4502, 'hunting': 5159, 'fishing': 4085, 'rena': 8461, 'auschwitz': 1044, 'easy': 3441, 'planets': 7814, 'mist': 6737, 'monogram': 6792, 'icy': 5197, 'sparks': 9547, 'outstanding': 7402, 'traveler': 10438, 'strange': 9769, 'fits': 4092, 'passion': 7544, 'downstairs': 3283, 'absurd': 481, 'suburbia': 9836, 'asher': 964, 'lev': 6014, 'waking': 10959, 'davita': 2882, 'harp': 4813, 'lights': 6064, 'mimic': 6690, 'mystic': 6962, 'masseur': 6460, 'regain': 8410, 'grand': 4589, 'meaulnes': 6538, 'classiques': 2264, 'poche': 7861, 'ouest': 7381, 'rien': 8600, 'nouveau': 7192, 'pourquoi': 7970, 'ai': 617, 'mangã': 6357, 'mon': 6781, 'pã': 8203, 'ravage': 8324, 'voyage': 10936, 'une': 10645, 'parisienne': 7517, 'lhassa': 6023, 'fleurs': 4120, 'du': 3366, 'mal': 6322, 'chroniques': 2198, 'martiennes': 6434, 'diable': 3067, 'au': 1025, 'corps': 2599, 'faute': 3942, 'abbã': 456, 'mouret': 6882, 'homme': 5073, 'qui': 8231, 'plantait': 7818, 'arbres': 899, 'guerre': 4686, 'boutons': 1583, 'paroles': 7522, 'poilus': 7874, 'lettres': 6010, 'et': 3736, 'carnets': 1922, '1914': 113, 'porte': 7924, 'sur': 9917, 'tã': 10582, 'entdeckung': 3643, 'langsamkeit': 5887, 'grenzen': 4637, 'geschlechts': 4459, 'anleitungen': 820, 'zum': 11399, 'sturz': 9823, 'internationalen': 5393, 'patriarchats': 7570, 'amnesty': 751, 'rororo': 8714, 'sachbuch': 8804, 'frauen': 4261, 'welt': 11069, 'vom': 10923, 'fortschritt': 4211, 'ungleichheit': 10653, 'ging': 4489, 'wandlung': 10980, 'groã': 4676, 'weisheits': 11061, 'orakelbuch': 7338, 'alten': 708, 'chinesen': 2159, 'african': 587, 'struggle': 9801, 'economic': 3453, 'independence': 5298, 'globalisierte': 4517, 'berichte': 1340, 'zukunft': 11398, 'aktuell': 636, 'niggers': 7109, 'ã¼ber': 11434, 'herrenmenschen': 4947, 'nietzsches': 7105, 'peitsche': 7608, 'atv': 1024, 'dokument': 3223, 'essay': 3722, 'sense': 9087, 'sensibility': 9089, 'gemietete': 4422, 'gott': 4565, 'kleinen': 5781, 'dinge': 3125, 'code': 2324, 'map': 6383, 'edge': 3464, 'reason': 8357, 'pilot': 7773, 'tag': 9992, 'author': 1060, 'saving': 8898, 'ryan': 8792, 'cedars': 2010, 'skipping': 9365, 'cheaters': 2102, 'graces': 4577, 'vineyard': 10867, 'locket': 6133, 'dear': 2913, 'stranger': 9771, 'dearest': 2914, 'cider': 2213, 'lolita': 6139, 'cloth': 2304, 'message': 6618, 'bottle': 1572, 'blackbird': 1427, 'childhood': 2145, 'julie': 5632, 'romeo': 8694, 'guardian': 4680, 'rodanthe': 8670, 'monthly': 6806, 'installments': 5370, 'romances': 8687, 'remedies': 8452, 'voluptuous': 10922, 'tale': 10012, 'villa': 10858, 'horses': 5103, 'suzanne': 9946, 'sees': 9055, 'sleeping': 9385, '2nd': 210, 'carousel': 1929, 'liar': 6026, 'eagle': 3422, 'britain': 1672, 'shattered': 9183, 'proud': 8132, 'free': 4265, 'shoah': 9220, 'unfortunate': 10651, 'events': 3766, 'firma': 4071, 'loup': 6182, 'garou': 4387, 'chronique': 2197, 'mort': 6850, 'annoncã': 829, 'neveu': 7074, 'amã': 766, 'rique': 8620, 'exit': 3804, 'bushisms': 1761, 'verbal': 10794, 'contortions': 2536, '43rd': 269, 'president': 8028, 'therapy': 10179, 'scottish': 8986, 'ghosts': 4478, 'awful': 1101, 'eddie': 3460, 'dickens': 3087, 'wasp': 11007, 'factory': 3867, 'slate': 9377, 'wit': 11199, 'stupidest': 9819, 'laws': 5923, 'steinbeck': 9706, 'essentials': 3726, 'nessie': 7058, 'loch': 6131, 'ness': 7057, 'monster': 6796, 'xiii': 11320, 'tome': 10327, 'enquã': 3637, 'âªte': 11404, 'mean': 6527, 'dictionary': 3091, 'euphemisms': 3751, 'reference': 8402, 'cook': 2558, 'fourmis': 4228, 'draw': 3312, 'celtic': 2022, 'knotwork': 5801, 'sorcerer': 9506, 'companion': 2431, 'harry': 4818, 'potter': 7963, 'myths': 6969, 'legends': 5969, 'fairy': 3881, 'terrible': 10139, 'cantilã': 1875, 'nes': 7056, 'gelã': 4421, 'barnum': 1209, 'vingt': 10868, 'poã': 7980, 'mes': 6615, 'inã': 5439, '18': 91, 'dix': 3201, 'huit': 5135, '517': 291, 'glasgow': 4510, 'zen': 11368, 'totally': 10368, 'muffins': 6915, 'cookbook': 2559, 'cookbooks': 2560, 'tigger': 10251, 'exercise': 3795, 'eeyore': 3482, 'gloom': 4520, 'dougal': 3271, 'amy': 765, 'isabelle': 5457, 'rule': 8758, 'bone': 1534, 'talk': 10018, 'butch': 1768, 'blues': 1497, 'stardust': 9672, 'fires': 4067, 'aggar': 605, 'kamikaze': 5670, 'lust': 6222, 'gossamer': 4561, 'axe': 1102, 'witchfire': 11205, 'moves': 6893, 'isis': 5461, 'hood': 5088, 'leaving': 5952, 'pipe': 7787, 'memories': 6579, 'kin': 5745, 'talking': 10020, 'literature': 6108, 'door': 3252, 'vertigo': 10816, 'coming': 2402, 'curly': 2780, 'mares': 6393, 'hen': 4924, 'teeth': 10095, 'december': 2926, 'shirt': 9217, 'problem': 8080, 'scions': 8974, 'shannara': 9170, 'heritage': 4940, 'wars': 10998, 'rebel': 8361, 'dawn': 2885, 'han': 4759, 'solo': 9466, 'hutt': 5170, 'gambit': 4362, 'paradise': 7493, 'snare': 9429, 'volume': 10919, 'moons': 6821, 'alanna': 642, 'adventure': 557, 'song': 9485, 'lioness': 6091, 'beans': 1255, 'maine': 6306, 'warrior': 10996, 'funhouse': 4323, '12': 36, 'written': 11299, 'merchants': 6602, 'dreamsnake': 3326, 'titan': 10279, 'burned': 1749, 'density': 3000, 'souls': 9518, 'changer': 2070, 'trixie': 10493, 'belden': 1305, 'glen': 4514, 'lark': 5896, 'grace': 4575, 'lena': 5980, 'state': 9693, 'quarters': 8213, 'hadn': 4734, 'meant': 6532, 'raise': 8290, 'roof': 8702, 'inspiring': 5369, 'tennessee': 10124, 'vols': 10918, 'undefeated': 10632, '1997': 149, '98': 440, 'season': 9025, 'ufos': 10588, 'jfk': 5554, 'conspiracies': 2509, 'believe': 1311, 'thorn': 10199, 'birds': 1404, 'dreamcatcher': 3318, 'sudden': 9848, 'mischief': 6724, 'spenser': 9572, 'elements': 3521, 'programming': 8095, 'perl': 7654, 'north': 7168, 'americans': 742, 'college': 2354, 'majors': 6314, 'careers': 1905, 'resource': 8500, 'effective': 3485, 'planning': 7816, 'smilla': 9418, 'grass': 4602, 'greener': 4623, 'septic': 9100, 'tank': 10037, 'viaggi': 10826, 'tempo': 10113, 'immobile': 5252, 'coralli': 2585, 'rumpole': 8766, 'trial': 10467, 'billy': 1392, 'bathgate': 1234, 'citizens': 2233, 'chronicle': 2194, 'french': 4271, 'revolution': 8559, 'killed': 5737, 'deer': 2944, 'dolphins': 3235, 'apple': 876, 'sunwing': 9893, 'aladdin': 640, 'caddie': 1793, 'woodlawn': 11244, 'newbery': 7076, 'promo': 8107, '99': 448, 'hork': 5095, 'bajir': 1151, 'silver': 9296, 'chair': 2050, 'color': 2367, 'narnia': 6995, 'magician': 6282, 'nephew': 7053, 'circles': 2224, 'stream': 9782, 'avalon': 1076, 'wizardry': 11215, 'wizards': 11216, 'wizard': 11214, 'ag': 595, 'glitters': 4515, 'unicorn': 10656, 'spellsinger': 9568, 'ties': 10246, 'bind': 1393, 'break': 1623, 'hauntings': 4841, 'williamsburg': 11150, 'yorktown': 11349, 'jamestown': 5504, 'janitor': 5510, 'giver': 4505, '21st': 171, 'heavenly': 4887, 'remarkable': 8451, 'christian': 2181, 'brother': 1684, 'yun': 11357, 'flammarion': 4103, 'schlampenbuch': 8944, 'zwei': 11402, 'gesichter': 4462, 'januars': 5511, 'nacht': 6975, 'â¼ber': 11407, 'wassern': 11008, 'sã': 9985, 'ulen': 10593, 'erde': 3673, 'rides': 8596, 'mirror': 6717, 'dreams': 3324, 'mordant': 6831, 'need': 7032, 'zone': 11386, 'germany': 4453, 'belonging': 1320, 'berlins': 1345, 'cambridge': 1832, 'studies': 9811, 'cultural': 2764, 'anthropology': 846, 'depression': 3007, '1929': 117, '1941': 126, 'shroud': 9248, 'tide': 10239, 'onslaught': 7314, 'jedi': 5531, 'long': 6146, 'tea': 10070, 'indiscretion': 5307, 'ink': 5342, 'better': 1365, 'worse': 11272, 'hidden': 4961, 'plain': 7806, 'view': 10852, 'quilts': 8241, 'underground': 10635, 'railroad': 8282, '1970': 136, 'late': 5902, 'twin': 10569, 'blessings': 1460, 'inspired': 5368, 'numbered': 7221, 'dodge': 3213, 'frontier': 4297, '000': 1, 'negotiating': 7040, 'salaries': 8834, 'raises': 8293, 'non': 7153, 'manipulative': 6365, 'selling': 9072, 'share': 9177, 'dragon': 3294, 'ender': 3602, 'wiggins': 11135, 'thinking': 10190, 'force': 4182, 'mp3': 6904, 'audio': 1027, 'ought': 7382, 'texas': 10160, 'needs': 7035, 'brag': 1602, 've': 10773, 'facts': 3868, 'awakening': 1093, 'picks': 7739, 'insider': 5359, 'stocks': 9740, 'mutual': 6956, 'funds': 4321, 'poetics': 7871, 'patriot': 7572, 'games': 4366, 'fascinating': 3926, 'cases': 1952, 'forensic': 4188, 'anthropologist': 845, 'moonlighting': 6819, '148': 63, 'amanda': 721, 'miranda': 6715, 'chasing': 2094, 'dime': 3117, 'tender': 10121, 'triumph': 10489, 'sonnet': 9492, 'tailed': 10001, 'guilt': 4697, 'service': 9121, 'dinner': 3128, 'party': 7531, 'palette': 7463, 'wrote': 11303, 'cup': 2768, 'congress': 2488, 'crimes': 2705, 'thorns': 10201, 'granny': 4595, 'dan': 2835, 'penwyth': 7630, 'curse': 2784, '15': 65, 'panties': 7478, 'fã': 4339, 'â¼rst': 11426, 'finsternis': 4058, 'reporter': 8478, 'jacob': 5489, 'marley': 6418, 'carol': 1926, 'makes': 6319, 'pregnant': 8004, 'multiples': 6924, '1569': 72, 'really': 8352, 'play': 7832, 'aggression': 606, 'hound': 5114, 'baskervilles': 1226, 'fractal': 4237, 'murders': 6935, 'pepper': 7634, 'keane': 5700, 'blowtorch': 1491, 'psycho': 8148, 'com': 2384, 'chillers': 2152, 'holiday': 5036, 'treasury': 10450, 'numbers': 7222, 'suspense': 9941, 'wuthering': 11309, 'shine': 9208, 'toxin': 10387, 'mothman': 6869, 'prophecies': 8116, 'buffy': 1710, 'slayer': 9381, 'rush': 8778, 'altar': 706, 'brides': 1651, 'metal': 6625, 'holly': 5044, 'springs': 9620, '997': 449, 'middlesex': 6657, 'somebody': 9475, 'worlds': 11268, 'comical': 2400, 'states': 9695, 'empires': 3580, 'science': 8970, 'prevention': 8040, '5th': 313, 'sheik': 9188, 'chopin': 2173, 'ordinary': 7349, 'rainmaker': 8288, 'tycoon': 10573, 'terms': 10137, 'disturb': 3186, '2348': 178, 'partners': 7529, 'goose': 4555, 'heathcliff': 4884, 'gone': 4547, 'kavalier': 5698, 'clay': 2270, 'greygallows': 4640, 'phantom': 7698, 'tollbooth': 10313, 'dances': 2839, 'wolves': 11230, 'clock': 2292, 'walls': 10971, 'hoot': 5092, 'honor': 5087, 'catnap': 1986, 'louie': 6177, 'princess': 8057, 'morgenstern': 6839, 'dangerous': 2843, 'unsettling': 10692, 'fate': 3934, 'images': 5242, 'hawk': 4852, 'burberry': 1738, 'style': 9825, 'heavier': 4889, 'air': 623, 'balona': 1168, 'honesty': 5079, 'trials': 10468, 'triumphs': 10491, 'klongs': 5785, 'froyd': 4301, 'korndog': 5826, 'brick': 1647, 'shy': 9255, 'spring': 9617, 'focusing': 4150, 'cuisine': 2760, 'leftovers': 5964, 'natural': 7011, 'causes': 1997, 'degree': 2955, 'art': 947, 'thanks': 10167, 'fish': 4078, 'fight': 4027, 'shipping': 9212, 'frog': 4293, 'outhouses': 7390, 'alaska': 643, 'jumper': 5636, 'unbearable': 10613, 'lightness': 6062, 'spell': 9565, 'chameleon': 2058, 'anne': 824, 'gables': 4344, 'kurze': 5849, 'leben': 5953, 'scholl': 8956, 'atlas': 1007, 'post': 7943, 'office': 7278, 'essential': 3725, 'hard': 4797, 'boiled': 1518, 'international': 5392, 'norwegian': 7174, 'teens': 10094, 'breakthrough': 1629, 'calling': 1821, 'paperbacks': 7485, 'temporary': 10114, 'knees': 5788, '45': 272, 'reap': 8355, 'survivors': 9936, 'omission': 7308, 'random': 8305, 'winds': 11164, 'beginner': 1293, 'zlateh': 11378, 'goat': 4528, 'wu': 11305, 'li': 6024, 'masters': 6464, 'overview': 7416, 'physics': 7728, 'according': 503, 'garp': 4388, 'farewell': 3920, 'arms': 937, 'constitution': 2513, 'origins': 7362, 'development': 3051, 'seventh': 9134, 'collected': 2347, 'works': 11264, 'emile': 3566, 'zola': 11381, 'plato': 7829, 'city': 2234, 'kat': 5688, 'breaking': 1627, 'clean': 2271, 'felicia': 3969, 'possessing': 7937, 'croatia': 2717, 'angle': 801, 'repose': 8480, 'noise': 7146, 'invisible': 5436, 'sidewalk': 9272, 'ends': 3606, 'drawings': 3314, 'interpreter': 5396, 'maladies': 6323, 'glorious': 4522, 'crafts': 2671, 'decorating': 2938, 'loving': 6194, 'jitterbug': 5562, 'perfume': 7651, 'clarissa': 2254, 'abridged': 472, 'fever': 4002, 'encyclopedia': 3597, 'buddhist': 1702, 'common': 2418, 'phrases': 7723, 'notions': 7188, 'potions': 7959, 'dragonfly': 3297, 'naked': 6982, 'writing': 11297, 'grafton': 4584, 'sue': 9850, 'kinsey': 5761, 'millhone': 6681, 'ironweed': 5451, 'volcano': 10917, 'grapes': 4599, 'wrath': 11288, 'paradox': 7495, 'responding': 8506, 'christlike': 2187, 'balance': 1157, 'thing': 10185, 'did': 3092, 'kreutzersonate': 5837, 'liebesgeschichte': 6045, 'tollivers': 10314, 'reisen': 8429, 'stadtgeschichten': 9642, 'iv': 5476, 'win': 11157, 'revised': 8553, 'cuckoo': 2753, 'egg': 3488, 'seasons': 9027, 'witching': 11206, 'mayfair': 6503, 'witches': 11203, 'jill': 5556, 'vittorio': 10903, 'vampires': 10762, 'mango': 6355, 'tor': 10353, 'scholastic': 8955, 'demon': 2987, 'haunted': 4839, 'teen': 10090, 'relationships': 8436, 'teenagers': 10093, 'verge': 10798, 'chaser': 2093, 'mails': 6304, 'welcome': 11064, 'english': 3624, 'spoken': 9605, 'string': 9795, 'chances': 2066, 'nrf': 7209, 'prometheus': 8102, 'pies': 7757, 'user': 10733, 'perks': 7653, 'wallflower': 10970, 'patapim': 7558, 'patapam': 7557, 'formiche': 4205, 'rascal': 8318, 'mind': 6692, 'biography': 1399, 'forbes': 4180, 'nash': 7003, 'bridegroom': 1650, 'reads': 8345, 'dust': 3404, 'slippage': 9396, 'previously': 8042, 'poised': 7880, 'uncollected': 10625, 'portrait': 7929, 'sepia': 9098, 'santiago': 8875, 'magier': 6289, 'erbe': 3671, 'fremde': 4270, 'freund': 4275, 'drachenblut': 3291, 'meute': 6641, 'erben': 3672, 'â¼r': 11424, 'jede': 5529, 'gelegenheit': 4419, 'geteilte': 4467, 'himmel': 4990, 'helden': 4911, 'wir': 11183, 'schamanismus': 8934, 'seele': 9053, 'magische': 6290, 'krã': 5843, 'fte': 4309, 'ekstase': 3509, 'heilung': 4902, 'entdecke': 3642, 'schamanen': 8933, 'dir': 3140, 'reise': 8428, 'innere': 5346, 'alltags': 693, 'meer': 6556, 'kleine': 5780, 'fische': 4076, 'sofies': 9452, 'geschichte': 4456, 'philosophie': 7712, 'screaming': 8993, 'haunting': 4840, 'dharma': 3062, 'bums': 1728, 'gods': 4533, 'er': 3668, '2061': 162, 'odyssey': 7275, 'sleep': 9383, 'blade': 1436, 'flesh': 4117, 'devil': 3056, 'skystone': 9371, 'whyte': 11118, 'camulod': 1848, 'bk': 1424, 'donaldson': 3243, 'stephen': 9712, 'covenant': 2648, 'wielder': 11131, 'wounded': 11283, 'preserves': 8025, 'unbeliever': 10616, 'illearth': 5226, 'foul': 4220, 'bane': 1176, 'killing': 5740, 'mister': 6739, 'watson': 11022, 'exocet': 3807, 'crib': 2699, 'jurassic': 5651, 'imaginary': 5244, 'lands': 5881, 'live': 6112, 'caroline': 1928, 'hebard': 4891, 'kid': 5731, 'eat': 3442, 'shape': 9171, 'piano': 7732, 'lesson': 6000, 'trading': 10398, 'places': 7803, 'stanislaski': 9664, 'brothers': 1685, 'housekeeping': 5122, 'feather': 3953, 'thought': 10207, 'npr': 7207, 'national': 7008, 'project': 8098, 'highland': 4969, 'fling': 4126, 'neverwhere': 7073, 'lieutenant': 6051, 'fodor': 4151, 'exploring': 3830, '4th': 284, 'madam': 6261, 'wimsey': 11156, 'beekeeper': 1286, 'apprentice': 882, 'tracks': 10396, 'baba': 1112, 'china': 2155, 'shoulders': 9240, 'larry': 5897, 'pale': 7459, 'anubis': 860, 'gates': 4396, 'vulcan': 10942, 'academy': 490, 'samuel': 8850, 'taylor': 10068, 'coelridge': 2329, 'alchimist': 652, 'lied': 6048, 'steine': 9707, 'suche': 9843, 'hose': 5105, 'biete': 1376, 'rock': 8666, 'zeit': 11366, 'im': 5240, 'shadowrun': 9154, 'deutschland': 3048, 'schatten': 8935, 'fanger': 3907, 'roggen': 8676, 'demian': 2984, 'emil': 3565, 'sinclairs': 9312, 'jugend': 5626, 'vielleicht': 10846, 'lieber': 6044, 'ich': 5192, 'prinzessin': 8066, 'viola': 10871, 'altes': 713, 'haus': 4842, 'seine': 9060, 'besetzer': 1354, 'druidentor': 3359, 'timeless': 10261, 'breathtaking': 1636, 'reach': 8337, 'midsummer': 6659, 'dream': 3317, 'lovers': 6188, 'drum': 3361, 'union': 10660, 'regiment': 8417, 'callahan': 1815, 'caverns': 2002, 'socrates': 9451, 'sheets': 9187, 'temptation': 10117, '607': 316, 'kent': 5717, 'ugly': 10589, 'knight': 5791, 'desire': 3026, '729': 356, '844': 391, 'tiffany': 10248, 'gate': 4395, 'rachel': 8265, 'tears': 10078, 'columbine': 2379, 'martyr': 6437, 'scott': 8985, 'sorrows': 9511, 'werther': 11078, 'metropolis': 6639, 'bfi': 1371, 'film': 4033, '54': 299, 'alien': 670, 'wilfred': 11143, 'follow': 4163, 'plass': 7824, 'speaker': 9551, 'colours': 2377, 'survival': 9931, 'angelas': 794, 'pharaohs': 7700, 'names': 6986, 'list': 6096, 'cartouches': 1943, 'ann': 821, 'files': 4031, 'ham': 4753, 'experienced': 3818, 'oh': 7284, 'schã': 8969, 'panama': 7471, 'komm': 5811, 'finden': 4046, 'einen': 3502, 'schatz': 8938, 'konig': 5815, 'babar': 1113, 'serafin': 9104, 'wundermaschine': 11306, 'schenk': 8939, 'meinen': 6567, 'prã': 8141, 'â¼fung': 11415, 'taschentherapeut': 10059, '60': 314, 'sekunden': 9063, 'wieder': 11130, 'wolfsfrau': 11225, 'kraft': 5830, 'weiblichen': 11055, 'urinstinkte': 10723, 'tiger': 10249, 'thiere': 10182, 'choke': 2169, 'survivor': 9935, 'gifted': 4485, 'trust': 10519, 'lamb': 5869, 'biff': 1377, 'christ': 2179, 'pal': 7453, 'coq': 2581, 'bruygre': 1695, 'folio': 4157, '1229': 40, 'retour': 8529, 'ask': 971, 'settle': 9128, 'june': 5639, 'doonesbury': 3251, 'madame': 6262, 'wobegon': 11219, 'limbaugh': 6075, 'fat': 3932, 'idiot': 5211, 'observations': 7254, 'happy': 4793, 'trails': 10406, 'frame': 4239, 'congregation': 2487, 'searches': 9023, 'leader': 5933, 'dealing': 2910, 'rubyfruit': 8749, 'fantastic': 3911, 'culture': 2765, 'essays': 3723, 'ship': 9210, 'tribute': 10472, 'wayside': 11029, 'dragonsdawn': 3302, 'opal': 7318, 'ion': 5440, 'improbable': 5269, 'kriya': 5842, 'yoga': 11344, 'sutras': 9945, 'patanjali': 7556, 'siddhas': 9269, 'orchard': 7343, 'hallowed': 4748, 'grnd': 4656, 'worker': 11258, 'southern': 9532, 'confederacy': 2471, 'elfstones': 3530, 'ogre': 7283, 'uncut': 10628, 'takes': 10009, 'display': 3178, 'opportunity': 7329, 'prime': 8052, 'uncle': 10624, 'tungsten': 10547, 'chemical': 2115, 'boyhood': 1596, 'callaway': 1817, 'gingerbread': 4491, 'nancy': 6988, '122': 39, 'grandfathers': 4591, 'strength': 9786, 'refuge': 8407, 'mirrors': 6718, 'table': 9987, 'divining': 3197, 'ay': 1104, 'word': 11251, 'gibbons': 4481, 'eve': 3763, 'rib': 8578, 'distance': 3180, 'museum': 6941, 'guard': 4679, 'thinks': 10191, 'greenland': 4628, 'evening': 3764, 'having': 4847, 'nothin': 7182, 'ahead': 616, 'badger': 1138, 'zia': 11372, 'darwin': 2866, 'radio': 8271, 'omens': 7307, 'il': 5223, 'dio': 3135, 'delle': 2972, 'piccole': 7735, 'cose': 2614, 'songcatcher': 9486, 'ballad': 1163, 'fatal': 3933, 'praying': 7998, 'flashback': 4110, 'square': 9631, 'landry': 5880, 'knockin': 5796, 'halsband': 4752, 'taube': 10064, 'bronze': 1680, 'doll': 3225, 'starlings': 9680, 'laughing': 5910, 'unassigned': 10610, 'territory': 10142, 'greatest': 4615, 'interviews': 5401, 'dying': 3411, 'operating': 7324, 'instructions': 5377, 'journal': 5596, 'jewel': 5549, 'watching': 11012, 'fool': 4170, 'satanic': 8886, 'verses': 10810, 'shadowmancer': 9153, 'centennial': 2030, '1902': 111, '2002': 157, 'northern': 7170, 'owen': 7417, 'meany': 6533, 'away': 1098, 'winnie': 11177, 'management': 6342, 'solving': 9473, 'abc': 457, 'reward': 8562, 'brave': 1617, 'toy': 10388, 'enid': 3627, 'blyton': 1502, 'vii': 10854, 'shadowheart': 9151, 'nightchild': 7112, 'gollancz': 4546, 'sf': 9145, 'prophet': 8118, 'crafty': 2672, 'quiet': 8237, 'kirkpatrick': 5767, 'kinship': 5762, 'courage': 2637, 'historical': 5008, 'sinner': 9323, 'sassy': 8883, 'neverending': 7071, 'runs': 8776, 'galway': 4361, 'remembers': 8456, 'notebooks': 7180, 'driving': 3346, 'mr': 6905, 'albert': 647, 'trip': 10484, 'einstein': 3507, 'brain': 1605, 'shopgirl': 9230, 'answers': 837, 'questions': 8230, 'ingenuity': 5331, 'crescent': 2693, 'gibson': 4482, 'student': 9809, 'universities': 10668, 'hugo': 5133, 'winners': 11175, 'tangle': 10033, 'memory': 6580, 'woods': 11246, 'rediscovering': 8393, 'appalachian': 872, 'trail': 10405, 'official': 7280, 'bottoms': 1573, 'flanders': 4104, 'panel': 7475, 'michigan': 6651, 'literary': 6106, 'changed': 2068, 'illinois': 5230, 'augie': 1035, 'march': 6390, 'peaceful': 7589, 'huckleberry': 5131, 'finn': 4056, 'silmarillion': 9295, 'angst': 803, 'naaah': 6972, 'quasi': 8215, 'autobiography': 1066, 'kerosene': 5722, 'songs': 9488, 'inner': 5345, 'outer': 7386, 'scientist': 8972, 'perspective': 7673, 'planetary': 7813, 'transformation': 10415, 'void': 10914, 'energy': 3614, 'scientific': 8971, 'revelations': 8545, 'intimate': 5403, 'report': 8477, 'synchronicity': 9982, 'bridge': 1655, 'matter': 6483, 'ron': 8699, 'hubbard': 5130, 'writers': 11295, 'monkey': 6790, 'rhyme': 8573, 'saucer': 8890, 'clones': 2298, 'fear': 3948, '11': 25, 'jetzt': 5548, 'ichs': 5194, 'wissen': 11197, 'mentaler': 6593, 'powertechnik': 7978, 'ziele': 11374, 'erreichen': 3685, 'lehmann': 5971, 'arnold': 939, 'unauthorized': 10612, 'train': 10407, 'harriet': 4815, 'tubman': 10531, 'dipika': 3138, 'emotionally': 3573, 'juror': 5652, 'ill': 5225, 'nelson': 7051, 'bedtime': 1283, '150': 66, 'passages': 7540, 'butterfree': 1774, 'pokemon': 7884, 'gothic': 4564, 'fake': 3886, 'card': 1899, '987': 444, 'schools': 8961, 'overseer': 7414, 'valhalla': 10750, 'rising': 8624, 'seawolf': 9029, 'reckoning': 8378, 'raptor': 8314, 'dracula': 3292, 'tape': 10045, 'threat': 10214, 'vector': 10774, 'jake': 5499, 'nimitz': 7125, 'hitchhikers': 5015, 'supernatural': 9904, 'braveheart': 1618, 'hallelujah': 4746, 'obliviously': 7251, 'sails': 8824, 'administration': 542, 'riding': 8598, 'bus': 1757, 'sister': 9336, 'asleep': 975, 'pajamas': 7451, 'allegra': 682, 'maud': 6489, 'goldman': 4541, 'mitford': 6752, 'othello': 7375, '3rd': 256, 'civil': 2235, 'action': 525, 'faking': 3887, 'fountainhead': 4227, 'loop': 6156, 'bed': 1276, 'sight': 9277, 'surfacing': 9920, 'count': 2625, 'monte': 6802, 'cristo': 2710, 'quilt': 8239, 'foster': 4216, 'resistance': 8497, 'alias': 665, 'jamaica': 5501, 'inn': 5344, 'fried': 4279, 'tomatoes': 10323, 'whistle': 11105, 'stop': 9747, 'cafe': 1798, 'lily': 6073, 'cha': 2048, 'roald': 8650, 'dahl': 2819, 'grave': 4606, 'maurice': 6494, 'cabinet': 1787, 'curiosities': 2777, 'rice': 8582, 'salt': 8842, 'runner': 8774, 'gran': 4588, 'gatsby': 4401, 'met': 6623, 'child': 2143, 'mile': 6673, 'roll': 8682, 'bitter': 1418, 'multiple': 6923, 'address': 537, 'withheld': 11207, 'courtney': 2643, 'queen': 8220, 'sinners': 9324, 'comeback': 2389, 'sullivan': 9872, 'ceremonies': 2038, 'mormon': 6841, 'baby': 1119, 'koomera': 5820, 'wailing': 10953, 'native': 7010, 'postcolonial': 7947, 'suny': 9894, 'transpersonal': 10423, 'humanistic': 5140, 'heartbreaking': 4877, 'staggering': 9645, 'genius': 4437, 'capitalism': 1884, 'fails': 3876, 'path': 7564, 'answer': 834, 'terrorism': 10144, 'clan': 2248, 'intrigue': 5406, '651': 331, 'importance': 5262, 'earnest': 3428, 'thanatonautes': 10165, 'thursday': 10229, 'heir': 4905, 'apocalipstick': 868, 'harem': 4803, 'lodger': 6136, 'dolls': 3232, 'tunnel': 10548, 'vision': 10890, 'warshawski': 11000, 'comfortable': 2397, 'amelia': 737, 'earhart': 3425, 'fellowship': 3975, 'ring': 8611, 'watership': 11021, 'eyre': 3856, 'raised': 8291, 'herzsprung': 4951, 'basin': 1225, 'range': 8307, 'champions': 2062, 'doing': 3222, 'embers': 3554, 'clancys': 2250, 'plays': 7842, 'tigerjagd': 10250, 'ediacara': 3465, 'named': 6984, 'puffins': 8168, 'romantic': 8691, 'obsessions': 7259, 'humiliations': 5145, 'annie': 826, 'sehlmeier': 9057, 'hegemon': 4898, 'casement': 1951, 'tantras': 10039, 'avatar': 1077, 'shadowdale': 9150, 'crew': 2696, 'csi': 2744, 'blackmantle': 1430, 'keltiad': 5711, 'words': 11252, 'daw': 2883, 'collectors': 2353, 'deck': 2936, 'halls': 4750, 'wert': 11077, 'renegades': 8466, 'cole': 2339, 'arabesque': 894, 'plan': 7810, 'donovan': 3246, 'anonymous': 831, 'teenager': 10092, 'confident': 2477, 'collector': 2352, 'nadel': 6979, 'provence': 8134, 'irae': 5441, 'vieil': 10843, 'mer': 6599, 'libre': 6035, 'albemuth': 646, 'siva': 9346, 'bloodmoney': 1481, 'oeil': 7277, 'sibylle': 9262, 'rebrousse': 8367, 'perle': 7656, 'meilleur': 6564, 'mondes': 6786, 'histoires': 5004, 'extraordinaires': 3842, 'vã': 10943, 'ronika': 8700, 'dã': 3419, 'cide': 2212, 'mourir': 6883, 'maison': 6310, 'feuilles': 4001, 'risque': 8627, 'mortel': 6854, 'balade': 1156, 'bout': 1581, 'monde': 6785, 'pierre': 7754, 'folie': 4156, 'galactique': 4352, 'obscure': 7253, 'nouvelles': 7193, '1953': 132, '1981': 139, 'nuit': 7219, 'peste': 7679, '42': 265, 'bears': 1259, 'shapes': 9173, 'preschool': 8018, 'playhouse': 7838, 'lion': 6090, 'picnic': 7740, 'peters': 7685, 'welcom': 11063, 'troie': 10496, 'aura': 1040, 'pas': 7534, 'lieu': 6050, 'miro': 6716, 'famous': 3903, 'artists': 957, 'indian': 5301, 'cupboard': 2769, 'sworn': 9976, 'blows': 1490, 'hyperion': 5178, 'alert': 658, 'nightmare': 7115, 'room': 8706, 'thrillogy': 10220, 'whizzard': 11111, 'capture': 1891, 'lazarillo': 5927, 'tormes': 10356, 'didactica': 3093, 'anaya': 776, 'omnibus': 7309, 'johnny': 5576, 'legs': 5970, 'matt': 6482, 'including': 5286, 'classroom': 2265, 'teachers': 10073, 'harkonnen': 4804, 'dune': 3391, 'sailing': 8823, 'ice': 5189, 'squire': 9633, 'atreides': 1012, 'bertha': 1352, 'lum': 6212, 'printmakers': 8064, 'suckers': 9846, 'advertising': 561, 'rocky': 8669, 'swan': 9950, 'asylum': 1000, 'swimmer': 9959, 'novella': 7201, 'fishboy': 4079, 'popcorn': 7913, 'favorite': 3944, 'brand': 1612, 'sparrow': 9548, 'glad': 4508, 'rags': 8279, 'slightly': 9392, 'chipped': 2162, 'footnotes': 4178, 'booklore': 1543, 'exchange': 3788, 'gardening': 4380, 'miserables': 6725, 'castle': 1963, 'powerpoint': 7976, 'windows': 11163, 'dummies': 3385, 'expect': 3812, 'babyville': 1123, 'wise': 11190, 'parenting': 7510, 'pre': 7999, 'toddler': 10296, 'months': 6807, 'used': 10730, 'worldwide': 11270, 'starting': 9691, 'lt': 6200, 'motley': 6872, 'investment': 5432, 'beats': 1267, 'streets': 9785, 'tattoo': 10063, 'alchemist': 650, 'following': 4164, 'julia': 5630, 'gap': 4374, 'ain': 622, 'business': 1763, 'learned': 5945, 'nina': 7127, 'adolescence': 545, 'flying': 4147, 'diamond': 3073, 'spur': 9625, 'torn': 10357, 'skirt': 9366, 'solution': 9469, 'florabama': 4132, 'auxiliary': 1074, 'sewing': 9138, 'howl': 5125, 'poets': 7873, 'authoritative': 1061, 'text': 10161, 'biographical': 1397, 'contexts': 2531, 'critical': 2712, 'critic': 2711, 'tive': 10286, 'criticism': 2713, 'ernest': 3679, 'hemingway': 4923, 'scribner': 9001, 'grownups': 4673, 'babies': 1117, '1994': 147, 'played': 7834, 'brahms': 1603, 'notice': 7185, 'nuala': 7213, 'mcgrail': 6520, 'useless': 10732, 'skills': 9359, '75': 360, 'catechism': 1973, 'catholic': 1983, 'mcbride': 6511, 'based': 1219, 'missionary': 6734, 'enthusiasms': 3650, 'roberston': 8655, 'davies': 2880, 'drooling': 3348, 'population': 7918, 'economics': 3455, 'ideology': 5208, 'control': 2543, 'mere': 6605, 'christianity': 2182, 'haroun': 4812, 'lucy': 6208, 'meier': 6563, 'leslie': 5998, 'counts': 2633, 'bar': 1187, 'sport': 9609, 'duemila': 3378, 'narratori': 7001, 'senza': 9095, 'sangue': 8868, 'superior': 9899, 'bebb': 1273, 'homo': 5075, 'faber': 3857, 'mason': 6455, 'dixon': 3203, 'vineland': 10866, 'gravity': 4610, 'illusions': 5235, 'thorndike': 10200, 'americana': 741, 'maiden': 6300, 'niagara': 7091, 'analysis': 769, 'tests': 10154, 'discoveries': 3160, 'contained': 2521, 'dianetics': 3077, 'rabbit': 8258, 'fence': 3983, 'escapes': 3697, 'rain': 8283, 'kidnapped': 5732, 'catriona': 1987, 'shes': 9202, 'south': 9530, 'seas': 9024, '20': 153, 'leagues': 5939, 'climb': 2284, 'tragic': 10404, 'ambitions': 734, 'everest': 3768, 'climbing': 2286, 'mt': 6908, 'shasta': 9182, 'route': 8735, 'avalanche': 1075, 'gulch': 4701, 'fighter': 4028, 'act': 522, 'age': 597, 'childlike': 2146, 'flies': 4124, 'biograph': 1396, 'ringer': 8612, 'cerulean': 2043, 'anita': 818, 'blake': 1439, 'hunter': 5157, 'hobbit': 5028, 'leatherette': 5949, 'blackwood': 1435, 'judge': 5616, 'sheindlin': 9190, 'lose': 6166, 'vishnus': 10888, 'verse': 10809, 'fbi': 3947, 'agent': 602, 'dale': 2824, 'cooper': 2569, 'zauberfrau': 11363, 'graywolf': 4612, 'annual': 830, 'theos': 10177, 'religionen': 8444, 'blackwater': 1434, 'lightship': 6065, 'atlantis': 1006, 'primary': 8051, 'target': 10052, 'alienist': 672, 'manifold': 6364, 'dry': 3363, 'higby': 4966, 'wooden': 11243, 'redemption': 8390, 'althalus': 714, 'engaging': 3618, 'enemy': 3612, 'holding': 5032, 'saw': 8901, 'syndrome': 9983, 'pope': 7914, 'joan': 5565, 'account': 507, 'disaster': 3149, 'material': 6473, 'witness': 11208, 'bike': 1383, 'winston': 11179, 'salem': 8836, 'metaphysical': 6630, 'lyrics': 6234, '17': 81, 'cen': 2024, 'type': 10576, 'victory': 10837, 'sliver': 9399, 'bowl': 1588, 'cherries': 2121, 'pits': 7796, 'pudding': 8163, 'bunyip': 1737, 'bluegum': 1495, 'barnacle': 1205, 'sam': 8846, 'sawnoff': 8902, 'herat': 4933, 'afghanistan': 582, 'setting': 9127, 'incorrigible': 5292, 'adventurer': 558, 'similars': 9301, 'lie': 6041, 'pavilions': 7578, 'rified': 8601, 'company': 2433, 'cats': 1988, 'returning': 8536, 'marilyn': 6406, 'terminal': 10134, 'cause': 1995, 'whispering': 11103, 'poison': 7881, 'arrow': 944, 'marshall': 6429, 'uqp': 10718, 'storybridge': 9759, 'cantor': 1877, 'dilemma': 3114, 'journalist': 5598, 'mighty': 6667, 'mox': 6900, '75th': 363, 'anniversary': 827, 'kmox': 5786, 'faithful': 3884, 'sir': 9327, 'gawain': 4405, 'exhale': 3797, 'double': 3266, 'jimmy': 5558, 'stewart': 9722, 'sociable': 9443, 'ruth': 8786, 'habit': 4727, 'isaac': 5455, 'bashevis': 1221, 'singer': 9314, 'nothingmas': 7183, 'murdered': 6931, 'dunes': 3392, 'thirteen': 10195, 'tools': 10346, 'creative': 2684, 'pelã': 7613, 'lowcountry': 6196, 'chromosome': 2192, 'marple': 6421, 'incidents': 5283, 'rue': 8751, 'laugier': 5912, 'gettin': 4469, 'merry': 6614, 'session': 9125, 'origin': 7360, 'friday': 4277, 'cradle': 2668, '1st': 152, 'flight': 4125, 'orca': 7342, 'pendragon': 7619, 'cycle': 2799, 'belgrave': 1308, 'siberian': 9259, 'cut': 2790, 'vie': 10842, 'darwinia': 2867, 'plateaus': 7825, 'schizophrenia': 8943, 'wettermacher': 11086, 'intrige': 5405, 'mambo': 6338, 'spielen': 9581, 'verbotene': 10795, 'quadrupelfuge': 8207, 'mastering': 6462, 'linux': 6089, 'premium': 8011, 'hot': 5110, 'spicy': 9577, 'kissed': 5770, 'connected': 2492, 'millennium': 6680, 'lawless': 5920, 'technomanifestos': 10086, 'visions': 10891, 'information': 5325, 'revolutionaries': 8560, 'priest': 8047, 'allegory': 681, 'acts': 530, 'sax': 8904, 'faust': 3941, 'dorien': 3260, 'fg': 4005, 'immigrant': 5250, 'ance': 777, 'cooks': 2565, 'cuis': 2759, 'truths': 10522, 'parent': 7507, 'learning': 5946, 'stimulus': 9735, 'factor': 3866, 'leading': 5936, 'managing': 6344, 'technology': 10085, 'innovation': 5349, 'competitive': 2438, 'advantage': 556, 'strategic': 9777, 'renewal': 8467, 'performance': 7650, 'organization': 7352, 'unofficial': 10678, 'volumes': 10920, 'toasts': 10289, 'proverbs': 8135, 'norman': 7165, 'mailer': 6303, '253': 189, 'brighton': 1664, 'irene': 5445, 'opera': 7323, 'japanese': 5515, 'cult': 2762, 'tranquillity': 10412, 'families': 3900, 'nostalgia': 7177, 'trap': 10425, 'feel': 3963, 'cruddy': 2734, 'hocus': 5030, 'pocus': 7863, 'milagro': 6672, 'informal': 5324, 'sangre': 8867, 'borbotones': 1555, 'coleccion': 2340, 'nueva': 7216, 'skinwalkers': 9363, 'sis': 9333, 'boom': 1549, 'bah': 1149, 'switcheroo': 9968, 'towns': 10385, 'fantomes': 3915, 'ca': 1783, 'existe': 3802, 'lernmaterialien': 5994, 'hanged': 4776, 'eventual': 3767, 'atkins': 1004, 'defying': 2953, 'peeling': 7604, 'artemisia': 950, 'tommy': 10328, 'arguments': 920, 'venetian': 10787, 'romans': 8690, 'anatomist': 774, 'skies': 9358, 'dragondrums': 3295, 'instances': 5372, 'beethoven': 1291, 'hair': 4740, 'solved': 9472, 'niccolo': 7094, 'machiavelli': 6249, 'magnificent': 6292, 'course': 2640, 'florentine': 4134, 'rhoda': 8571, 'winner': 11174, 'award': 1095, 'resist': 8496, 'serve': 9120, 'summerland': 9877, 'dragonsinger': 3303, 'brunelleschi': 1691, 'dome': 3237, 'reinvented': 8426, 'architecture': 912, 'indispensable': 5309, 'compendium': 2436, 'photoshop': 7722, 'macintosh': 6252, 'visual': 10898, 'quickstart': 8235, 'starfire': 9674, 'spectra': 9559, 'borders': 1558, 'infinity': 5320, 'instance': 5371, 'fingerpost': 4053, 'dirigible': 3142, 'barnes': 1206, 'shelters': 9195, 'absolute': 478, 'reversible': 8550, 'errors': 3689, 'retirement': 8524, 'housing': 5124, 'phyllis': 7725, 'suburban': 9835, 'icarus': 5188, 'agenda': 601, 'mistook': 6743, 'hat': 4831, 'clinical': 2289, 'clue': 2314, 'velvet': 10782, 'mask': 6451, 'clefairy': 2277, 'inanna': 5274, 'frommer': 4295, '96': 430, 'frugal': 4303, 'serial': 9111, 'oleander': 7296, 'emmanuel': 3569, 'manual': 6377, 'comfortably': 2398, 'cosmos': 2617, 'mammoth': 6340, 'supposedly': 9915, 'fun': 4318, 'infinite': 5319, 'jest': 5545, 'delaware': 2964, 'lucky': 6207, 'handmaid': 4770, 'test': 10148, 'bough': 1574, 'breaks': 1628, 'captain': 1889, 'underpants': 10637, 'attack': 1015, 'toilets': 10304, 'epic': 3659, 'england': 3622, 'zero': 11370, 'parfum': 7513, 'eines': 3504, 'morders': 6832, 'amazonia': 728, 'acid': 516, 'row': 8737, 'orphans': 7368, 'sound': 9520, 'fury': 4331, 'manitous': 6366, 'puma': 8171, 'backwards': 1132, 'knew': 5789, 'caribbean': 1912, 'shaped': 9172, 'afrikanisches': 590, 'fieber': 4016, 'erfahrungen': 3676, 'vierzig': 10850, 'jahren': 5495, 'sympathy': 9980, 'criminal': 2706, 'intent': 5384, 'exiles': 3800, 'habibi': 4726, 'ishmael': 5460, 'australia': 1053, 'baudolino': 1246, 'rhapsody': 8568, 'cinco': 2219, 'parã': 7533, 'molly': 6775, 'pregnancy': 8003, 'answered': 835, 'lightning': 6063, 'homing': 5072, 'wire': 11185, 'tony': 10344, 'jordan': 5589, 'acceptable': 496, 'dive': 3190, 'clausen': 2267, 'pier': 7751, 'fitcher': 4090, 'sherlock': 9201, 'holmes': 5046, 'rune': 8771, 'emigrants': 3564, 'enchantment': 3590, 'knitting': 5793, 'crocheting': 2719, 'innocence': 5347, 'himalayas': 4989, 'horror': 5099, 'sixteenth': 9348, 'gloriana': 4521, 'longing': 6149, 'bombay': 1529, 'arranged': 941, 'universe': 10666, 'paradys': 7497, 'calliope': 1822, 'comparative': 2434, 'study': 9813, 'philosophies': 7713, 'crackpots': 2666, 'cassette': 1958, 'steppenwolf': 9713, 'cryptonomicon': 2740, 'revisited': 8556, 'antelope': 841, 'guenevere': 4684, 'laura': 5913, 'buggs': 1712, 'beet': 1290, 'arctic': 916, 'imagination': 5245, 'landscape': 5882, 'sibyl': 9261, 'evensong': 3765, 'dare': 2852, 'keeper': 5701, 'smart': 9411, 'nutrients': 7232, 'supplements': 9911, 'achieve': 512, 'maximum': 6499, 'mental': 6592, 'physical': 7726, 'window': 11162, 'negaholics': 7037, 'suddenly': 9849, 'maze': 6508, 'grey': 4639, 'casey': 1953, 'luberon': 6201, 'vieja': 10844, 'sirena': 9330, 'justine': 5657, 'cuarteto': 2750, 'alejandria': 657, 'canaan': 1849, 'hills': 4987, 'ark': 927, 'seed': 9045, '1984': 140, 'mama': 6337, 'reviving': 8558, 'ophelia': 7328, 'selves': 9073, 'adolescent': 546, 'anam': 771, 'cara': 1894, 'taiping': 10006, 'hong': 5083, 'xiuquan': 11321, 'williams': 11149, 'sonoma': 9494, 'lifestyles': 6056, 'voices': 10913, 'rooms': 8707, 'rebuilding': 8368, 'coventry': 2649, 'cities': 2231, 'yeats': 11337, 'battles': 1242, 'ching': 2160, 'definitive': 2952, 'taoist': 10043, 'alfred': 661, 'huang': 5129, 'poder': 7864, 'curativo': 2773, 'mente': 6594, 'joven': 5605, 'perla': 7655, 'maestro': 6272, 'ventajas': 10791, 'viajar': 10828, 'tren': 10462, 'mists': 6746, 'tithe': 10282, 'immortal': 5253, 'manana': 6345, 'batalla': 1232, 'piensa': 7750, 'mi': 6644, 'bolsillo': 1526, 'jemima': 5535, 'ducklings': 3373, 'swans': 9951, 'neighbor': 7045, 'macgregors': 6246, '1232': 41, 'cowboy': 2656, 'ranch': 8301, 'superromance': 9906, '910': 413, 'sandra': 8861, 'crows': 2732, 'super': 9895, '961': 431, 'nora': 7161, 'roberts': 8658, 'mustang': 6949, 'racing': 8266, 'cavanaugh': 1999, 'justice': 5656, 'moments': 6778, 'ranchin': 8303, 'dads': 2817, '1116': 26, 'shane': 9168, 'mackade': 6254, '1022': 13, '1414': 58, '828': 383, 'seduction': 9044, 'design': 3022, 'yesterday': 11341, 'reunited': 8539, 'glory': 4523, '835': 386, 'dimedici': 3119, 'eyewitness': 3855, 'witchcraft': 11201, 'press': 8031, 'sunsets': 9892, 'rogues': 8678, 'hire': 4999, '767': 365, 'wellspring': 11066, '26': 192, '831': 385, 'driftin': 3340, 'dunleavy': 3399, '654': 332, 'treasure': 10448, 'cussler': 2788, 'orion': 7364, 'angeles': 795, 'supercarrier': 9896, 'aboard': 464, 'powerful': 7975, 'uss': 10735, 'cw2': 2793, 'wolfs': 11224, 'anima': 810, 'mundi': 6927, 'romanzi': 8692, 'racconti': 8261, 'giovane': 4496, 'holden': 5031, 'donna': 3245, 'ultimo': 10600, 'judio': 5621, 'punto': 8178, 'lectura': 5958, 'kaleidoscope': 5668, 'willa': 11145, 'cather': 1981, 'scholarly': 8953, 'pastoral': 7552, 'sophies': 9501, 'choice': 2166, 'connecticut': 2493, 'yankee': 11328, 'court': 2642, 'guns': 4706, 'princes': 8056, 'flower': 4137, 'arranging': 942, 'rd': 8334, 'handbooks': 4765, 'bons': 1538, 'presages': 8017, 'bon': 1530, 'usage': 10727, 'lenteur': 5986, 'natale': 7004, 'guerra': 4685, 'cura': 2771, 'marco': 6391, 'belpoliti': 1322, 'broken': 1678, 'colera': 2342, 'cholera': 2170, 'cien': 2215, 'aã': 1111, 'os': 7371, 'soledad': 9461, 'aguero': 615, 'hannah': 4783, 'mendes': 6586, 'seraglio': 9105, 'faith': 3883, 'weiden': 11056, 'april': 887, 'demand': 2978, 'humorous': 5148, 'ledge': 5961, 'substitute': 9832, 'hassle': 4829, 'subbing': 9829, 'emotional': 3572, 'habits': 4729, 'highly': 4972, 'mysterious': 6960, 'styles': 9826, 'lizard': 6119, 'question': 8229, 'puppet': 8179, 'corpse': 2600, 'skinny': 9361, 'vermillion': 10801, 'chiller': 2151, 'investing': 5431, 'judging': 5618, 'woo': 11241, 'suspicion': 9942, 'deceit': 2925, 'politika': 7896, 'clancy': 2249, 'orchid': 7345, 'wald': 10961, 'gehenkten': 4416, 'â¼chse': 11410, 'novecento': 7196, 'pianiste': 7731, 'selfish': 9070, 'gene': 4428, 'chapterhouse': 2078, 'heretics': 4939, 'emperor': 3575, 'serpico': 9117, 'diagnostic': 3070, 'statistical': 9697, 'disorders': 3175, 'dsm': 3364, 'tr': 10393, 'revision': 8554, 'andromeda': 787, 'strain': 9765, 'loves': 6189, 'dolores': 3234, 'claiborne': 2239, 'cooker': 2561, 'pandora': 7474, 'crown': 2731, 'told': 10309, 'textbook': 10162, 'wrong': 11301, 'feng': 3985, 'shui': 9252, 'chaos': 2076, 'wheel': 11094, 'reborn': 8365, 'threads': 10213, 'pattern': 7573, 'begins': 1297, 'introductory': 5415, 'lectures': 5959, 'psychoanalysis': 8149, 'method': 6635, 'lear': 5943, 'saint': 8825, 'augustine': 1037, 'image': 5241, 'individual': 5310, 'experiments': 3822, 'tzu': 10581, 'plus': 7856, 'revealed': 8541, 'archery': 910, 'anatomy': 775, 'improved': 5271, 'enlightenment': 3634, 'plane': 7811, 'insanity': 5355, 'attendant': 1016, 'rage': 8274, 'queasiness': 8219, '30': 212, 'starlight': 9679, 'eggs': 3490, 'wiseman': 11192, 'adult': 552, 'starsong': 9688, 'tsr': 10526, 'harm': 4807, 'spinne': 9588, 'mã': 6970, 'dchen': 2900, 'bildhauerin': 1388, '40': 257, 'bleiben': 1456, 'jung': 5641, 'besten': 1357, 'goddess': 4530, 'clear': 2274, 'homesick': 5066, 'restaurant': 8511, 'fourth': 4232, 'newjack': 7079, 'guarding': 4682, 'sing': 9313, 'homestead': 5067, 'patchwork': 7561, 'devotional': 3059, 'inspirational': 5365, 'tuesdays': 10538, 'morrie': 6847, 'stuart': 9805, 'entertaining': 3648, 'parody': 7521, 'napalm': 6992, 'silly': 9294, 'putty': 8197, 'delany': 2963, 'meaning': 6529, 'rogue': 8677, 'pilates': 7765, 'strengthening': 9788, 'lengthening': 5982, 'toning': 10341, 'machines': 6251, 'esteem': 3731, 'pleasure': 7846, 'dada': 2815, 'surrealism': 9927, 'introductions': 5414, 'creativity': 2685, 'flow': 4136, 'invention': 5424, 'eats': 3445, 'shoots': 9227, 'tolerance': 10310, 'punctuation': 8174, 'calm': 1825, 'unmaking': 10675, 'franken': 4252, 'dirty': 3145, 'jokes': 5581, 'beer': 1287, 'unrefined': 10683, 'maya': 6500, 'curmudgeon': 2781, 'educational': 3477, 'thinker': 10188, 'friendly': 4283, 'sit': 9340, 'solve': 9471, 'lateral': 5904, 'advice': 562, 'quotations': 8252, 'asking': 973, '6th': 346, 'strategies': 9778, 'mating': 6481, 'joke': 5579, 'feeling': 3964, 'mood': 6812, '92': 418, 'tricks': 10475, 'success': 9838, 'playful': 7837, 'happen': 4786, 'workbook': 11256, 'inspire': 5367, 'delight': 2966, 'educating': 3475, 'esme': 3705, 'ideas': 5203, 'encouragement': 3595, 'tips': 10276, 'stimulate': 9732, 'improve': 5270, 'undoing': 10641, 'doesn': 3216, 'medication': 6544, 'rest': 8509, 'spots': 9615, 'shots': 9238, 'incendiary': 5277, 'issues': 5472, 'cure': 2774, 'hiccups': 4959, 'dozens': 3288, 'unusual': 10703, 'fantastical': 3913, 'expression': 3835, 'oscar': 7372, 'wilde': 11137, 'response': 8507, 'tpr': 10392, 'colossus': 2375, 'maroussi': 6420, 'nostromo': 7178, 'esl': 3704, 'activities': 527, 'ages': 604, 'hear': 4870, 'destroying': 3040, 'northanger': 7169, 'abbey': 453, 'flowers': 4138, 'algernon': 663, 'sooner': 9498, 'later': 5903, 'folly': 4165, 'troy': 10509, 'vietnam': 10851, 'loose': 6158, 'jerk': 5540, 'reflections': 8404, 'mediocre': 6549, 'fisherman': 4081, 'quest': 8226, 'pow': 7971, 'rawlins': 8331, 'orient': 7357, 'express': 3834, 'hercule': 4935, 'poirot': 7879, '1690': 77, 'wed': 11039, '1696': 79, 'wld': 11217, 'accordng': 505, 'masquerade': 6457, 'zoos': 11389, 'anymore': 864, 'stalin': 9651, 'sinking': 9322, 'counsel': 2624, 'tinker': 10269, 'tailor': 10002, 'berenstain': 1336, 'berlin': 1344, 'norris': 7167, 'directions': 3141, 'stay': 9699, 'hitched': 5013, 'swords': 9974, 'paradiso': 7494, 'degli': 2954, 'orchi': 7344, 'celestine': 2019, 'prophecy': 8117, 'experiential': 3820, 'huis': 5134, 'clos': 2300, 'suivi': 9868, 'mouches': 6877, '807': 377, 'escape': 3696, 'kathmandu': 5694, 'mcnally': 6522, 'xiv': 11322, 'pay': 7582, 'forward': 4215, 'bola': 1521, 'vez': 10823, 'policial': 7890, 'coleã': 2343, 'brasileiro': 1613, 'corrente': 2605, 'trewis': 10466, 'valkã': 10753, 'rias': 8577, 'crã³nica': 2742, 'perãº': 7677, 'crã³nicas': 2743, 'rica': 8581, 'blast': 1448, 'folklore': 4159, 'tradition': 10399, 'wings': 11172, 'truckers': 10512, 'keepers': 5702, 'celts': 2023, 'celtia': 2021, 'kells': 5709, 'plates': 7827, 'single': 9317, 'apocalypse': 869, 'wow': 11285, 'cops': 2579, 'dilbert': 3113, 'conversations': 2555, 'dogbert': 3218, 'bunch': 1729, 'main': 6305, 'experience': 3817, 'attitude': 1020, 'nameless': 6985, 'blameless': 1441, 'shameless': 9166, 'adams': 534, 'trauma': 10431, 'jester': 5546, 'jupiter': 5650, 'toughest': 10375, 'witnesses': 11209, 'hancock': 4761, 'catching': 1972, 'killers': 5739, 'roadwork': 8649, 'watermelon': 11018, 'sick': 9264, 'puppy': 8182, 'reliquary': 8445, 'visitor': 10894, 'reacher': 8338, 'yorkshire': 11348, 'dreamland': 3322, 'steel': 9704, 'judgment': 5619, 'critics': 2714, 'kathleen': 5693, 'mallory': 6332, 'sphere': 9573, 'woodpecker': 11245, 'pelican': 7609, 'brief': 1659, '254p': 190, 'gay': 4406, 'partisan': 7527, 'greenwich': 4633, 'village': 10859, 'homosexual': 5076, 'scene': 8928, 'halfway': 4744, 'stonewall': 9745, 'outing': 7391, 'controversies': 2546, 'liberation': 6029, 'clash': 2257, 'homosexuality': 5077, 'era': 3669, 'fourteenth': 4231, 'sensation': 9086, 'lesbian': 5997, 'equal': 3666, 'rights': 8605, '1945': 129, '1990': 145, 'oral': 7339, 'queer': 8222, 'looks': 6155, 'video': 10840, 'male': 6327, 'features': 3956, 'destinies': 3037, 'exposures': 3833, 'ball': 1162, 'conquer': 2498, 'hatred': 4836, 'gays': 4408, '90s': 412, 'walt': 10972, 'whitman': 11108, 'wholeness': 11114, 'sm': 9408, 'decade': 2923, 'tapes': 10046, 'candid': 1855, 'discussion': 3164, 'tribe': 10470, 'regenerating': 8414, 'sexuality': 9142, 'ongoing': 7312, 'epidemic': 3661, 'haworth': 4854, 'discovering': 3161, 'gifts': 4486, 'talents': 10014, 'abilities': 462, 'feminin': 3979, 'dollars': 3229, 'perfection': 7647, 'psychic': 8147, 'successful': 9839, 'clairvoyants': 2246, 'camino': 1839, 'visualization': 10900, 'create': 2681, 'changes': 2072, 'running': 8775, 'safety': 8816, 'shambhala': 9164, 'eleventh': 3526, 'insight': 5360, 'maps': 6385, 'ecstasy': 3457, 'untamed': 10698, 'invitation': 5437, 'chief': 2140, 'write': 11293, 'unleashing': 10671, 'heavens': 4888, 'chris': 2178, 'karmic': 5685, 'enchilada': 3591, 'exposure': 3832, 'alaskan': 644, 'riviera': 8641, 'publication': 8158, 'television': 10099, 'photographs': 7719, 'cicely': 2210, 'stinky': 9737, 'cheeseman': 2111, 'fairly': 3880, 'stupid': 9818, 'caldecott': 1810, 'portfolios': 7926, 'ansel': 833, 'palmistry': 7466, 'festival': 3997, 'rumi': 8761, 'character': 2079, 'shields': 9205, 'developing': 3050, 'intuition': 5419, 'guidance': 4691, 'daily': 2820, 'valkyries': 10752, 'instrumental': 5378, 'board': 1503, 'giving': 4506, 'pony': 7906, 'sandy': 8864, 'lane': 5883, 'stables': 9640, 'close': 2301, 'finances': 4041, 'largest': 5895, 'selection': 9067, 'indoor': 5311, 'coon': 2567, 'purchase': 8184, 'nutrition': 7233, 'reproduction': 8483, 'diseases': 3167, 'behavior': 1300, 'owner': 7421, 'important': 5263, 'stuff': 9814, 'taught': 10065, 'haven': 4846, 'domestically': 3238, 'challenged': 2054, 'westing': 11083, 'interview': 5400, 'outlaw': 7394, 'inorganic': 5352, 'kushiel': 5851, 'step': 9710, 'quality': 8209, 'affordable': 579, 'computational': 2450, 'theories': 10175, 'models': 6764, 'virginia': 10880, 'woolf': 11250, 'karpov': 5686, 'korchnoi': 5824, 'massacre': 6459, 'merano': 6600, 'batsford': 1238, 'developments': 3053, 'latvian': 5908, 'chessboard': 2125, 'titans': 10281, 'ear': 3424, 'arm': 930, 'turbulent': 10550, 'jewish': 5552, 'succulent': 9841, 'campus': 1847, 'informers': 5327, 'africans': 589, 'ameri': 738, 'slavery': 9379, 'taboo': 9988, 'purple': 8188, 'shelter': 9194, 'diaspora': 3081, 'confucio': 2483, 'nel': 7049, 'computer': 2451, 'memoria': 6577, 'accidentale': 501, 'futuro': 4336, 'movers': 6892, 'daycare': 2892, 'spaniard': 9543, 'foreign': 4185, 'affairs': 569, '2351': 179, 'greek': 4620, 'ultimatum': 10598, 'tycoons': 10574, '2353': 180, 'mans': 6371, 'endless': 3604, 'careful': 1906, 'date': 2870, 'australians': 1055, 'parisian': 7516, 'playboy': 7833, 'faery': 3873, 'fisch': 4075, 'lernt': 5995, 'unterwegs': 10700, 'durch': 3403, 'narcissus': 6994, 'goldmund': 4542, 'fronteras': 4296, 'lo': 6128, 'imposible': 5264, 'noticias': 7187, 'gurb': 4708, 'breve': 1641, '2001': 156, 'idioms': 5210, 'modismos': 6768, 'espanoles': 3708, 'ingleses': 5332, 'gato': 4400, 'angus': 805, 'primer': 8053, 'morreo': 6846, 'pasta': 7550, 'pozo': 7979, 'pendulo': 7620, 'otras': 7378, 'historias': 5007, 'espeluzna': 3713, 'educaciã³n': 3474, 'hada': 4732, 'circulo': 2226, 'magico': 6287, 'euros': 3756, 'ocho': 7268, 'mitologia': 6753, 'guia': 4690, 'ilustrada': 5239, 'mitos': 6754, 'mundo': 6928, 'dumas': 3382, 'ediciã³n': 3467, 'espaã': 3710, 'ol': 7293, 'falso': 3896, 'movimiento': 6898, 'angular': 804, 'adios': 540, 'tabla': 9986, 'flandes': 4105, 'patience': 7565, 'notebook': 7179, 'carnal': 1919, 'fulfillment': 4315, 'mattimeo': 6487, 'redwall': 8397, 'italy': 5475, 'anthology': 843, 'departures': 3002, 'overload': 7411, 'shores': 9233, 'whirlwind': 11100, 'rosebud': 8717, '1876': 106, 'plainsmen': 7808, 'bloodstream': 1482, 'comebacks': 2390, 'robicheaux': 8659, 'worthy': 11280, 'adept': 539, 'heat': 4883, 'destiny': 3038, 'car': 1893, 'engine': 3620, 'scientists': 8973, 'changing': 2073, 'treehouses': 10457, 'craft': 2669, 'limb': 6074, 'treehouse': 10456, 'construction': 2514, 'royal': 8741, 'visit': 10892, 'falcon': 3888, 'harrington': 4816, 'balcony': 1160, 'disappearance': 3147, 'basilisk': 1224, 'reaper': 8356, 'silk': 9293, 'cyanide': 2795, 'codemaker': 2325, 'mathematical': 6477, 'nobel': 7140, 'laureate': 5914, 'fishin': 4084, 'featuring': 3957, 'belong': 1319, 'threatening': 10215, 'invading': 5420, 'iraq': 5443, 'reading': 8343, 'tehran': 10096, 'latitudes': 5906, 'boldly': 1524, 'embraced': 3557, 'sale': 8835, 'sold': 9457, 'landover': 5879, 'rookies': 8705, 'bradymania': 1601, 'probably': 8078, 'didnt': 3095, '25th': 191, 'invasion': 5421, 'yearbook': 11334, 'listen': 6097, 'farrah': 3925, 'fawcett': 3945, 'graveyard': 4609, 'atlantic': 1005, 'shipwrecks': 9215, 'carolina': 1927, 'splinter': 9602, 'strikes': 9793, 'hiker': 4978, 'miles': 6675, 'tested': 10153, 'hiking': 4981, 'celebration': 2014, 'enjoy': 3631, 'hungry': 5154, 'hikers': 4979, 'went': 11072, 'creek': 2689, 'superchiller': 9897, 'cheerleaders': 2108, 'switchers': 9969, 'stine': 9736, 'elf': 3527, 'replica': 8476, 'andalite': 780, 'elfangor': 3528, 'alloran': 691, 'dies': 3099, 'encounter': 3593, 'shipwreck': 9214, 'karen': 5680, 'sitters': 9345, '23': 177, '25': 187, 'christie': 2184, 'caper': 1881, 'epilogue': 3662, 'bridges': 1656, 'madison': 6267, 'county': 2634, 'macromedia': 6259, 'dreamweaver': 3328, 'training': 10408, 'cynster': 2804, 'fifth': 4022, 'scrooge': 9005, 'wore': 11254, 'spurs': 9627, 'score': 8981, 'finger': 4051, 'reckless': 8377, 'knowing': 5803, 'price': 8044, 'candellano': 1854, 'impostress': 5267, 'savage': 8892, 'douglas': 3273, 'mira': 6709, 'leisure': 5977, 'proper': 8114, 'husband': 5166, 'trophy': 10499, 'mistress': 6745, 'millionaire': 6684, 'seduced': 9041, 'naughty': 7014, 'marietta': 6403, 'knot': 5798, 'caress': 1910, 'francesca': 4245, 'cahill': 1801, 'virile': 10882, 'viking': 10856, 'untie': 10701, 'stealing': 9703, 'embrace': 3556, 'married': 6424, '622': 324, 'ross': 8724, 'joann': 5566, 'highness': 4973, 'temptress': 10120, 'homecoming': 5057, 'riders': 8595, 'zebra': 11364, 'tempt': 10116, 'twice': 10567, 'kenyon': 5720, 'romancing': 8688, 'riley': 8607, 'sophia': 9499, 'leopard': 5991, 'respect': 8502, 'happiness': 4792, 'louisiana': 6181, 'celebrating': 2013, 'discover': 3157, 'positive': 7934, 'intellectual': 5380, 'organizations': 7353, 'soulwork': 9519, 'opening': 7321, 'replenishing': 8475, 'exactly': 3782, 'esoteric': 3706, 'monuments': 6810, 'skeletons': 9354, 'schwartz': 8963, 'joyful': 5608, 'blame': 1440, 'iris': 5446, 'preserving': 8026, 'salamandastron': 8830, 'blew': 1461, 'dax': 2888, 'pianist': 7730, 'warsaw': 10999, '1939': 123, '34': 231, 'east': 3437, 'fates': 3935, 'courtship': 2645, 'borderline': 1557, 'spiderwick': 9579, 'ponce': 7902, 'tiempo': 10243, 'promesa': 8101, 'deptford': 3008, 'tartuffe': 10057, 'moliere': 6773, 'scorpio': 8982, 'illusion': 5234, 'richtig': 8587, 'geri': 4450, 'weibel': 11054, 'geheime': 4414, 'bastard': 1230, 'distraction': 3184, 'taste': 10060, 'roc': 8664, 'islands': 5465, 'deafness': 2908, 'entertainment': 3649, 'industry': 5313, 'druids': 3360, 'deed': 2940, 'paksenarrion': 7452, 'ace': 511, 'fashioned': 3929, 'deaf': 2907, 'loss': 6170, 'schismatrix': 8942, 'includes': 5285, 'coldfire': 2338, 'difference': 3105, 'sorry': 9512, 'excuses': 3792, 'elric': 3544, 'pt': 8155, 'noticed': 7186, 'health': 4867, 'society': 9447, 'latin': 5905, 'termination': 10135, 'node': 7145, 'silverlight': 9298, 'arcana': 901, 'morgan': 6836, 'llywelyn': 6126, 'command': 2404, 'line': 6084, 'korean': 5825, 'hangul': 4779, 'hanja': 4780, 'dude': 3375, 'countries': 2631, 'arts': 958, 'silverhand': 9297, 'summon': 9879, '21': 165, 'merlyn': 6609, 'druid': 3358, 'lore': 6162, 'seekers': 9051, 'reich': 8419, 'cayce': 2003, 'kahunas': 5664, 'vital': 10902, 'cleansing': 2273, 'protection': 8129, 'rivers': 8638, 'starscape': 9685, 'necklace': 7029, 'sentimenntale': 9092, 'inform': 5323, 'rwanda': 8791, 'virevolte': 10878, 'meurtres': 6640, 'soutane': 9529, 'bee': 1284, 'cherry': 2122, 'domain': 3236, 'nomers': 7152, 'pervections': 7676, 'slept': 9389, 'sort': 9513, 'united': 10662, 'afar': 566, 'izzy': 5481, 'willy': 11154, 'nilly': 7122, 'building': 1716, 'blocks': 1472, 'jackaroo': 5485, 'solitary': 9464, 'hateship': 4834, 'friendship': 4285, 'loveship': 6190, 'phantoms': 7699, 'bearded': 1257, 'revelation': 8544, 'judea': 5615, 'ami': 745, 'retrouvã': 8533, 'lame': 5871, 'sextant': 9140, 'dante': 2851, 'wahnsinn': 10951, 'normalitã': 7164, 'baker': 1152, 'gentle': 4439, 'complicated': 2444, 'sail': 8822, 'firsthand': 4073, 'narratives': 7000, 'possessions': 7939, 'thoroughly': 10203, 'violets': 10875, 'babel': 1116, 'tar': 10049, 'bamboo': 1172, 'etruscan': 3748, 'chimera': 2154, 'archaeological': 904, 'bada': 1134, 'bing': 1394, 'sopranos': 9505, 'gestalt': 4463, 'prefer': 8002, 'tomoe': 10331, 'gozen': 4572, 'amazons': 729, 'feminine': 3980, 'roots': 8713, 'astrology': 996, 'preventive': 8041, 'pivot': 7799, 'contagion': 2519, 'vorleser': 10930, 'treaty': 10454, 'klingon': 5783, 'voyager': 10937, 'armageddon': 933, 'startide': 9690, 'uplift': 10712, 'hits': 5018, 'total': 10367, 'myles': 6957, 'goldengirl': 4539, 'moonscatter': 6822, 'starchild': 9671, 'illegal': 5227, 'aliens': 673, '1935': 122, '1955': 133, 'warm': 10991, 'aquarian': 889, 'subconscious': 9830, 'otherland': 7376, 'chills': 2153, 'cruel': 2735, 'misery': 6726, 'faerie': 3872, 'mariette': 6404, 'lance': 5873, 'crusades': 2737, 'mortal': 6851, 'curfew': 2775, 'generations': 4432, 'rooted': 8712, 'scotland': 8984, 'morris': 6848, 'gilbert': 4487, 'lone': 6142, 'owl': 7419, 'kansas': 5674, 'blaze': 1451, 'cascades': 1947, 'concealed': 2456, 'limit': 6077, 'open': 7319, 'pirate': 7792, 'twilight': 10568, 'watchers': 11011, 'intensity': 5383, 'riddick': 8591, 'helsing': 4921, 'windsong': 11165, 'serenade': 9107, 'serenata': 9108, 'jacaranda': 5483, 'precious': 8001, 'splendor': 9600, 'dollar': 3228, 'professor': 8091, 'madman': 6268, 'lions': 6092, 'lucerne': 6202, 'hilt': 4988, 'palestinian': 7462, 'refugee': 8408, 'nakba': 6981, 'tones': 10335, 'godel': 4531, 'escher': 3698, 'bach': 1124, 'braid': 1604, 'cosima': 2615, 'wagner': 10948, 'abridgement': 473, 'bonesetter': 1537, 'yuwipi': 11358, 'ritual': 8633, 'scriptures': 9002, 'lola': 6138, 'voodoo': 10925, 'priestess': 8048, 'religion': 8443, 'kolowalu': 5809, 'spices': 9576, 'curanderismo': 2772, 'mexican': 6642, 'unseen': 10690, 'ivy': 5479, 'identities': 5206, 'unbroken': 10619, 'thread': 10212, 'asian': 968, 'zoot': 11390, 'suit': 9864, 'midwife': 6661, 'ballard': 1165, '1785': 89, '1812': 92, 'readings': 8344, 'senses': 9088, 'midwives': 6663, 'quixote': 8248, 'mancha': 6346, 'cyrano': 2805, 'bergerac': 1338, 'dreaming': 3321, 'process': 8083, 'karamazov': 5678, 'solomon': 9468, 'treader': 10445, 'coronado': 2597, 'conspiracy': 2510, 'passenger': 7541, 'maias': 6298, 'labyrinth': 5857, 'demonlands': 2990, 'shrugged': 9249, 'pursuit': 8192, 'enriched': 3638, 'yearling': 11335, 'chicago': 2133, '1999': 151, 'hinds': 4993, 'loosed': 6159, 'wounds': 11284, 'nines': 7128, 'talent': 10013, 'carrie': 1931, 'pilby': 7766, 'aquitanien': 891, 'totenwã': 10369, 'scherin': 8940, 'flush': 4143, 'biographie': 1398, 'venezianisches': 10788, 'finale': 4038, 'commissario': 2413, 'brunettis': 1692, 'erster': 3691, 'geschichtenmacher': 4458, 'experiment': 3821, 'einmal': 3506, 'rettete': 8534, 'beck': 1275, 'texte': 10163, 'dtv': 3365, 'â¼nfte': 11420, 'falsche': 3894, 'hrte': 5128, 'hang': 4775, 'ribbons': 8580, 'phillis': 7708, 'wheatley': 11093, 'scenes': 8929, 'mandarin': 6348, '104': 20, 'sweat': 9954, 'player': 7835, 'stolen': 9741, 'affections': 571, '107': 23, 'counterfeit': 2627, '102': 12, '103': 17, 'prom': 8100, 'crossover': 2727, 'carnivorous': 1925, 'carnival': 1923, 'revolutionary': 8561, 'kabran': 5661, 'tenopia': 10125, 'questar': 8227, 'japed': 5516, 'ringworld': 8614, 'engineers': 3621, 'magicnet': 6286, 'quicksilver': 8234, 'screen': 8996, 'doon': 3250, 'elizabeth': 3533, 'truly': 10516, 'shirley': 9216, 'rosy': 8727, 'junior': 5644, 'jitters': 5563, 'autograph': 1068, 'bit': 1413, 'suspect': 9940, '39': 253, 'barbary': 1189, 'enemies': 3611, 'carefully': 1907, 'striper': 9797, 'assassin': 981, '5254': 295, 'nosferatu': 7176, 'compensation': 2437, 'hunts': 5160, '16': 73, 'technobabel': 10084, '31': 218, 'drug': 3356, '37': 247, 'pawn': 7581, 'tails': 10004, 'asimov': 970, 'transvergence': 10424, '51': 290, 'sphinx': 9574, 'term': 10133, 'limits': 6079, 'pizza': 7801, 'interrupted': 5397, 'messiah': 6621, 'firebrand': 4061, 'diving': 3196, 'butterfly': 1773, 'whispers': 11104, 'poet': 7870, 'dunkles': 3398, 'leuchten': 6012, 'meine': 6566, 'freundin': 4276, 'diese': 3100, 'nner': 7139, 'sagen': 8819, 'tuesday': 10537, 'treasures': 10449, 'geodyssey': 4444, 'watermill': 11019, 'push': 8194, 'yes': 11339, 'unlikely': 10673, 'martyrdom': 6438, 'cassie': 1959, 'bernall': 1347, 'champagner': 2060, 'kamillentee': 5671, 'finstere': 4057, 'â¼nde': 11416, 'potsdamer': 7961, 'ableben': 463, 'sommer': 9480, 'ende': 3601, 'zwanzig': 11401, 'kugelrunde': 5844, 'roberto': 8657, 'windmã': 11161, 'hne': 5023, 'tot': 10366, 'autoren': 1070, 'schreiben': 8962, 'sehr': 9058, 'irischen': 5447, 'ehrensache': 3494, 'letzte': 6011, 'konzert': 5819, 'â¼den': 11413, 'straã': 9781, 'enbahntrinker': 3586, 'alberta': 648, 'empfã': 3578, 'ngt': 7086, 'liebhaber': 6047, 'jubilã': 5613, 'ums': 10604, 'marbles': 6388, 'lickety': 6040, 'spilt': 9585, 'sleuth': 9390, '19': 109, 'michelle': 6650, 'meg': 6560, 'scrapbook': 8991, 'sheltie': 9196, 'saves': 8897, 'elidor': 3531, 'hexenjagd': 4953, 'akten': 635, 'handlungsreisenden': 4769, 'caballero': 1784, 'armadura': 932, 'oxidada': 7425, 'bailey': 1150, 'fethering': 3998, 'analyst': 770, 'moment': 6777, 'promotional': 8108, 'tides': 10240, 'monkeys': 6791, 'semesters': 9075, 'bagombo': 1147, 'snuff': 9438, 'rosewater': 8721, 'pearls': 7597, 'swine': 9961, 'neal': 7022, 'pollack': 7899, 'writings': 11298, 'outgrow': 7389, 'uno': 10677, 'nessuno': 7059, 'centomila': 2032, 'giorno': 4495, 'dopo': 3258, 'altro': 716, 'flaming': 4100, 'corsage': 2610, 'ensel': 3640, 'krete': 5836, 'rchen': 8333, 'zamonien': 11360, 'hildegunst': 4984, 'mythenmetz': 6966, 'parallax': 7501, 'spacesuit': 9539, 'bellwether': 1317, 'cape': 1880, 'cod': 2323, 'mourning': 6884, 'brunswick': 1694, 'rutland': 8788, 'paragon': 7498, 'acre': 520, 'potshot': 7962, 'association': 990, 'privileged': 8075, 'conversation': 2554, 'rita': 8628, 'rabble': 8260, 'rouser': 8733, 'refiner': 8403, 'pastwatch': 7554, 'columbus': 2380, 'galileo': 4357, 'planted': 7821, 'orange': 7340, 'warden': 10986, 'reparti': 8473, 'asesinos': 961, 'reinos': 8425, 'taifa': 9999, 'sueno': 9852, 'eterno': 3739, 'maldita': 6326, 'alma': 694, 'stile': 9728, 'libero': 6030, 'dynamite': 3415, 'badge': 1137, 'tailors': 10003, 'undue': 10644, 'influence': 5321, 'springender': 9619, 'brunnen': 1693, 'hexen': 4952, 'eastwick': 3440, 'artemis': 949, 'fowl': 4233, 'contrebasse': 2540, 'sans': 8872, 'eureka': 3752, 'gende': 4427, 'mordgeschichten': 6833, 'tierfreunde': 10245, 'anleitung': 819, 'unschuldigsein': 10689, 'bungsbuch': 1731, 'schlechtes': 8946, 'gewissen': 4472, 'superwieb': 9909, 'wolfsherz': 11226, 'passionate': 7545, 'intelligent': 5382, 'archivist': 913, 'unless': 10672, 'survive': 9932, 'strong': 9799, 'willed': 11146, 'wing': 11170, 'goosebumps': 4557, 'basement': 1220, 'juno': 5649, 'juliet': 5633, 'potty': 7965, 'mossflower': 6860, 'tight': 10252, 'onyx': 7315, 'puzzled': 8199, 'fansler': 3908, 'mosaic': 6857, 'barker': 1203, 'warning': 10993, 'gal': 4349, 'sunday': 9886, 'victorian': 10834, 'tv': 10562, 'fã¼r': 4341, 'gesellschaft': 4461, 'wã': 11315, 'â¼ten': 11431, 'ganzen': 4373, '250': 188, 'adore': 549, 'touching': 10372, 'ian': 5186, 'curtis': 2786, 'division': 3198, 'anti': 847, 'philosopher': 7709, 'autumn': 1073, 'dragonlance': 3298, 'musica': 6944, 'azar': 1107, 'bookends': 1542, 'siddhartha': 9268, 'buddha': 1700, 'snowshoeing': 9437, 'sincerely': 9310, 'andy': 788, 'rooney': 8708, 'alienate': 671, 'barneys': 1208, 'chutzpah': 2205, 'greed': 4619, 'kim': 5742, 'philby': 7704, 'moscow': 6858, 'pretender': 8037, 'frankel': 4251, 'fooled': 4171, 'financial': 4042, 'led': 5960, 'feds': 3960, 'publicized': 8159, 'manhunts': 6360, 'medina': 6548, 'bagdon': 1144, 'paul': 7575, 'sunrise': 9890, 'rained': 8287, 'tribulation': 10471, 'continuing': 2534, 'sides': 9270, 'clashing': 2258, 'views': 10853, 'controversial': 2545, 'jabez': 5482, 'serpents': 9115, 'tech': 10081, 'runaway': 8769, 'overboard': 7406, 'band': 1173, '506th': 289, '101st': 11, 'airborne': 624, 'nest': 7060, 'kane': 5673, 'abel': 459, 'arrows': 945, 'heralds': 4932, 'valdemar': 10746, 'unprotected': 10681, 'roger': 8674, 'caras': 1895, 'remorse': 8459, 'throne': 10223, 'bette': 1364, 'davis': 2881, 'absence': 477, 'nectar': 7031, 'compagnia': 2429, 'medical': 6543, 'tail': 10000, 'tip': 10274, 'clockwork': 2295, 'wound': 11282, 'burn': 1748, 'frusciante': 4305, 'kaiser': 5665, 'amerika': 743, 'teebarone': 10089, 'jedes': 5530, 'sandkorn': 8858, 'buchstabe': 1697, 'catherine': 1982, 'wider': 11124, 'willen': 11147, 'sonderausgabe': 9484, 'abschaffung': 476, 'dunkels': 3396, 'tathea': 10062, 'rampart': 8299, 'julian': 5631, 'tragedy': 10403, 'hamlet': 4755, 'denmark': 2999, 'whales': 11091, 'camilla': 1837, 'balkans': 1161, 'bookshop': 1547, 'skins': 9362, 'conquered': 2499, 'lunch': 6216, 'masham': 6450, 'macbeth': 6243, 'screams': 8994, 'anno': 828, 'soundly': 9522, 'tonight': 10340, 'prevent': 8039, 'sleeplessness': 9386, 'duane': 3367, 'grief': 4642, 'observed': 7256, 'seeking': 9052, 'darkest': 2855, 'suffering': 9856, 'picador': 7734, 'variante': 10770, 'lã¼neburg': 6240, 'fabula': 3860, 'reluctant': 8446, 'enchanting': 3589, 'prelude': 8009, 'diaz': 3082, 'â¼nf': 11419, 'tibeter': 10236, 'regeln': 8412, 'glã': 4526, 'â¼cks': 11412, 'mittsommermord': 6755, 'verrat': 10807, 'russendisko': 8781, 'hunde': 5150, 'riga': 8603, 'holes': 5035, 'medal': 6541, 'vanishings': 10768, 'birthday': 1406, 'josefina': 5591, 'springtime': 9621, '28': 198, 'megamorphs': 6561, 'smarts': 9414, 'homework': 5069, 'popularity': 7917, 'sugar': 9859, 'junie': 5643, 'meanie': 6528, 'telephone': 10098, 'pippi': 7790, 'longstocking': 6151, 'seafarer': 9015, 'scarabian': 8916, 'sabrina': 8801, 'lotsa': 6173, '53': 297, 'parchment': 7505, 'kit': 5773, '1934': 121, 'addy': 538, 'felicity': 3971, '1774': 87, 'cartwheel': 1944, '29': 202, 'fine': 4049, 'hank': 4781, 'cowdog': 2658, 'saturday': 8888, 'jean': 5527, 'santas': 8874, 'helper': 4918, 'roter': 8728, 'drache': 3290, 'spiriti': 9593, 'quel': 8223, 'che': 2099, 'resta': 8510, 'smiley': 9417, 'plains': 7807, 'passage': 7539, 'anthony': 844, 'piers': 7756, 'positively': 7935, 'baez': 1142, 'bob': 1506, 'dylan': 3412, 'mimi': 6689, 'farina': 3921, 'root': 8711, 'cellar': 2020, 'aixã²': 631, 'rã': 8794, 'pica': 7733, 'embat': 3552, 'corduroy': 2587, 'denim': 2998, 'ransom': 8310, 'danielle': 2846, 'robot': 8662, 'drinking': 3342, 'coffee': 2331, 'coca': 2320, 'cola': 2336, 'kinky': 5759, 'friedman': 4280, 'searched': 9022, 'clinic': 2288, 'hornet': 5097, 'ethical': 3741, 'slut': 9407, 'sexual': 9141, 'possibilities': 7940, 'screenplay': 8998, 'ccna': 2005, 'cisco': 2229, 'certified': 2042, 'network': 7065, 'associate': 989, 'exam': 3783, 'harmony': 4809, 'prosperity': 8126, 'environment': 3656, 'pierde': 7753, 'resistencia': 8498, 'humana': 5139, 'leon': 5988, 'africano': 588, 'mark': 6412, 'gaslight': 4392, 'valsalva': 10759, 'maneuver': 6353, 'mots': 6876, 'justes': 5655, 'adults': 555, 'abused': 485, 'fireside': 4068, 'temple': 10112, 'familiar': 3898, 'babinski': 1118, 'reflex': 8405, '70': 347, 'useful': 10731, 'metaphors': 6629, '27': 195, 'ingredient': 5334, 'chili': 2150, 'carne': 1920, 'dangers': 2844, 'bom': 1527, 'trocã': 10495, 'ssemos': 9635, 'umas': 10602, 'ideias': 5204, 'assunto': 991, 'campo': 1846, 'palavra': 7458, 'raphaelite': 8312, 'phaidon': 7697, 'miniature': 6696, 'missouri': 6736, 'wilderness': 11139, '1825': 94, 'rand': 8304, 'ayn': 1105, 'saddle': 8809, 'honeymoon': 5082, 'purdah': 8185, 'iranian': 5442, 'thurber': 10228, 'colophon': 2366, 'calculating': 1809, 'jazz': 5525, 'wwl': 11311, 'fenway': 3986, 'duffy': 3380, 'apples': 877, 'talked': 10019, 'timbuktu': 10259, 'public': 8157, 'spirituality': 9596, 'verb': 10793, 'member': 6573, 'corrections': 2603, 'sula': 9870, 'parable': 7490, 'publishing': 8160, 'kite': 5775, 'plants': 7823, 'futures': 4334, 'flash': 4109, 'buying': 1778, '2004': 159, 'bankrolling': 1181, 'democratic': 2986, 'challengers': 2055, 'microserfs': 6653, 'arcadia': 900, 'wonder': 11236, 'race': 8263, 'matters': 6484, 'accordion': 504, 'androids': 786, 'electric': 3516, 'sheep': 9186, 'relief': 8442, 'urges': 10722, 'atrã': 1013, 'vete': 10820, 'tãº': 10583, 'abominable': 466, 'crim': 2701, 'alsina': 703, 'graells': 4582, 'narrativa': 6998, 'unexpected': 10646, 'vendedor': 10784, 'espasa': 3709, 'juvenil': 5658, 'ley': 6021, 'calle': 1818, 'indigo': 5306, 'nemesis': 7052, 'lais': 5865, 'marie': 6401, 'france': 4244, 'gare': 4382, 'faux': 3943, 'parts': 7530, 'francs': 4249, 'musc': 6940, 'quatre': 8216, 'accords': 506, 'toltã': 10318, 'ques': 8225, 'voix': 10915, 'libertã': 6033, 'personnelle': 7670, 'colonel': 2362, 'chabert': 2049, 'chemins': 2117, 'faim': 3877, 'sucettes': 9842, 'recel': 8370, 'tons': 10343, 'autres': 1072, 'nocturne': 7143, 'indien': 5304, 'iberia': 5187, 'ravished': 8329, 'someplace': 9477, 'booked': 1541, 'cliff': 2281, 'janeway': 5509, 'pure': 8186, 'petrowski': 7690, 'indulge': 5312, 'glutton': 4525, 'affirmations': 574, 'cynics': 2803, 'angry': 802, 'clam': 2247, 'dwarf': 3409, 'charms': 2090, 'mansions': 6373, 'limbo': 6076, 'balzac': 1169, 'seamstress': 9020, 'parachute': 7491, 'job': 5569, 'hunters': 5158, 'career': 1904, 'changers': 2071, 'atomic': 1009, 'mission': 6732, 'comrades': 2453, 'fathers': 3938, 'mauretania': 6493, 'porter': 7925, 'dillman': 3116, 'genevieve': 4436, 'masefield': 6449, 'chica': 2132, 'drown': 3352, 'wilhelm': 11144, 'gustloff': 4711, 'bluejacket': 1496, 'eastern': 3438, 'german': 4451, 'greenhill': 4626, 'enlisted': 3635, 'nez': 7082, 'perce': 7638, 'campaigns': 1842, '1877': 107, 'august': 1036, '1944': 128, 'campaign': 1841, 'bulge': 1719, 'officer': 7279, 'riveting': 8640, 'currahee': 2782, 'presidents': 8030, 'upper': 10713, 'unsuspected': 10697, 'sonja': 9490, 'henie': 4926, 'soldiers': 9460, 'marine': 6408, 'wwii': 11310, 'flew': 4121, '24s': 186, 'escapades': 3695, 'penguins': 7623, 'antarctica': 839, 'crossed': 2725, 'forbidden': 4181, 'foundation': 4221, 'request': 8487, 'sorrow': 9510, 'tecumseh': 10087, 'straight': 9764, 'hostage': 5108, 'royals': 8742, 'eleanor': 3513, 'walter': 10973, 'pater': 7562, 'judith': 5622, 'gautier': 4404, 'seneca': 9080, 'cutwork': 2792, 'sargent': 8881, 'murray': 6939, 'documents': 3211, 'bedford': 1278, 'hunger': 5153, 'thinness': 10193, 'distant': 3181, 'britannia': 1673, 'diplomatic': 3139, 'viii': 10855, 'tumultuous': 10545, 'margaret': 6394, 'tour': 10377, 'british': 1674, 'eighteenth': 3496, 'iii': 5222, 'delusion': 2975, 'satan': 8885, 'diana': 3075, 'commemorative': 2411, 'opened': 7320, 'growth': 4675, 'boost': 1551, 'program': 8093, 'strengthen': 9787, 'expand': 3810, 'sergei': 9110, 'algebra': 662, 'trigonometry': 10478, 'simona': 9304, 'griffo': 4645, 'insomnia': 5362, 'higgins': 4967, 'clark': 2256, 'weep': 11051, 'stillwatch': 9730, 'traveled': 10437, 'traditional': 10400, 'values': 10760, 'spritual': 9623, 'touchstone': 10373, 'sourcebook': 9526, 'stressful': 9790, 'sharer': 9178, 'household': 5120, 'drawn': 3315, 'viaduct': 10825, 'minun': 6705, 'sukuni': 9869, 'tarina': 10053, 'truce': 10510, 'griffin': 4644, 'sabine': 8797, 'concludes': 2461, 'sequined': 9102, 'parks': 7520, 'testa': 10149, 'perduta': 7641, 'damasceno': 2830, 'monteiro': 6803, 'notte': 7190, 'inverno': 5426, 'viaggiatore': 10827, 'mayday': 6502, 'gallow': 4359, 'peacetalk': 7590, 'unlocking': 10674, 'transformative': 10416, 'generosity': 4434, 'gratitude': 4605, 'affirming': 575, 'mastery': 6466, 'relationship': 8435, 'toltec': 10317, 'unnatural': 10676, 'disgrace': 3168, 'strand': 9766, 'irresistible': 5453, 'impulse': 5272, 'penalty': 7616, 'whaleship': 11092, 'essex': 3727, 'palace': 7455, 'pferdeflã': 7695, 'â¼sterer': 11429, 'matarese': 6467, 'countdown': 2626, 'core': 2588, 'teachings': 10075, 'tibetan': 10235, 'buddhism': 1701, 'trips': 10486, 'womens': 11234, 'handbags': 4763, 'canon': 1869, 'bang': 1177, 'slammerkin': 9376, 'manquante': 6370, 'lumiã': 6213, 'scaphandre': 8914, 'papillon': 7488, 'comme': 2410, 'dictateur': 3090, 'hamac': 4754, 'rocher': 8665, 'tanios': 10036, 'pittman': 7798, 'merlin': 6608, 'poderes': 7865, 'extraordinarios': 3844, 'tai': 9998, 'chi': 2129, 'middlemarch': 6656, 'wadsworth': 10947, 'mass': 6458, 'communication': 2422, 'boca': 1509, 'bradley': 1599, 'princeton': 8059, 'dart': 2863, 'jewels': 5551, 'cane': 1861, 'mentor': 6595, 'heiress': 4906, 'happiest': 4790, 'block': 1470, 'crying': 2739, 'longer': 6147, 'whodunits': 11113, 'gun': 4704, 'vs': 10940, 'surgeon': 9922, 'buck': 1698, 'blanco': 1444, 'muckraking': 6912, 'articles': 953, 'censored': 2026, 'satellite': 8887, 'journalism': 5597, 'twentieth': 10565, 'deadlines': 2904, 'datelines': 2872, 'drudge': 3355, 'manifesto': 6363, 'tombley': 10324, 'ok': 7290, 'basket': 1227, 'outfoxed': 7388, 'chancellor': 2064, 'manuscript': 6379, 'passover': 7547, 'peculiar': 7600, 'penman': 7625, 'bury': 1755, 'presumed': 8034, 'abyss': 487, 'avonlea': 1089, 'uh': 10590, 'refrigerator': 8406, 'lay': 5926, 'kindergarten': 5748, 'uncommon': 10626, 'politically': 7893, 'correct': 2601, 'ruffain': 8753, 'stair': 9647, 'sloan': 9400, 'servant': 9119, 'loot': 6160, 'erpingham': 3683, 'camp': 1840, 'funeral': 4322, 'butler': 1769, 'acting': 524, 'dewey': 3061, 'decimal': 2930, 'gravelight': 4607, 'circus': 2228, 'jaws': 5524, 'wry': 11304, 'chant': 2075, 'seeker': 9050, 'dresden': 3333, 'musketeers': 6945, 'diamonds': 3074, 'strg': 9791, 'lnd': 6127, 'helter': 4922, 'skelter': 9355, 'manson': 6374, 'wheels': 11096, 'serrated': 9118, 'masks': 6454, 'damia': 2832, 'rowan': 8738, 'roadside': 8648, 'attraction': 1022, 'brass': 1614, 'heartbreak': 4875, 'quotable': 8251, 'travelers': 10439, 'wanderers': 10976, 'germs': 4454, 'societies': 9446, 'acme': 518, 'holidays': 5037, 'witta': 11211, 'pagan': 7440, 'warps': 10995, 'millroy': 6686, 'pea': 7587, 'loveswept': 6193, '589': 309, 'ni': 7089, 'myst': 6958, 'practitioner': 7988, 'vivir': 10909, 'para': 7489, 'contarla': 2523, 'amours': 760, 'sorciã': 9509, 'res': 8490, 'export': 3831, 'pebble': 7598, 'christine': 2186, 'comes': 2394, 'sotto': 9515, 'economica': 3454, 'champagne': 2059, 'stable': 9639, 'unstable': 10694, 'feature': 3955, 'required': 8489, 'brewster': 1644, 'youth': 11352, 'writer': 11294, 'cave': 2000, 'pets': 7691, 'whelp': 11097, 'dudley': 3377, 'duke': 3381, 'northumberland': 7171, 'earl': 3426, 'warwick': 11003, 'leicester': 5973, 'oklahoma': 7292, 'holts': 5049, 'dynasty': 3418, 'desperation': 3033, 'prinz': 8065, 'bottelknabe': 1571, 'oder': 7273, 'hl': 5019, 'mir': 6708, 'dow': 3277, 'fitness': 4091, 'redwood': 8398, '119': 34, 'meanings': 6530, 'attic': 1019, 'dollanger': 3227, 'borrowers': 1564, 'avenged': 1080, 'viejo': 10845, 'leia': 5972, 'novelas': 7198, 'andanzas': 781, 'prisoner': 8070, 'azkaban': 1108, 'decisions': 2934, 'islam': 5462, 'allies': 688, 'defeat': 2945, 'boats': 1505, '1943': 127, 'louise': 6180, 'brindley': 1667, 'pb': 7585, 'incidental': 5282, 'buscador': 1758, 'sueã': 9855, 'huerga': 5132, 'fierro': 4019, 'editores': 3472, 'bambi': 1171, '01': 3, '00': 0, 'verlorene': 10800, 'â¼nsche': 11423, 'incubus': 5294, 'sonnenfeuer': 9491, 'grosse': 4664, 'australienroman': 1056, 'klage': 5779, 'distelfinken': 3182, 'ritter': 8632, 'nicht': 7097, 'gab': 4342, 'gefallene': 4412, 'engel': 3619, 'muslimische': 6947, 'hlen': 5020, 'ihren': 5219, 'glauben': 4513, 'liebessabotage': 6046, 'alistair': 676, 'maclean': 6257, 'attentã': 1018, 'ter': 10131, 'schweigen': 8966, 'mmer': 6756, 'wahrheit': 10952, 'lorin': 6163, 'operation': 7325, 'schneewolf': 8950, 'teufels': 10156, 'kardinal': 5679, 'fã¼nfzig': 4340, 'kã¼ssen': 5854, 'anders': 783, 'zuckerbã': 11396, 'ckerin': 2238, 'schwã': 8968, 'ne': 7021, 'tango': 10035, 'amigos': 747, 'perdã': 7642, 'manuela': 6378, 'colombiana': 2361, 'flamingofeder': 4102, 'falken': 3889, 'virtuose': 10885, 'gesang': 4455, 'troubadours': 10502, 'sohn': 9455, 'kreuzfahrers': 5838, 'provencalin': 8133, 'verso': 10812, 'heimwege': 4903, 'nach': 6974, 'karlsbad': 5682, 'schwarze': 8964, 'kelch': 5706, 'arizona': 926, 'cornerstones': 2594, 'bakura': 1155, 'warworld': 11004, 'battlefield': 1241, '3000': 214, 'inherit': 5336, 'roil': 8679, 'faded': 3870, 'warmasters': 10992, 'colors': 2374, 'comedy': 2392, 'lottery': 6174, 'alvirah': 718, 'mulberry': 6920, 'send': 9078, 'ford': 4184, 'theatre': 10169, 'truman': 10517, 'spit': 9597, 'mcgee': 6519, 'josephine': 5593, 'cox': 2661, 'someday': 9476, 'cornflake': 2595, 'panorama': 7476, 'desde': 3018, 'puente': 8165, 'noble': 7141, 'fuji': 4314, 'quidditch': 8236, 'monday': 6784, 'keys': 5728, 'slippers': 9397, 'supplementary': 9910, 'stage': 9643, 'yukon': 11354, 'ho': 5024, 'paysages': 7584, 'bretagne': 1639, 'calvin': 1829, 'hobbes': 5027, 'tenth': 10128, 'prospero': 8127, 'sleepy': 9388, 'hollow': 5043, 'pound': 7968, 'purse': 8190, 'turns': 10555, 'anger': 799, 'aside': 969, 'earthsea': 3435, 'greenwitch': 4634, 'alta': 705, 'comprising': 2447, 'jenna': 5537, 'awakened': 1092, 'cathy': 1984, 'outside': 7399, 'collapsed': 2345, 'fashionably': 3928, 'aerodynamically': 565, 'incorrect': 5291, 'outland': 7392, 'dreamstone': 3327, '97': 435, 'disney': 3172, 'studios': 9812, 'orlando': 7365, 'cuban': 2751, 'pasaran': 7535, 'videojuego': 10841, 'mecanoscrit': 6539, 'segon': 9056, 'origen': 7359, 'trapezi': 10426, 'lâ': 6237, 'impostor': 5266, 'antaviana': 840, 'jove': 5604, 'narraciones': 6996, 'extraordinarias': 3843, 'seleccion': 9064, 'racã³': 8268, 'paraigua': 7499, 'toc': 10290, 'ficciã³': 4009, 'hatchet': 4832, 'crayon': 2678, 'suits': 9867, 'writes': 11296, 'jaine': 5498, 'austen': 1050, 'pocahontas': 7860, 'heirloom': 4907, 'pinocchio': 7784, 'graceanne': 4576, 'sisterchicks': 9337, 'hula': 5136, 'gentleman': 4441, 'guy': 4716, 'andlooking': 784, 'trousers': 10507, 'september': 9099, '12th': 44, 'siam': 9257, 'hoaxes': 5026, 'pranks': 7993, 'stunts': 9817, 'deceptions': 2928, 'contrived': 2541, 'colorful': 2372, 'helpings': 4919, 'bare': 1198, 'necessity': 7027, 'poker': 7885, 'urban': 10719, 'marvelous': 6440, 'cake': 1806, 'maisie': 6309, 'digs': 3112, 'unforgettable': 10650, '348': 234, 'agents': 603, 'does': 3215, 'mates': 6476, 'dates': 2873, 'designer': 3023, 'divas': 3189, 'cosmic': 2616, 'kisses': 5771, 'carb': 1897, 'dieting': 3103, 'dummiesâ': 3386, 'foreman': 4186, 'knock': 5794, 'barbecue': 1190, 'grilling': 4648, 'betty': 1366, 'crocker': 2720, 'calorie': 1826, 'nicolae': 7101, 'sibling': 9260, 'inanimate': 5273, 'authentic': 1059, 'charmed': 2088, 'sensible': 9090, 'busy': 1767, 'mangoes': 6356, 'splendidly': 9599, 'imperfect': 5257, 'thoughtful': 10208, 'artistic': 956, 'bittersweet': 1421, 'sweetheart': 9956, 'unspeakable': 10693, 'armor': 936, 'heartspell': 4881, 'countess': 2629, 'malice': 6329, 'moo': 6811, 'seuss': 9131, 'noises': 7147, 'caterpillar': 1977, 'critters': 2716, 'chalice': 2052, 'bourne': 1580, 'ben': 1325, 'jerry': 5541, 'homemade': 5060, 'cream': 2680, 'dessert': 3034, 'delacroix': 2961, 'claire': 2245, 'weddings': 11041, 'heidi': 4899, 'bitterroot': 1419, 'doubleday': 3267, 'balloon': 1166, 'tuscan': 10559, 'smarter': 9412, 'infant': 5316, 'stimulation': 9734, 'enhancing': 3626, 'barrier': 1213, 'supported': 9913, 'wildest': 11141, 'dawnfire': 2886, 'pain': 7443, 'connection': 2494, 'heartbreaker': 4876, 'cardinal': 1901, 'kremlin': 5835, 'pouch': 7967, 'makers': 6318, 'furthur': 4330, 'bay': 1247, 'noon': 7159, 'codigo': 2328, 'afternoon': 594, 'immortals': 5255, 'stacey': 9641, 'claudia': 2266, 'phone': 7717, 'calls': 1824, 'whodunit': 11112, 'mini': 6695, 'kristy': 5841, 'idea': 5201, 'sitter': 9344, 'twits': 10572, 'puffin': 8167, 'skating': 9352, 'bumble': 1727, 'beast': 1260, 'morphin': 6845, 'rangers': 8309, 'rekindle': 8433, 'bag': 1143, 'greats': 4616, 'coat': 2319, '485': 280, 'meeting': 6558, 'neighbors': 7047, 'siren': 9329, 'wisconsin': 11188, 'feast': 3951, 'photography': 7720, 'tipping': 10275, 'djinns': 3205, 'delhi': 2965, 'optimal': 7332, 'erdos': 3674, 'lonely': 6144, 'rajasthan': 8296, 'ed': 3459, 'soap': 9440, 'topsy': 10352, 'turvy': 10557, 'group': 4667, 'major': 6313, 'hedda': 4896, 'gabler': 4343, 'builder': 1715, 'norton': 7173, 'broadview': 1675, 'berkley': 1342, 'havana': 4844, 'starbuck': 9669, 'nethergate': 7063, 'heresies': 4938, 'extinction': 3839, 'honk': 5084, 'holler': 5041, 'soon': 9497, 'assistant': 988, 'halo': 4751, 'kenya': 5719, 'gideon': 4483, 'smithsonian': 9420, 'painter': 7447, 'rommel': 8695, 'gunner': 4705, 'persuasion': 7675, 'anesthesia': 790, 'choices': 2167, 'pressure': 8033, 'submarine': 9831, 'guidepost': 4694, 'salad': 8828, 'bachelor': 1125, 'pillow': 7772, 'potato': 7956, 'queens': 8221, 'serena': 9106, 'caine': 1802, 'habitada': 4728, 'chicas': 2134, 'buenas': 1706, 'toman': 10320, 'postre': 7954, 'actor': 529, 'demã': 2993, 'laia': 5864, 'literatura': 6107, 'anorexia': 832, 'bulimia': 1720, 'trastornos': 10429, 'alimentarios': 675, 'margarita': 6395, 'alexanderplatz': 660, 'depardieu': 3001, 'winesburg': 11169, 'ohio': 7285, 'lists': 6103, 'revealing': 8542, 'fads': 3871, 'phenomena': 7701, 'garcia': 4376, 'accents': 495, 'superfudge': 9898, 'failed': 3875, 'nineteen': 7129, 'eighty': 3498, 'encore': 3592, 'banker': 1178, 'freak': 4262, 'scrabble': 8989, 'players': 7836, 'shallows': 9161, 'agitator': 608, 'muste': 6950, 'wear': 11034, 'graduation': 4581, 'gowns': 4571, 'walking': 10966, 'wisely': 11191, 'taming': 10028, 'gremlin': 4636, 'surprisingly': 9926, 'harris': 4817, 'fog': 4153, 'christina': 2185, 'scared': 8917, 'shot': 9237, 'assassins': 983, 'assignment': 987, 'jerusalem': 5542, 'antichrist': 848, 'strike': 9792, 'sideways': 9273, 'arithmetic': 925, 'tucket': 10533, 'tuckets': 10534, 'rosetree': 8720, 'shrinks': 9247, 'busted': 1765, 'lines': 6086, 'rpkg': 8743, 'fuente': 4312, 'unicornio': 10657, 'tragedies': 10402, 'ladder': 5860, 'playing': 7839, 'bondwoman': 1533, 'narrative': 6999, 'herald': 4931, 'mage': 6275, 'kirith': 5765, 'kirin': 5764, 'dispatches': 3177, 'cars': 1936, 'trucks': 10513, 'wait': 10954, 'separate': 9096, 'fidelity': 4015, 'fifties': 4023, 'fox': 4234, 'maude': 6490, 'backgrounds': 1127, 'sources': 9528, 'yorker': 11347, 'dunces': 3390, 'evergreen': 3769, 'metamorphosis': 6627, 'fiddleback': 4014, 'conditions': 2467, 'dalloway': 2827, 'inspector': 5363, 'rebus': 8369, 'marks': 6417, 'resurrection': 8522, 'cater': 1975, 'hangman': 4778, 'gaudy': 4402, 'endangered': 3600, 'species': 9556, 'cadfael': 1795, 'leper': 5992, 'giles': 4488, 'helps': 4920, 'brake': 1610, 'nightfall': 7113, 'belarus': 1304, 'prodigal': 8086, 'biological': 1400, 'weapons': 11033, 'coffeehouse': 2332, 'investor': 5433, 'build': 1714, 'ignore': 5216, 'chic': 2131, 'scarves': 8924, 'components': 2445, 'sicilian': 9263, 'bachman': 1126, 'cigar': 2218, 'robin': 8660, 'coma': 2385, 'scissors': 8976, 'stepsister': 9716, 'sculptress': 9009, 'bookman': 1544, 'wake': 10957, 'senior': 9081, 'outcast': 7384, 'companies': 2430, 'leap': 5941, 'motorcycle': 6874, 'maintenance': 6308, 'inquiry': 5353, 'perdido': 7639, 'gesture': 4464, 'jail': 5496, 'pronto': 8109, 'uncanny': 10620, 'insel': 5357, 'vorigen': 10929, 'tages': 9996, 'vincent': 10863, 'tsugumi': 10527, 'scooter': 8980, 'galactic': 4350, 'paler': 7460, 'shade': 9147, 'tourist': 10378, 'round': 8732, 'contender': 2527, '45472': 275, 'praetorian': 7989, 'kelly': 5710, 'gang': 4369, 'cop': 2572, '1034': 19, 'banners': 1184, 'galahad': 4353, 'jeans': 5528, '971': 436, 'funny': 4325, 'jonas': 5584, 'culinary': 2761, 'husbands': 5168, 'rum': 8760, 'misadventures': 6721, 'thriving': 10222, 'stupidity': 9820, 'libro': 6037, 'ilusiones': 5238, 'pnin': 7858, 'encuentro': 3596, 'ceremonia': 2037, 'masaje': 6447, 'quijote': 8238, 'estupidos': 3735, 'hombres': 5054, 'blancos': 1445, 'sombra': 9474, 'viento': 10848, 'palestina': 7461, 'ocupacio': 7270, 'practic': 7982, 'questio': 8228, 'conflicte': 2480, 'arabo': 897, 'israelia': 5471, 'viva': 10906, 'renglones': 8468, 'torcidos': 10354, 'dios': 3136, 'cultivo': 2763, 'plantas': 7819, 'medicinales': 6545, 'aromaticas': 940, 'condimenticias': 2466, 'soldats': 9458, 'salamine': 8832, 'salinger': 8837, 'franny': 4256, 'zooey': 11388, 'nueve': 7218, 'cuentos': 2756, 'emmanuelle': 3570, 'pensar': 7628, 'mujercismas': 6918, 'como': 2427, 'otra': 7377, 'cualquiera': 2748, 'delta': 2974, 'size': 9350, 'austere': 1051, 'brideshead': 1652, 'regained': 8411, 'extreme': 3847, 'measures': 6535, 'lesser': 5999, 'gamma': 4367, 'cathedral': 1980, 'resurrecting': 8521, 'ravana': 8325, 'preserver': 8024, 'spectre': 9560, 'magnifique': 6293, 'bullseye': 1723, '87': 399, '79': 370, 'diligence': 3115, 'petersburg': 7686, 'dropping': 3350, 'exact': 3781, 'trott': 10501, 'basic': 1222, 'steps': 9715, 'homeschooling': 5065, '48': 277, '88': 403, 'respected': 8503, 'passive': 7546, 'scold': 8977, 'bridle': 1658, 'sanft': 8865, 'entschlafen': 3654, 'sechster': 9031, 'prinzip': 8067, 'platero': 7826, 'yo': 11343, 'mas': 6446, 'viudos': 10905, 'negras': 7042, 'hadas': 4733, 'retorcidos': 8527, 'bueno': 1707, 'comer': 2393, 'preguntale': 8005, 'platon': 7830, 'hombre': 5053, 'anumerico': 861, 'donde': 3244, 'corazon': 2586, 'lleve': 6123, 'vida': 10838, 'condiciones': 2465, 'canibales': 1862, 'reyes': 8567, 'obras': 7252, 'completas': 2440, 'agatha': 596, 'grandes': 4590, 'maestros': 6273, 'crimen': 2704, 'misterio': 6740, 'gut': 4712, 'kindness': 5749, 'sand': 8856, 'winterdance': 11181, 'iditarod': 5212, 'traumberufe': 10433, 'rund': 8770, 'pferd': 7694, 'cheerleader': 2107, 'uncensored': 10621, 'psicoanalista': 8145, 'pms': 7857, 'outlaws': 7395, 'macpherson': 6258, 'speed': 9563, 'janet': 5507, 'evanovich': 3761, 'deadline': 2903, 'raincoat': 8285, 'bells': 1316, 'bladebone': 1437, 'tulip': 10541, 'thyme': 10230, 'resident': 8495, 'caliban': 1813, 'underworld': 10640, 'umbrella': 10603, 'jolly': 5583, 'warp': 10994, 'trio': 10483, 'knights': 5792, 'op': 7317, 'coursebook': 2641, 'authors': 1063, 'exercises': 3796, 'windmills': 11160, 'pitch': 7795, 'whitsun': 11109, 'quivers': 8247, 'blau': 1449, 'firestarter': 4069, 'outsiders': 7401, 'lambs': 5870, 'snakes': 9427, 'keeping': 5703, 'revenants': 8546, 'akhenaten': 632, 'dweller': 3410, 'trutha': 10521, 'shanghai': 9169, 'pie': 7745, 'dragonne': 3299, 'summoning': 9881, 'discovered': 3158, 'carson': 1937, 'salmon': 8839, 'doubt': 3268, 'fridge': 4278, 'parzival': 7532, 'grail': 4585, 'retold': 8526, 'jen': 5536, 'fresco': 4272, 'cheetah': 2112, 'chase': 2092, 'memnoch': 6574, 'lythande': 6235, 'samurai': 8851, 'sano': 8871, 'ichiro': 5193, 'lotus': 6175, 'crash': 2677, 'quartet': 8214, 'kellogg': 5708, 'mendoza': 6588, 'bringer': 1669, 'posterior': 7948, 'iden': 5205, 'marriages': 6423, 'diverse': 3191, 'amore': 754, 'taverna': 10066, 'rapture': 8315, 'roosevelt': 8709, 'lucia': 6204, 'simon': 9303, 'nile': 7121, 'exploration': 3826, 'central': 2033, '1164': 31, 'homemakers': 5061, 'entering': 3646, 'normal': 7162, 'nothings': 7184, 'snowball': 9435, 'maitland': 6311, 'maternity': 6475, 'recommended': 8380, 'dirt': 3144, 'enduring': 3608, 'journals': 5599, 'dodd': 3212, 'rebekah': 8360, 'genesis': 4435, 'debt': 2921, 'owes': 7418, 'blacks': 1432, 'secrecy': 9033, 'connects': 2495, 'trilateral': 10479, 'commission': 2414, 'freemasons': 4268, 'pyramids': 8202, 'aventura': 1082, 'tocador': 10291, 'senoras': 9084, 'bovary': 1584, 'flatland': 4114, 'dimensions': 3122, 'magi': 6278, 'vorpal': 10931, 'medjugorje': 6555, 'wellville': 11067, 'pascual': 7536, 'duarte': 3368, 'pink': 7782, 'cadillac': 1796, 'mmp': 6757, 'mutant': 6951, 'whip': 11099, 'stagecoach': 9644, 'oregon': 7350, 'java': 5523, 'chatterley': 2096, 'grijze': 4647, 'wolven': 11229, 'een': 3480, 'zoektocht': 11380, 'naar': 6973, 'turks': 10551, 'extreem': 3846, 'rechts': 8374, 'externe': 3838, 'rechnungslegung': 8373, 'kreditinstitute': 5833, 'finanzdienstleistungsinstitute': 4044, 'vahlens': 10745, 'handbã¼cher': 4766, 'wirtschafts': 11187, 'sozialwissenschaften': 9536, 'miami': 6646, 'tempting': 10119, 'mimosa': 6691, 'grove': 4668, 'switch': 9966, 'remain': 8447, 'lure': 6219, 'cube': 2752, 'nerd': 7054, 'goodness': 4551, 'barrio': 1214, 'sammy': 8848, 'brian': 1645, 'cafã': 1799, 'strasse': 9775, 'geschichten': 4457, 'fehler': 3967, 'kopisten': 5822, 'botho': 1569, 'strauss': 9779, 'schimmern': 8941, 'flã¼gel': 4149, 'jugendmythen': 5627, 'fursorgliche': 4329, 'belagerung': 1303, 'erinnerungen': 3678, 'kreisau': 5834, '1930': 118, 'starke': 9678, 'bilder': 1387, 'nachtbuch': 6976, 'astrid': 995, 'odeon': 7272, 'unstete': 10695, 'leute': 6013, 'tired': 10277, 'usa': 10726, 'rã¼ckspiegel': 8795, 'aufzeichnungen': 1032, 'schweizer': 8967, 'reisenden': 8430, 'bund': 1730, 'akte': 634, 'odessa': 7274, 'vierte': 10849, 'protokoll': 8131, 'abrechnung': 471, 'unter': 10699, 'awesome': 1100, 'paradoxical': 7496, 'inconspicuous': 5288, 'consumption': 2516, 'obsessive': 7260, 'granted': 4598, 'nobrow': 7142, 'marketing': 6416, 'reinvention': 8427, 'denial': 2996, 'woody': 11247, 'stig': 9726, 'bjorkman': 1423, 'melancholy': 6569, 'oyster': 7429, 'shortest': 9236, '55': 301, 'scent': 8930, 'dried': 3339, 'indemnity': 5297, 'maltese': 6335, 'underachiever': 10633, 'blindness': 1465, 'grimm': 4649, 'accelerated': 493, 'fuck': 4311, 'thumbsucker': 10226, 'motion': 6870, 'henke': 4927, 'roxanne': 8739, 'worst': 11276, 'scenario': 8927, 'enigmas': 3629, 'felinestein': 3973, 'pampering': 7469, 'slaves': 9380, 'working': 11260, 'nevermore': 7072, 'crack': 2663, 'hieroglyph': 4965, 'erotomaniac': 3682, 'spencer': 9571, 'ashbee': 963, 'software': 9453, 'stallman': 9655, 'xul': 11324, 'ash': 962, 'exim': 3801, 'mail': 6302, 'transfer': 10414, 'functional': 4319, 'reptile': 8485, 'carried': 1932, 'archaeology': 905, 'prehistory': 8006, 'bowdler': 1586, 'expurgated': 3836, 'tm': 10287, 'monstrous': 6798, 'commons': 2420, 'cicero': 2211, 'politician': 7894, 'rat': 8320, 'meets': 6559, 'coraline': 2584, 'pleasures': 7847, 'nigger': 7108, 'troublesome': 10506, 'personals': 7669, 'temp': 10106, 'slave': 9378, 'bodies': 1511, 'metaphor': 6628, 'mortality': 6852, 'blockhead': 1471, 'napoleon': 6993, 'worth': 11278, 'penis': 7624, 'terminator': 10136, 'juan': 5612, 'mcqueen': 6523, 'croce': 2718, 'delizia': 2969, 'libri': 6036, 'luciano': 6205, 'crescenzo': 2694, 'civilizations': 2237, 'pour': 7969, 'finir': 4054, 'avec': 1079, 'travail': 10434, 'eloge': 3543, 'fessã': 3996, 'rder': 8335, 'strumpfhose': 9803, 'kommissar': 5812, 'schneider': 8951, 'elch': 3511, 'listeners': 6099, 'salammbo': 8833, 'australian': 1054, 'outback': 7383, 'socials': 9445, 'golf': 4543, 'shame': 9165, 'copy': 2580, 'prepak': 8013, 'unfriendly': 10652, 'rl': 8643, 'mendel': 6584, 'joanne': 5568, 'kilbourn': 5734, 'smith': 9419, 'geology': 4446, 'metamorphoses': 6626, 'arabian': 896, 'marvels': 6441, 'wonders': 11239, 'thrones': 10224, 'toilet': 10303, 'humor': 5147, 'misadventure': 6720, 'hommes': 5074, 'vrais': 10939, 'till': 10256, 'scents': 8931, 'disclosure': 3153, 'firefox': 4065, 'postcards': 7946, 'plantation': 7820, 'objections': 7248, 'ethnic': 3744, 'cultures': 2766, 'pilgrim': 7768, 'banner': 1183, 'violent': 10873, 'criminals': 2707, 'cope': 2574, 'illness': 5231, 'mending': 6587, 'berg': 1337, 'avenue': 1084, 'weeks': 11048, 'embraces': 3558, 'flare': 4108, 'scary': 8925, 'smack': 9409, 'dialogue': 3071, 'vishnu': 10887, 'orders': 7348, 'dalgliesh': 2826, 'brighten': 1662, 'cleopatra': 2278, 'porch': 7919, 'affliction': 576, 'thrawn': 10211, 'creed': 2688, 'muriel': 6937, 'betrayal': 1362, 'scarfe': 8920, 'cartoons': 1942, 'hilda': 4983, 'lilian': 6071, 'townsend': 10386, 'roar': 8651, 'regime': 8416, 'unchanged': 10623, 'saturn': 8889, 'desserts': 3035, 'merehurst': 6606, 'cookery': 2562, 'continuum': 2535, 'concept': 2457, 'apes': 867, 'travels': 10441, 'aunt': 1038, 'phillips': 7707, 'bagger': 1145, 'vance': 10764, 'ninja': 7130, 'turtles': 10556, 'lean': 5940, 'jailbird': 5497, 'ruse': 8777, 'blessed': 1458, 'listmaker': 6101, 'successfully': 9840, 'prima': 8049, 'homeschool': 5063, 'dreamers': 3320, 'discoverers': 3159, 'dynamos': 3416, 'bored': 1559, 'problems': 8082, 'stella': 9709, 'groove': 4661, 'homeschoolers': 5064, 'abandon': 451, 'vienna': 10847, 'crocodile': 2721, 'sandbank': 8857, 'monsters': 6797, 'magicians': 6283, 'stairway': 9649, 'sell': 9071, 'hell': 4913, 'fatherland': 3937, 'fell': 3974, 'worldwar': 11269, 'tilting': 10258, 'upsetting': 10716, 'striking': 9794, 'foreve': 4191, 'dun': 3388, 'cow': 2654, 'zap': 11362, 'phthor': 7724, 'franklin': 4255, 'delano': 2962, 'champion': 2061, 'moreau': 6834, 'sirens': 9331, 'bearing': 1258, 'hourglass': 5117, 'incarnations': 5276, 'immortality': 5254, 'roogna': 8704, 'shift': 9206, 'corn': 2591, 'doomed': 3249, '1913': 112, 'karluk': 5683, 'vendetta': 10785, 'defense': 2947, 'pandemonium': 7473, 'testamento': 10151, 'threats': 10216, 'unarmed': 10609, 'updated': 10711, 'expanded': 3811, 'diablo': 3068, 'commanding': 2407, 'economy': 3456, 'scales': 8909, 'fanuilh': 3916, 'auge': 1033, 'gassengeschichten': 4393, 'â¼nfzigster': 11422, 'aventurischen': 1083, 'spielewelt': 9582, 'wintermond': 11182, 'unheimlicher': 10655, 'flã': 4148, 'â¼stern': 11430, 'zweite': 11403, 'haut': 4843, 'tick': 10237, 'tock': 10292, 'chronoliths': 2199, 'fist': 4088, 'hi': 4957, 'manor': 6369, 'gossip': 4562, 'isles': 5467, 'wandering': 10978, 'barron': 1215, 'hypnosis': 5180, 'levels': 6015, 'awareness': 1097, 'achievement': 513, 'twelfth': 10564, 'shamanism': 9162, 'archaic': 906, 'triffids': 10476, 'armadillo': 931, 'geography': 4445, 'jason': 5521, 'repairing': 8472, 'pc': 7586, 'drives': 3345, 'merril': 6612, '1985': 141, 'mcclelland': 6514, 'michael': 6648, 'strogoff': 9798, 'courier': 2639, 'czar': 2807, '5000': 287, 'investors': 5434, 'nazi': 7018, 'decisive': 2935, 'bunker': 1732, 'designers': 3024, 'fonts': 4166, 'site': 9341, 'graphics': 4601, 'navigation': 7015, 'graphic': 4600, 'inspirations': 5366, 'innovations': 5350, 'blip': 1468, 'version': 10811, 'erotic': 3680, 'romp': 8696, 'scandals': 8912, 'shocking': 9222, 'wickedest': 11122, 'weirdest': 11059, 'wanton': 10983, 'tsars': 10525, 'popes': 7915, 'emperors': 3576, 'meditations': 6552, 'smoothies': 9423, 'yummy': 11356, 'nutritious': 7234, 'trivia': 10492, 'quiz': 8249, 'pastries': 7553, 'confections': 2470, '800': 375, 'definitions': 2951, '86': 395, 'jaguar': 5492, 'smile': 9416, 'nicaraguan': 7092, 'baseball': 1218, 'waugh': 11023, 'prop': 8111, 'dorothy': 3261, 'fresh': 4273, 'pero': 7659, 'tan': 10030, 'malas': 6325, 'gatherer': 4398, 'clouds': 2308, 'initiate': 5339, 'duology': 3401, 'sourcery': 9527, 'restaurnt': 8513, 'univ': 10663, 'veil': 10780, 'mate': 6471, 'particolare': 7525, 'forma': 4204, 'anestesia': 789, 'chiamata': 2130, 'morte': 6853, 'paesi': 7439, 'tuoi': 10549, 'tuck': 10532, 'everlasting': 3770, 'ivan': 5477, 'ãºltimo': 11433, 'judã': 5624, 'te': 10069, 'deix': 2958, 'mar': 6386, 'penyora': 7631, 'rie': 8599, 'listo': 6102, 'lea': 5931, 'autores': 1071, 'oles': 7297, 'hispanoamericanos': 5001, 'rbol': 8332, 'ciencia': 2216, 'retrato': 8530, 'titanic': 10280, 'cover': 2650, 'ups': 10715, 'aztec': 1109, 'qe2': 8204, 'brightness': 1663, 'mysticism': 6964, '176': 85, 'yuletide': 11355, 'stalking': 9652, 'hagar': 4735, 'sack': 8805, 'fugitive': 4313, 'fired': 4062, 'gwynedd': 4719, 'noonday': 7160, 'hounds': 5115, 'sunset': 9891, 'afterglow': 592, 'feeding': 3962, 'delusions': 2976, 'grandma': 4592, 'canine': 1863, 'psychotherapy': 8152, 'kassler': 5687, 'scandal': 8910, 'aging': 607, 'isadora': 5458, 'duncan': 3389, 'craig': 2673, 'castles': 1964, 'happily': 4791, 'emerald': 3561, 'losers': 6167, 'superman': 9902, 'embery': 3555, 'iceberg': 5190, 'vortex': 10932, 'relic': 8440, 'riptide': 8619, 'overcome': 7407, 'downline': 3281, 'networker': 7066, 'uther': 10737, 'russka': 8783, 'worldly': 11267, 'finishing': 4055, 'humankind': 5142, 'portland': 7927, 'ciao': 2208, 'discovers': 3162, 'nana': 6987, 'plaza': 7843, 'savior': 8899, 'woes': 11220, 'depend': 3004, '40th': 262, 'pulitzer': 8169, 'winning': 11178, 'highlander': 4970, 'gena': 4426, 'womanly': 11232, 'tame': 10026, 'graft': 4583, 'cockatiels': 2321, 'imperfection': 5258, 'eld': 3512, 'peuple': 7692, 'tapis': 10047, 'contes': 2528, 'ma': 6241, 'oye': 7428, 'chiennes': 2142, 'savantes': 8894, 'livres': 6118, 'faiseur': 3882, 'veuves': 10822, 'verte': 10814, 'soleil': 9462, 'teur': 10157, 'griffe': 4643, 'demi': 2983, 'dieu': 3104, 'thã': 10232, 'orie': 7356, 'moderne': 6766, 'ou': 7380, 'embrasser': 3560, 'âªtise': 11406, 'espagne': 3707, 'cã': 2809, 'diterranã': 3187, 'enne': 3636, '2003': 158, 'psychotic': 8154, 'reactions': 8339, 'dung': 3393, 'wilson': 11155, 'magpie': 6294, 'jeopardy': 5539, 'risk': 8625, 'sector': 9038, 'expert': 3823, 'dinotopia': 3134, 'plague': 7805, 'drink': 3341, 'cocktail': 2322, 'irreverent': 5454, 'taxes': 10067, 'meter': 6634, 'maids': 6301, 'dazzle': 2897, 'lethal': 6004, 'wreath': 11289, 'ribbon': 8579, 'edith': 3468, 'soaps': 9441, 'nourishing': 7191, 'bouquet': 1579, 'southwest': 9533, 'sigma': 9279, 'protocol': 8130, 'zeus': 11371, 'trevayne': 10465, 'marin': 6407, 'stunning': 9815, 'risi': 8623, 'agreement': 612, 'qed': 8205, 'theory': 10176, 'mcclane': 6513, 'saltwater': 8843, 'fishes': 4083, 'gamefish': 4365, 'research': 8494, 'hostile': 5109, 'rockies': 8667, 'kuralt': 5847, 'ubik': 10584, 'butt': 1770, 'hit': 5011, 'grift': 4646, 'caretaker': 1911, 'flor': 4131, 'pobby': 7859, 'dingan': 3124, 'nightspinners': 7118, 'surely': 9918, 'joking': 5582, 'feynman': 4004, 'rosa': 8715, 'blanca': 1442, 'frã': 4308, 'â¼chte': 11411, 'zorns': 11393, 'gestã': 4465, 'ndnisse': 7020, 'â¼chenchefs': 11408, 'sie': 9274, 'restaurants': 8512, 'nie': 7103, 'wollten': 11228, 'anfang': 791, '1969': 135, 'bis': 1409, 'sucht': 9844, 'ohne': 7287, 'drogen': 3347, 'arbeiten': 898, 'essen': 3724, 'lieben': 6043, 'fischer': 4077, 'herzlichst': 4950, 'ihre': 5218, 'ausgewã': 1047, 'hlte': 5021, 'briefe': 1660, 'niemand': 7104, 'kolumbus': 5810, 'ausgelacht': 1046, 'lschungen': 6199, 'legenden': 5968, 'richtiggestellt': 8588, 'examined': 3784, 'surviving': 9934, 'grow': 4670, 'seventy': 9135, 'degrees': 2956, 'menstrual': 6591, 'posthistoric': 7949, 'sapphira': 8876, 'wacky': 10945, 'cortez': 2612, 'willow': 11152, 'debeers': 2918, '1328': 49, 'annapolis': 823, 'loo': 6152, 'sanction': 8854, 'shibumi': 9203, 'pinch': 7778, 'baking': 1154, 'scarlett': 8922, 'sequel': 9101, 'mitchell': 6750, 'mills': 6687, 'loathing': 6129, 'fighting': 4029, 'inequalities': 5314, 'scar': 8915, 'moviegoer': 6895, 'drummer': 3362, 'mara': 6387, 'dann': 2847, 'contagious': 2520, 'participant': 7524, 'tarnished': 10055, 'icons': 5196, 'porfiry': 7920, 'posntnikov': 7936, 'rostnikov': 8725, 'gandhi': 4368, 'conflict': 2479, 'resolution': 8499, 'barbarians': 1188, 'ninnies': 7131, 'dancer': 2837, 'couldn': 2623, 'traditions': 10401, 'togetherness': 10301, 'louisa': 6179, 'alcott': 655, 'parental': 7508, 'coorain': 2571, '36': 241, 'caring': 1913, 'persons': 7672, 'alzheimer': 719, 'disease': 3166, 'related': 8434, 'dementing': 2981, 'illnesses': 5232, 'planner': 7815, 'gets': 4468, 'closer': 2302, 'haiku': 4738, 'dolley': 3230, 'model': 6762, 'incurable': 5295, 'girlfriends': 4500, 'bonds': 1532, 'lettere': 6007, 'contro': 2542, 'tongue': 10338, 'daemons': 2818, 'lilies': 6072, 'brazil': 1620, 'government': 4570, 'gould': 4567, 'wyoming': 11312, 'fiona': 4059, 'oceania': 7267, 'paddling': 7438, 'staying': 9701, 'phoenix': 7716, 'treatment': 10452, 'tumbling': 10544, 'carn': 1917, 'silencio': 9288, 'shark': 9179, 'lawyers': 5925, 'kink': 5758, 'outrageous': 7397, 'flagrant': 4096, 'basketball': 1228, 'embassy': 3551, 'fault': 3940, 'probe': 8079, 'cyclops': 2801, 'madder': 6263, 'cenizas': 2025, 'debris': 2920, 'shitting': 9218, 'morn': 6842, 'signals': 9281, 'computers': 2452, 'exceed': 3786, 'standards': 9661, 'parachutes': 7492, 'remembrance': 8457, 'tully': 10543, 'thunder': 10227, 'fallen': 3891, 'calder': 1811, 'desired': 3027, 'storyville': 9762, 'shutterbabe': 9253, 'alpine': 702, 'icon': 5195, 'burnout': 1752, 'palindrome': 7464, 'afraid': 585, 'cloak': 2291, 'levendeur': 6016, 'kinder': 5747, 'gral': 4586, 'canadians': 1851, 'sophisticated': 9502, 'leave': 5950, 'newest': 7077, 'tombs': 10325, 'intruder': 5417, 'movieland': 6896, 'takeover': 10008, 'ghostlight': 4477, 'counterparts': 2628, 'manager': 6343, 'hype': 5176, 'fools': 4173, 'collapse': 2344, 'drexel': 3338, 'burnham': 1750, 'intruders': 5418, 'tenths': 10129, 'prayers': 7997, 'pieces': 7747, 'doodle': 3247, 'dandy': 2841, 'mulroney': 6922, 'celebrations': 2015, 'roverandom': 8736, 'biggest': 1381, 'knopf': 5797, 'robinson': 8661, 'crusoe': 2738, 'barbecued': 1191, 'amazon': 727, 'perilous': 7652, 'realm': 8353, 'patriarch': 7569, 'waves': 11025, 'antologia': 853, 'fantastica': 3912, 'housewives': 5123, 'eating': 3444, 'afflictions': 577, 'agony': 611, '1870': 104, 'european': 3755, 'frozen': 4302, 'expedition': 3816, 'motherland': 6866, 'canterbury': 1874, 'bitten': 1417, 'maria': 6398, 'homicidal': 5070, 'alphabets': 701, 'designs': 3025, 'lazy': 5929, 'deranged': 3010, 'goons': 4553, 'progress': 8096, 'boink': 1519, 'sat': 8884, 'weirdos': 11060, 'juniper': 5645, 'gabriel': 4345, 'byrne': 1781, 'liam': 6025, 'neeson': 7036, 'pierce': 7752, 'brosnan': 1682, 'rea': 8336, 'aidan': 618, 'quinn': 8242, 'patrick': 7571, 'bergin': 1339, 'candide': 1857, 'mohicans': 6769, 'toujours': 10376, 'auch': 1026, 'gen': 4425, 'heiã': 4909, 'kleiner': 5782, 'weg': 11052, 'romane': 8689, 'einem': 3501, 'vertrauen': 10817, 'gegen': 4413, 'botschaft': 1570, 'unserer': 10691, 'speisen': 9564, 'uns': 10686, 'aussagt': 1048, 'livealbum': 6113, 'berlebende': 1343, 'werwolf': 11079, 'tarker': 10054, 'kalendergeschichten': 5669, 'geschã': 4460, 'pfe': 7693, 'security': 9040, 'schattenbrã': 8936, 'â¼der': 11414, 'ins': 5354, 'dunkel': 3395, 'spuren': 9626, 'spannende': 9546, 'psychothriller': 8153, 'monstrum': 6799, 'tommyknockers': 10329, 'abgrund': 460, 'nightmares': 7116, 'dreamscapes': 3325, 'nachtschicht': 6977, 'katzenauge': 5697, 'meister': 6568, 'horrors': 5100, 'morgengrauen': 6838, 'unheimliche': 10654, 'fornit': 4207, 'feuerkind': 4000, 'thinner': 10192, 'todesmarsch': 10298, 'piccolo': 7736, 'principe': 8060, 'silas': 9286, 'marner': 6419, 'introducing': 5412, 'foundations': 4222, 'ministry': 6700, 'ufo': 10587, 'stanley': 9667, 'macgregor': 6245, 'roy': 8740, 'screech': 8995, 'owls': 7420, 'alle': 679, 'ewigkeit': 3779, 'unleashed': 10670, 'excelsior': 3787, 'stan': 9658, 'lee': 5962, 'obligate': 7250, 'carnivore': 1924, 'means': 6531, 'vegan': 10776, 'starseed': 9686, 'gotta': 4566, 'xenocide': 11317, 'songmaster': 9487, 'wyvern': 11314, 'manticore': 6376, 'lyonesse': 6232, 'deliverance': 2968, 'floating': 4128, 'kimono': 5744, 'tangerine': 10031, 'clarity': 2255, 'greece': 4618, 'stell': 9708, 'vor': 10926, 'kreativ': 5832, 'visualisieren': 10899, 'charity': 2083, 'mariel': 6402, 'episode': 3663, 'astronautas': 997, 'yave': 11331, 'secreto': 9035, 'diosa': 3137, 'san': 8852, 'vertraute': 10818, 'sternenmelodie': 9720, 'taschenbã': 10058, 'â¼cher': 11409, 'nr': 7208, 'hã': 5183, 'â¼terin': 11432, 'gewã': 4473, 'â¼rze': 11427, 'kopernikus': 5821, 'alchimistin': 653, 'hin': 4992, 'homeward': 5068, 'erotica': 3681, 'dated': 2871, 'aveyron': 1085, 'kodansha': 5807, 'globe': 4519, 'mountaineering': 6880, '3ed': 255, 'anastasia': 773, 'absolutely': 479, 'astronomy': 999, 'faqs': 3917, 'celebrities': 2016, 'traumas': 10432, 'foe': 4152, 'outernet': 7387, 'lawn': 5921, 'weenies': 11049, 'quizzes': 8250, 'guys': 4717, 'maniac': 6361, 'suffocating': 9857, 'toons': 10347, 'flatbush': 4113, 'bedrock': 1280, 'trapped': 10427, 'hexenkessel': 4954, 'werewolves': 11076, 'endings': 3603, 'beginnings': 1296, 'alan': 641, 'mendelsohn': 6585, 'spiegel': 9580, 'guru': 4709, 'snarkout': 9430, 'avocado': 1086, 'venus': 10792, 'tramp': 10410, 'espejos': 3712, 'venecianos': 10786, 'yerma': 11338, 'letras': 6005, 'hispã': 5002, 'nicas': 7093, 'lirios': 6094, 'patio': 7568, 'corredor': 2604, 'jews': 5553, 'ultime': 10599, 'nom': 7149, 'taltos': 10024, 'enfants': 3616, 'terre': 10138, 'refuges': 8409, 'pierres': 7755, 'jambalaya': 5502, 'cajun': 1805, 'bayou': 1249, 'glare': 4509, 'richest': 8585, 'easier': 3436, 'workouts': 11262, 'relaxation': 8438, 'track': 10395, 'week': 11046, 'challenge': 2053, 'stake': 9650, 'claim': 2241, 'archon': 914, 'specter': 9557, 'dunkle': 3397, 'kammern': 5672, 'margolin': 6397, 'phillip': 7706, 'ps': 8142, 'covers': 2652, 'drop': 3349, 'birthright': 1408, 'hillary': 4986, 'clinton': 2290, 'seniors': 9082, 'sizzle': 9351, 'fragile': 4238, 'sesame': 9124, 'elmo': 3542, 'pile': 7767, 'puppies': 8181, 'quoth': 8254, 'tibbett': 10234, 'joseph': 5592, 'honest': 5078, 'sheikh': 9189, 'month': 6805, '1417': 59, 'sultan': 9873, 'sultans': 9874, '1379': 51, 'dynasties': 3417, 'connellys': 2496, '1424': 61, 'torment': 10355, 'wishing': 11195, 'oxrun': 7426, 'store': 9750, 'worshippers': 11275, 'ready': 8346, 'trenches': 10463, 'thornyhold': 10202, 'gemstones': 4424, 'bedelia': 1277, 'tap': 10044, 'escopeta': 3699, 'nima': 7123, 'butxaca': 1776, 'illes': 5228, 'grogues': 4658, 'tres': 10464, 'novelâ': 7204, 'romã': 8698, 'ntiques': 7212, 'evangeli': 3759, 'gris': 4653, 'vent': 10790, 'parany': 7503, 'suã': 9947, 'els': 3545, 'conys': 2557, 'saborosos': 8799, 'tros': 10500, 'adoraciã³': 548, 'perpã': 7660, 'tua': 10529, 'plaers': 7804, 'ficticis': 4010, 'ptics': 8156, 'vora': 10927, 'pou': 7966, 'fora': 4179, 'joc': 5571, 'moyennes': 6901, 'personnes': 7671, 'mueran': 6913, 'feos': 3987, 'almuerzo': 696, 'desnudo': 3031, 'histoire': 5003, 'monsieur': 6795, 'errands': 3684, 'machete': 6248, 'general': 4429, 'bloodcurdling': 1477, 'chatterleys': 2097, 'zodiac': 11379, 'eco': 3451, 'fletch': 4118, 'rites': 8630, 'colour': 2376, 'contract': 2538, 'halloran': 4747, '454': 274, 'paternity': 7563, '771': 366, '813': 379, 'stallion': 9654, 'tamer': 10027, 'cowboys': 2657, '1173': 32, 'meadowlark': 6524, 'beau': 1268, 'groom': 4659, '661': 336, 'kinrowan': 5760, 'danny': 2848, 'punch': 8173, 'tapping': 10048, 'swapped': 9953, 'goldfish': 4540, 'ambassador': 730, '814': 380, '1244': 42, 'prosecution': 8123, 'nice': 7095, 'accurate': 510, 'agnes': 610, 'nutter': 7237, 'armand': 934, '243': 184, 'candles': 1860, '1207': 38, 'lavender': 5917, 'bayles': 1248, 'nighttime': 7119, 'calhoun': 1812, 'babe': 1115, 'superstitions': 9907, 'arabella': 893, 'endurance': 3607, 'sounder': 9521, 'matilda': 6480, 'burden': 1739, 'dialogues': 3072, 'amethyst': 744, 'dogsong': 3221, 'moonspun': 6824, 'beds': 1281, '1203': 37, '726': 354, 'foundling': 4225, 'shades': 9148, 'moth': 6862, 'convenient': 2550, 'nonesuch': 7154, 'upstairs': 10717, 'tripping': 10485, 'beaten': 1264, 'bloodline': 1479, 'fictions': 4013, 'corinthian': 2590, 'chocolat': 2164, 'assata': 984, 'lawrence': 5922, 'titles': 10285, 'shout': 9241, 'beatles': 1265, 'greenmantle': 4630, 'worshipful': 11274, 'fletchers': 4119, 'roofworld': 8703, 'futureland': 4333, 'imminent': 5251, 'lennon': 5984, '1940': 125, '1980': 138, 'legendary': 5967, 'tooth': 10349, 'sands': 8862, 'expiration': 3824, 'sealed': 9019, '3360': 229, 'bridesmaid': 1653, '266': 194, 'tyler': 10575, 'nick': 7098, 'jules': 5629, '606': 315, 'coral': 2583, 'hotshot': 5112, 'overnight': 7412, '848': 392, 'uncertain': 10622, '7550': 362, 'bothered': 1568, '701': 349, '7b': 372, '3110': 219, 'proposition': 8121, '3095': 217, 'linings': 6088, '3392': 230, 'westmark': 11084, '627': 325, '1395': 54, 'persistent': 7664, 'gappers': 4375, 'frip': 4290, 'calamity': 1808, 'janes': 5506, '1394': 53, '988': 445, 'fully': 4316, 'engaged': 3617, '962': 432, '1397': 55, 'citizen': 2232, 'rex': 8565, 'colman': 2359, 'leash': 5948, 'ruffly': 8754, 'speaking': 9552, 'gourmet': 4568, 'ageless': 599, 'athlete': 1002, 'littles': 6110, 'breeding': 1638, 'ingathering': 5329, 'zenna': 11369, 'henderson': 4925, 'sable': 8798, 'prentice': 8012, 'alvin': 717, 'unfit': 10649, 'nightbird': 7111, 'flashpoint': 4111, 'seasoned': 9026, 'backpackers': 1131, 'benni': 1334, 'piglet': 7762, 'bite': 1415, 'vegetable': 10778, 'hbj': 4859, 'mozart': 6902, 'optimum': 7334, 'dino': 3130, 'start': 9689, 'underwear': 10639, 'treetop': 10459, 'badder': 1135, 'baddest': 1136, 'blooded': 1478, 'taffy': 9990, 'sinclair': 9311, 'skeleton': 9353, 'canyon': 1878, 'brady': 1600, 'dough': 3272, 'mutter': 6954, 'werde': 11075, 'bist': 1412, 'beziehungskonferenz': 1369, 'wege': 11053, 'konstruktiven': 5817, 'miteinander': 6751, 'convictions': 2556, 'sixteen': 9347, 'fought': 4219, 'supreme': 9916, 'barrel': 1212, 'franã': 4258, 'ais': 629, 'cent': 2027, 'difficultã': 3108, 'petit': 7688, 'livre': 6117, 'francais': 4243, 'douce': 3270, 'clair': 2244, 'lune': 6218, 'vue': 10941, 'connue': 2497, 'vipere': 10876, 'poing': 7875, 'ecume': 3458, 'jours': 5603, 'exercices': 3794, 'burlesque': 1746, 'quipã': 8243, 'cycliste': 2800, 'toiles': 10302, 'masque': 6456, 'fer': 3988, 'presses': 8032, 'orientales': 7358, 'automne': 1069, 'bilbo': 1386, 'cri': 2698, 'chouette': 2177, 'cheval': 2128, 'colline': 2357, 'mariage': 6399, 'figaro': 4026, 'comedie': 2391, 'cinq': 2222, 'actes': 523, '1784': 88, 'barbier': 1194, 'ville': 10862, 'graal': 4573, 'clowns': 2312, 'forced': 4183, '1833': 96, 'betrothed': 1363, 'enigmatic': 3630, 'twins': 10570, 'included': 5284, '3658': 245, 'controlled': 2544, 'wedlocked': 11043, '2282': 176, 'immediately': 5249, 'doctors': 3208, 'proposal': 8120, 'calvani': 1828, 'seducing': 9043, 'alicia': 669, 'incredible': 5293, 'majesty': 6312, 'manger': 6354, 'drear': 3330, 'slaying': 9382, 'bernarda': 1348, 'alba': 645, 'volunteer': 10921, 'overseas': 7413, 'peloponnesian': 7612, 'greens': 4631, 'environmental': 3657, 'hiroshima': 5000, 'hickry': 4960, 'dickry': 3089, 'deth': 3045, 'wakes': 10958, 'archer': 909, 'deh': 2957, 'koh': 5808, 'apostolic': 871, 'thika': 10184, 'oracle': 7336, 'momilies': 6779, 'fern': 3992, 'raggy': 8276, 'terabithia': 10132, 'fiery': 4020, 'gelsey': 4420, 'kirkland': 5766, 'rogers': 8675, 'talks': 10021, 'duchess': 3371, 'charlie': 2085, 'peanuts': 7594, 'peppermint': 7635, 'pig': 7758, 'crucible': 2733, 'sake': 8827, 'elena': 3522, 'diceys': 3085, 'ellis': 3540, 'mandy': 6351, 'andrews': 785, 'manzanar': 6381, 'internment': 5395, 'seaboard': 9014, 'returns': 8537, 'backpack': 1130, 'stress': 9789, 'auel': 1030, 'ordeal': 7346, 'reconstruction': 8381, '1832': 95, '1849': 99, '1866': 102, 'darkwalker': 2860, 'moonshae': 6823, 'nuclear': 7214, 'brilliant': 1665, 'assembly': 986, 'forging': 4198, 'darksword': 2859, 'beaver': 1272, 'echo': 3448, 'rusty': 8785, 'farmyard': 3924, 'flap': 4106, 'noisy': 7148, 'sid': 9267, 'loopy': 6157, 'carrot': 1933, 'tops': 10351, 'cottontails': 2621, 'elephant': 3523, 'rubbish': 8744, 'storytime': 9761, 'giants': 4480, 'bilberry': 1385, 'lift': 6058, 'humphrey': 5149, 'spot': 9613, 'visits': 10895, 'grandparents': 4594, 'infernale': 5318, '854': 394, 'sommeil': 9479, 'batman': 1236, 'sprinter': 9622, 'cantatrice': 1871, 'chauve': 2098, 'piece': 7746, 'lecon': 5957, 'drame': 3309, 'comique': 2403, '236': 181, 'elle': 3536, 'appelait': 875, 'miette': 6666, 'tamorphose': 10029, 'dans': 2849, 'colonie': 2363, 'nitentiaire': 7135, 'tard': 10051, 'pays': 7583, 'prison': 8069, 'gros': 4663, 'gã': 4725, 'ant': 838, 'sacrã': 8807, 'triste': 10488, 'fin': 4036, 'enfant': 3615, 'huã': 5171, 'tre': 10444, 'agneaux': 609, 'flopsy': 4130, 'bunnies': 1733, 'paddington': 7437, 'shopping': 9231, 'parfaite': 7512, 'si': 9256, 'est': 3728, 'je': 5526, 'suis': 9863, 'vivant': 10907, 'vous': 10933, 'âªtes': 11405, 'morts': 6856, 'tuã': 10561, 'ackroyd': 517, 'versailles': 10808, 'ferme': 3991, 'animaux': 814, 'chã': 2207, 'timents': 10263, 'electre': 3515, 'hector': 4895, 'unadulterated': 10608, 'oogie': 7316, 'boogie': 1539, 'upanishads': 10708, 'quarterback': 8212, 'shaun': 9184, 'gayle': 4407, 'langages': 5884, 'pao': 7480, 'indecent': 5296, 'billie': 1389, 'finbar': 4045, 'ethan': 3740, 'frome': 4294, 'eclipse': 3450, 'foxspell': 4236, 'bat': 1231, 'raisers': 8292, 'moonstone': 6825, 'dresser': 3335, 'ome': 7306, 'asta': 992, 'biggles': 1382, 'hurricanes': 5162, 'sparrows': 9549, 'lightstone': 6066, 'ea': 3421, 'usborne': 10728, 'pole': 7888, 'taliesin': 10017, 'unreliable': 10684, 'flyer': 4146, 'quattrocento': 8217, 'montsegur': 6809, 'cathars': 1979, 'carvers': 1945, 'graves': 4608, 'bosnia': 1565, 'kosovo': 5828, 'maharajah': 6296, 'exotic': 3809, 'espionage': 3716, 'illicit': 5229, 'raj': 8295, 'rhythm': 8575, 'section': 9037, 'alibrandi': 667, 'cloudstreet': 2310, 'match': 6468, 'fisher': 4080, 'espinosa': 3715, 'startling': 9692, 'safari': 8813, 'overland': 7410, 'cairo': 1803, 'capetown': 1882, 'ada': 532, 'ardor': 917, 'postscript': 7955, 'scipio': 8975, 'storey': 9751, 'fiftieth': 4024, 'stargazing': 9676, 'lighthouse': 6061, 'highways': 4976, 'sunburned': 9884, 'lot': 6172, '49': 282, 'miraculous': 6712, 'hanging': 4777, 'curve': 2787, 'mickey': 6652, 'rawlings': 8330, 'bog': 1514, 'runamok': 8768, 'realities': 8349, 'brainchild': 1607, 'cash': 1954, 'palms': 7467, 'sixth': 9349, 'commandment': 2408, 'coffin': 2333, 'scully': 9008, 'cannell': 1864, 'bug': 1711, 'walked': 10964, 'daniel': 2845, 'arch': 903, 'set': 9126, 'cowgirls': 2659, 'beguiled': 1298, 'thyself': 10231, 'combining': 2387, 'groundbreaking': 4666, 'ronnie': 8701, 'grownup': 4672, 'slimmer': 9393, 'toned': 10334, 'blankets': 1447, 'exile': 3799, 'marshmallow': 6430, 'phenomenal': 7702, 'outta': 7403, 'insights': 5361, 'achieving': 514, 'scattering': 8926, 'carnegie': 1921, 'mellon': 6570, 'cares': 1909, 'lewis': 6018, 'rep': 8471, 'ka': 5659, 'sophocles': 9503, 'oedipus': 7276, 'colonus': 2364, 'antigone': 850, 'theo': 10173, 'gogh': 4535, '830': 384, 'admiral': 543, 'fanta': 3909, '690': 342, 'showcase': 9242, '698': 345, 'ad': 531, '795': 371, '836': 387, '822': 382, '884': 405, '808': 378, 'inheritance': 5337, 'safekeeping': 8815, '620': 323, 'calloway': 1823, 'corners': 2593, '706': 350, 'tough': 10374, 'cookie': 2563, 'chieftain': 2141, 'breast': 1630, 'sanctuary': 8855, 'envy': 3658, 'introducg': 5411, 'greenfld': 4625, 'bending': 1328, 'mesh': 6616, 'timeswept': 10266, 'maggie': 6276, 'divided': 3193, 'dazzled': 2898, 'cinnamon': 2221, 'shooting': 9226, 'surrender': 9928, 'fancy': 3905, '200': 154, 'deepest': 2943, '302': 215, 'scoundrel': 8987, 'sherbrooke': 9199, 'stuck': 9807, 'futuristic': 4335, 'haste': 4830, '481': 279, 'eligible': 3532, '2170': 169, 'maddie': 6264, 'grooms': 4660, '3648': 243, 'rafael': 8272, '2160': 168, 'max': 6498, '843': 390, '2185': 170, 'faithless': 3885, 'impetuous': 5260, 'splendour': 9601, 'desiree': 3028, 'shapiro': 9175, 'copper': 2577, 'beech': 1285, 'undercover': 10634, 'specialists': 9555, '716': 352, 'cactus': 1790, 'rancher': 8302, 'bidding': 1374, '929': 420, 'olympus': 7303, 'priceless': 8045, '246': 185, 'communist': 2424, 'kyudo': 5852, 'olympic': 7301, 'committee': 2417, 'anybody': 863, 'olympics': 7302, 'dumbing': 3384, 'curriculum': 2783, 'compulsory': 2449, 'schooling': 8960, 'undergroundtrader': 10636, 'electronic': 3517, 'ethics': 3742, 'ogilvy': 7281, 'blank': 1446, 'shtick': 9250, 'existential': 3803, 'vacuum': 10742, 'attachments': 1014, 'atoms': 1010, 'grammar': 4587, 'danse': 2850, 'macabre': 6242, 'contrarian': 2539, 'lifelong': 6055, 'interactive': 5387, 'website': 11037, 'seize': 9062, 'apart': 866, 'difficult': 3107, 'lasts': 5901, 'taiwan': 10007, 'cried': 2700, 'hazards': 4857, 'privilege': 8074, 'tuiavii': 10540, 'comments': 2412, 'foreword': 4193, 'schlesinger': 8947, 'linguistics': 6087, 'hal': 4741, 'hartley': 4821, 'logic': 6137, 'humanity': 5141, 'moral': 6830, 'portnoy': 7928, 'complaint': 2439, 'granta': 4597, 'transforming': 10417, 'intercultural': 5388, 'interactions': 5386, 'methodology': 6636, 'introvert': 5416, 'thrive': 10221, 'extrovert': 3849, 'forgets': 4196, 'sociolinguistics': 9448, 'articulate': 954, 'mammal': 6339, 'psycholinguistics': 8150, 'abroad': 474, 'bring': 1668, 'undressing': 10643, 'dismal': 3171, 'lullaby': 6211, 'nonzero': 7158, 'babbitt': 1114, 'kgb': 5729, 'won': 11235, 'maladjustment': 6324, 'presentation': 8022, 'coercion': 2330, 'methods': 6637, 'charge': 2081, 'professional': 8089, 'applying': 880, 'alternatives': 712, 'pilgrims': 7770, 'longman': 6150, 'caution': 1998, 'advertisement': 560, 'dope': 3257, 'minds': 6693, 'resourceful': 8501, 'hay': 4855, 'founder': 4223, 'wept': 11074, 'vivian': 10908, 'whiz': 11110, 'e6': 3420, 'd6': 2811, 'tournament': 10379, 'repertoire': 8474, 'openings': 7322, 'spindle': 9587, 'rugrats': 8756, 'tommys': 10330, 'playmate': 7840, 'orson': 7369, 'planter': 7822, 'kerowyn': 5724, 'oathbound': 7243, 'vows': 10935, 'oathbreakers': 7244, 'oathblood': 7242, 'chessercizes': 2126, 'treason': 10447, 'worthing': 11279, 'wyrms': 11313, 'fringe': 4289, 'hart': 4820, 'sonatas': 9482, 'flux': 4144, 'rape': 8311, 'continued': 2532, 'victim': 10832, 'earthfall': 3433, 'earthborn': 3432, 'ships': 9213, 'ragnarok': 8278, 'renshai': 8469, 'reichert': 8420, 'cloudbearer': 2306, 'kingmaker': 5754, 'gaian': 4348, 'pediatric': 7602, 'support': 9912, 'birthing': 1407, 'extra': 3840, 'childbirth': 2144, 'preparation': 8014, 'discipline': 3151, 'cooperation': 2570, 'pitcairn': 7794, 'mothering': 6865, 'doula': 3274, 'shorter': 9235, 'healthier': 4868, 'vaccine': 10741, 'informed': 5326, 'sanity': 8870, 'technique': 10082, 'defining': 2949, 'breastfeeding': 1631, 'reduction': 8396, 'surgery': 9923, 'hundreds': 5151, 'pauper': 7577, 'petite': 7689, 'simplify': 9307, 'parakeet': 7500, 'banking': 1180, 'torture': 10365, 'reunion': 8538, 'laugh': 5909, 'valor': 10758, 'starfarers': 9673, 'nursing': 7229, 'weaning': 11032, 'happens': 4789, 'wanderlust': 10979, 'catkin': 1985, 'healthy': 4869, 'fertility': 3995, 'conventional': 2552, 'treatments': 10453, 'infants': 5317, 'mayo': 6506, 'magazine': 6274, 'tiny': 10273, 'poof': 7907, 'rabbits': 8259, 'abracadabra': 468, 'woof': 11248, 'tower': 10382, 'menace': 6583, 'documentary': 3209, 'spells': 9567, 'knee': 5787, 'nova': 7194, 'packing': 7436, '965': 433, 'houdini': 5113, 'photograph': 7718, 'record': 8382, 'fan': 3904, 'fit': 4089, 'equals': 3667, 'football': 4176, 'margaritaville': 6396, 'fictional': 4012, 'factual': 3869, 'debut': 2922, 'historicals': 5009, '360': 242, 'yucatan': 11353, 'sites': 9342, 'belize': 1312, 'tikal': 10255, 'copan': 2573, 'tetra': 10155, 'consulting': 2515, 'outlanders': 7393, 'quantum': 8210, 'aerie': 564, 'tik': 10254, 'tok': 10305, 'oz': 7430, 'defiant': 2948, 'cn16dp': 2316, 'investigators': 5430, 'crimebusters': 2703, 'reel': 8400, 'breathless': 1635, '1564': 71, 'executioner': 3793, '297': 208, 'alliance': 687, 'scorpion': 8983, '294': 207, '293': 206, 'trade': 10397, '291': 204, 'pursued': 8191, '290': 203, '285': 201, 'army': 938, '282': 200, '292': 205, 'mack': 6253, 'bolan': 1522, 'waste': 11009, 'destroyer': 3039, '130': 46, 'tunes': 10546, 'stony': 9746, '63': 326, 'axis': 1103, 'retrieve': 8532, '89': 408, 'earthblood': 3431, 'collide': 2355, 'bison': 1411, 'frontiers': 4298, 'damnation': 2833, 'alley': 684, 'destination': 3036, 'remnants': 8458, 'mayflower': 6504, 'stops': 9749, 'hermux': 4941, 'tantamoq': 10038, 'luke': 6210, 'jasper': 5522, '112': 27, 'ia': 5184, 'drang': 3310, 'rebound': 8366, 'frampton': 4242, 'hey': 4956, 'stronghold': 9800, 'token': 10306, 'skybowl': 9369, 'wifey': 11134, 'surprised': 9925, 'laughter': 5911, 'asp': 977, 'nutshell': 7236, 'principia': 8061, 'discordia': 3155, 'xml': 11323, 'desktop': 3030, 'quick': 8232, 'vbscript': 10772, 'reilly': 8422, 'dbi': 2899, 'odd': 7271, 'sirius': 9332, 'kahuna': 5663, 'holistic': 5039, 'practices': 7986, 'polynesia': 7901, 'cascading': 1948, 'programmer': 8094, 'crooked': 2723, 'caught': 1992, 'shore': 9232, 'watchstar': 11013, 'redoubt': 8395, 'buried': 1744, 'zanzibar': 11361, 'struggling': 9802, 'rite': 8629, 'sorcery': 9508, 'casteel': 1961, 'trumps': 10518, 'doom': 3248, 'cards': 1902, 'witchdame': 11202, 'swordswoman': 9975, 'hecate': 4894, 'cauldron': 1993, 'feathers': 3954, 'hundredth': 5152, 'reincarnation': 8423, 'changeling': 2069, 'hawkmistress': 4853, 'darkover': 2857, 'bloody': 1484, 'landfall': 5876, 'strands': 9768, 'sunlight': 9889, 'heirs': 4908, 'hammerfell': 4757, 'greyhaven': 4641, '2010': 160, 'thendara': 10172, 'forged': 4194, '33': 226, 'raising': 8294, 'battlestations': 1244, 'dreadnought': 3316, 'sorceress': 9507, 'cloudcry': 2307, 'mutiny': 6953, 'enterprise': 3647, 'imajica': 5248, 'greenest': 4624, 'branch': 1611, 'abode': 465, 'blackfire': 1428, 'harts': 4822, 'beholder': 1301, 'waters': 11020, 'neat': 7025, 'messie': 6622, 'streams': 9783, 'income': 5287, 'sucks': 9847, 'bomb': 1528, 'lackey': 5859, 'mercedes': 6601, 'telzey': 10103, 'amberdon': 732, 'baen': 1141, 'ulterior': 10595, 'motive': 6871, 'brainbooster': 1606, 'rapid': 8313, 'miscarriage': 6722, 'stillbirth': 9729, 'reproductive': 8484, 'superiority': 9900, 'rumors': 8764, 'wrongful': 11302, 'detox': 3046, 'cleanse': 2272, 'recharge': 8372, 'somers': 9478, 'cheat': 2101, 'melt': 6572, 'energizing': 3613, 'owning': 7422, 'lick': 6039, 'adobe': 544, 'limited': 6078, 'conjure': 2490, 'beverly': 1367, 'tranquilizing': 10411, 'arthurian': 952, 'rocking': 8668, 'breathe': 1633, 'processes': 8084, 'developmental': 3052, 'processing': 8085, 'parenthood': 7509, 'feelings': 3965, 'greene': 4622, 'rebellions': 8362, 'herstory': 4949, 'cesarean': 2046, 'vaginal': 10744, 'vbac': 10771, 'ethnicity': 3745, 'guilford': 4696, 'conduct': 2469, 'demeter': 2982, 'mayor': 6507, 'castro': 1965, 'harvey': 4827, 'unbecoming': 10614, 'almanac': 695, 'services': 9122, 'remaking': 8450, 'shaping': 9174, 'metaphysics': 6631, 'grassroots': 4603, 'movements': 6890, 'martina': 6436, 'navratilova': 7016, 'squad': 9630, 'ctr': 2747, 'murdr': 6936, 'diane': 3076, 'wits': 11210, 'casebook': 1950, 'widowers': 11128, 'survey': 9930, 'hypericum': 5177, 'catwoman': 1991, 'elvenblood': 3548, 'halfblood': 4743, 'wanderground': 10977, 'restoree': 8517, 'ride': 8593, 'pegasus': 7606, 'lunar': 6215, 'romulans': 8697, 'zombies': 11383, 'convergent': 2553, 'barsoom': 1217, 'spock': 9604, 'dancers': 2838, 'arun': 959, 'voyages': 10938, 'alchemy': 651, 'academe': 489, 'watchtower': 11014, 'triangle': 10469, 'entropy': 3653, 'idic': 5209, '38': 250, 'uhura': 10591, 'wildraiths': 11142, 'batt': 1239, 'frostflower': 4300, 'windbourn': 11159, 'unpleasant': 10679, 'prof': 8087, 'hoag': 5025, 'cadet': 1794, 'muggable': 6916, 'eagles': 3423, 'nurse': 7227, 'effects': 3486, 'blackout': 1431, 'emeraline': 3562, 'concerto': 2459, 'corona': 2596, 'blackie': 1429, 'thirst': 10194, 'trillium': 10480, 'summoned': 9880, 'tourney': 10380, 'bionic': 1401, 'extracurricular': 3841, 'seeds': 9047, 'creation': 2683, 'couch': 2622, 'silistra': 9292, 'famine': 3902, 'rhea': 8569, 'desecration': 3019, 'browning': 1688, 'superluminal': 9901, 'grimmer': 4650, 'unborn': 10617, 'demonstration': 2992, 'childsong': 2149, 'newman': 7080, 'pin': 7776, 'minerva': 6694, 'screwtop': 9000, 'plugged': 7851, 'psi': 8144, 'thrice': 10217, 'chekv': 2114, 'steerswoman': 9705, 'cylon': 2802, 'battlestar': 1243, 'galactica': 4351, 'ombra': 7304, 'greenmagic': 4629, 'seeding': 9046, 'dosage': 3264, 'cost': 2618, 'johanna': 5574, 'guinevere': 4699, 'iseult': 5459, 'sartre': 8882, '80': 374, 'diversity': 3192, 'sybil': 9977, 'coward': 2655, 'bard': 1197, 'hypochondriac': 5182, 'audrina': 1029, 'recovery': 8385, 'healings': 4866, 'hearing': 4871, 'starfleet': 9675, 'cyberthriller': 2797, 'serpent': 9114, 'bishop': 1410, 'mornas': 6843, '142': 60, 'explorer': 3828, 'vile': 10857, 'hooky': 5089, 'spoon': 9608, '62': 322, 'blindsight': 1466, 'supermystery': 9903, 'fright': 4287, 'dicey': 3084, 'teklords': 10097, 'perfectly': 7648, 'puppets': 8180, 'promised': 8105, 'copenhagen': 2575, 'xenogenesis': 11318, 'hospital': 5106, 'amica': 746, 'della': 2971, 'modellista': 6763, 'mia': 6645, 'affrontare': 580, 'problemi': 8081, 'vita': 10901, 'sentimentale': 9093, 'psicologia': 8146, 'personalitã': 7668, 'samantha': 8847, 'peek': 7603, 'dining': 3126, 'meals': 6526, 'bfg': 1370, 'isabel': 5456, 'castilla': 1962, 'spain': 9540, '1466': 62, 'littlest': 6111, 'katerina': 5692, 'teasing': 10080, 'pussycat': 8196, 'bully': 1724, 'eyed': 3852, 'forget': 4195, 'buster': 1766, 'walton': 10974, 'learns': 5947, 'critter': 2715, 'storybook': 9757, 'beatrix': 1266, 'thrower': 10225, 'demands': 2979, 'verdict': 10796, 'evidences': 3775, 'evidencia': 3776, 'exige': 3798, 'veredicto': 10797, 'lilac': 6070, 'philosophical': 7711, 'consequences': 2505, 'avoid': 1087, 'potomac': 7960, 'fork': 4202, 'crested': 2695, 'butte': 1771, 'sheba': 9185, 'menopaws': 6589, 'meow': 6597, 'mullins': 6921, 'pointing': 7878, 'bluebird': 1494, 'bethany': 1361, 'holt': 5048, 'perelandra': 7644, 'hikes': 4980, 'napa': 6991, '2d': 209, 'optical': 7331, 'projects': 8099, 'typhoid': 10579, 'steal': 9702, 'mommy': 6780, 'fang': 3906, 'bestseller': 1358, 'friendships': 4286, 'sportin': 9610, 'tude': 10535, 'responsibilities': 8508, 'amusing': 764, 'discourse': 3156, 'bet': 1360, 'mcallister': 6509, '1871': 105, 'polaris': 7887, 'remember': 8453, 'tremain': 10461, 'id4': 5199, 'pat': 7555, 'widmer': 11125, 'pudd': 8162, 'nhead': 7088, 'blessing': 1459, 'ginny': 4493, 'rescues': 8492, 'shepards': 9198, 'gag': 4347, 'wrinkle': 11292, 'elephants': 3525, 'aloud': 698, 'grip': 4652, 'observer': 7257, 'charts': 2091, 'covering': 2651, 'entire': 3651, 'veronica': 10805, 'carpenter': 1930, 'cheney': 2119, 'shiloh': 9207, 'driven': 3344, 'duvall': 3408, 'mp': 6903, 'duval': 3407, 'sights': 9278, 'hoop': 5090, 'portraits': 7930, 'motor': 6873, 'gangs': 4370, 'jekyll': 5534, 'hyde': 5174, 'fishsome': 4086, 'altogether': 715, 'buckaroo': 1699, 'banzai': 1186, 'eighth': 3497, 'dimension': 3120, '1989': 144, 'folger': 4155, 'ravelstein': 8326, 'extremely': 3848, 'secets': 9030, 'chronic': 2193, 'hazelden': 4858, 'medition': 6554, 'bluest': 1498, 'tortoise': 10363, 'tonga': 10337, 'shadowland': 9152, 'sketches': 9357, 'media': 6542, 'theirs': 10171, 'translations': 10422, 'inventing': 5423, 'abbotts': 455, 'portals': 7923, 'tempest': 10110, 'dispossessed': 3179, 'ambiguous': 733, 'utopia': 10738, 'definition': 2950, 'transcendent': 10413, 'godot': 4532, 'whiteness': 11107, 'cracking': 2665, 'mathematics': 6478, 'genji': 4438, 'tuttle': 10560, 'rare': 8317, 'encounters': 3594, 'feminist': 3982, 'papers': 7487, 'peaks': 7593, 'gary': 4391, 'snyder': 9439, 'whalen': 11090, 'kerouac': 5723, 'curie': 2776, 'rene': 8463, 'descartes': 3014, 'bowls': 1590, 'monastery': 6783, 'hammer': 4756, 'bertram': 1353, 'ar': 892, 'sundiver': 9887, 'leo': 5987, 'tolstoy': 10316, 'alcoholism': 654, 'caregivers': 1908, 'abuse': 484, 'coping': 2576, 'intervention': 5399, 'chemically': 2116, 'dependent': 3005, 'archy': 915, 'mehitabel': 6562, 'mcdougall': 6518, 'supporting': 9914, 'occupational': 7264, 'outlook': 7396, 'nurturing': 7230, 'restoring': 8518, 'fuzzytail': 4338, 'chunky': 2203, 'mistral': 6744, 'confidence': 2476, 'luxury': 6224, 'negative': 7038, 'bulow': 1725, 'hearst': 4873, 'reversal': 8549, 'drawing': 3313, 'hp': 5127, 'raffia': 8273, 'hats': 4837, 'bags': 1148, 'baskets': 1229, 'spice': 9575, 'yarn': 11330, 'needlecraft': 7033, 'cecile': 2007, 'lindbergh': 6083, 'akhmatova': 633, 'izbrannye': 5480, 'stikhi': 9727, 'microsoft': 6654, 'sew': 9136, 'applique': 879, 'notre': 7189, 'dame': 2831, 'prayerbook': 7996, 'meteor': 6633, 'ss': 9634, 'backlash': 1128, 'undeclared': 10631, 'bloomsbury': 1486, 'edward': 3479, 'langenscheidt': 5886, 'hull': 5137, 'autobiographical': 1065, 'burns': 1753, 'archeological': 908, '59': 310, 'outsider': 7400, 'incest': 5280, 'devastation': 3049, 'deaths': 2916, 'marybeth': 6444, 'tinning': 10270, 'david': 2878, 'copperfield': 2578, 'homes': 5062, 'bazaar': 1250, 'sampler': 8849, 'needlepoint': 7034, 'boutique': 1582, 'welsh': 11068, 'addison': 535, 'wesley': 11080, 'causal': 1994, 'attribution': 1023, 'cognitive': 2334, 'collective': 2351, 'beliefs': 1310, 'selections': 9068, 'framed': 4240, 'lace': 5858, 'anxiety': 862, 'phobia': 7715, 'shizuko': 9219, 'shoestring': 9225, 'bohemia': 1517, 'koran': 5823, 'elegant': 3519, 'superstrings': 9908, 'hyperspace': 5179, 'parallel': 7502, 'universes': 10667, 'hanford': 4774, 'toll': 10312, 'arsenal': 946, 'intermediate': 5391, 'combined': 2386, 'roles': 8681, '1920': 115, 'gb': 4409, '406': 260, 'todays': 10295, 'redemptorist': 8391, 'ferris': 3993, 'monica': 6788, 'sanguinary': 8869, 'veiled': 10781, 'sentiments': 9094, 'bedouin': 1279, 'ignatius': 5214, 'authorized': 1062, 'constantine': 2512, 'lenin': 5983, 'zurich': 11400, 'boat': 1504, 'grant': 4596, 'ox': 7423, 'bow': 1585, 'lent': 5985, 'eastertide': 3439, 'damals': 2829, 'fredrich': 4264, 'scrap': 8990, 'fabric': 3859, 'profitable': 8092, 'malfi': 6328, 'crofts': 2722, 'kristin': 5840, 'lavransdatter': 5918, 'husaby': 5165, 'pontiffs': 7905, 'aquitaine': 890, 'wales': 10962, 'japan': 5514, 'unabridged': 10607, 'sylvia': 9978, 'plath': 7828, 'aristocracy': 923, '1660': 76, 'boned': 1535, 'mao': 6382, 'zedong': 11365, 'doors': 3254, 'germans': 4452, '1900': 110, 'tudor': 10536, 'dynamics': 3414, 'muslim': 6946, 'sadness': 8812, 'stuarts': 9806, 'kingship': 5757, 'monarchy': 6782, 'bridal': 1648, '1949': 130, 'keppel': 5721, 'desperate': 3032, 'abuses': 486, 'greenspan': 4632, 'fed': 3958, 'jonbenet': 5586, 'holiness': 5038, 'dalai': 2823, 'lama': 5868, '1950': 131, 'bigger': 1380, 'eichmann': 3495, 'tours': 10381, '1750': 83, 'jasmine': 5520, 'downfall': 3279, 'bodily': 1512, 'pentimento': 7629, 'disillusionment': 3170, 'deng': 2995, 'xiapong': 11319, '1978': 137, 'confederates': 2473, 'hearse': 4872, 'hitchcock': 5012, 'sewell': 9137, 'sharp': 9180, 'pencil': 7617, 'fame': 3897, 'iib': 5221, 'thee': 10170, 'contamination': 2522, 'surveillance': 9929, 'federation': 3959, 'wo': 11218, 'vogel': 10911, 'nsten': 7211, 'singt': 9320, 'luftgã': 6209, 'ngerin': 7085, 'felder': 3968, 'ehre': 3493, 'weites': 11062, 'wildes': 11140, 'dramatische': 3308, 'â¼nften': 11421, 'kontinents': 5818, 'evangelium': 3760, 'schneefalke': 8949, 'guten': 4714, 'schlechten': 8945, 'tagen': 9995, 'narrenweisheit': 7002, 'verklã': 10799, 'rung': 8773, 'jacques': 5490, 'rousseau': 8734, 'versuchung': 10813, 'heiligen': 4901, 'antonius': 856, 'abgrã': 461, 'â¼ndig': 11417, 'bermorgen': 1346, 'himmels': 4991, 'ediths': 3469, 'franzã': 4257, 'sische': 9334, 'stã': 9827, 'â¼rme': 11425, 'lebens': 5954, 'holzschnitte': 5051, 'geheimnis': 4415, 'maske': 6452, 'browns': 1689, 'grabgesang': 4574, 'kriminalroman': 5839, 'prozedur': 8140, 'blaue': 1450, 'augen': 1034, 'abbildung': 454, 'unschickliche': 10687, 'antrag': 857, 'tintin': 10272, 'hexwood': 4955, 'ombria': 7305, 'riverworld': 8639, 'ascension': 960, 'garfield': 4383, 'sits': 9343, 'grimmy': 4651, 'darwath': 2865, 'armies': 935, 'daylight': 2895, 'ceres': 2040, 'celestial': 2018, 'pastons': 7551, 'transition': 10420, 'matzo': 6488, '66': 335, 'laps': 5893, 'starbucks': 9670, 'prepare': 8015, 'guests': 4688, 'cage': 1800, 'kimble': 5743, 'ing': 5328, 'verona': 10804, 'stargirl': 9677, 'joey': 5573, 'pigza': 7764, 'swallowed': 9948, 'oldest': 7295, 'confederate': 2472, 'tells': 10102, 'magsamen': 6295, 'inns': 5351, 'marigold': 6405, 'pair': 7449, 'disappearing': 3148, 'ingenue': 5330, 'kung': 5846, 'fu': 4310, 'fashionistas': 3930, 'mandala': 6347, 'coloring': 2373, 'rescuing': 8493, 'nathan': 7006, 'heller': 4914, 'attorney': 1021, 'peachtree': 7592, 'circumstances': 2227, 'commitment': 2415, 'gateway': 4397, 'friedrich': 4281, 'renee': 8464, 'kapp': 5676, 'hartz': 4824, 'occupied': 7265, 'persecution': 7662, 'archangel': 907, 'draft': 3293, 'beastly': 1261, 'ratha': 8321, 'nuddy': 7215, 'kiplinger': 5763, 'invest': 5427, 'accumulate': 509, 'amounts': 759, 'cents': 2034, 'retiring': 8525, 'congressman': 2489, 'reveals': 8543, 'fix': 4094, 'ember': 3553, 'iguanas': 5217, 'rodriguez': 8673, 'saloon': 8841, 'aria': 921, 'velveteen': 10783, 'toys': 10391, 'belle': 1315, 'kappa': 5677, 'governess': 4569, 'siamese': 9258, 'knows': 5806, 'tacky': 9989, 'sandpiper': 8860, 'ramona': 8298, 'shower': 9243, 'invited': 5438, 'slumber': 9406, 'scaredy': 8918, 'ants': 859, 'chipmunks': 2161, 'natures': 7013, 'grandpa': 4593, 'bunny': 1734, 'nate': 7005, 'stalks': 9653, 'stupidweed': 9821, 'springboard': 9618, 'experiences': 3819, 'storybooks': 9758, 'fireflies': 4064, 'alphabet': 700, 'cupid': 2770, 'salads': 8829, 'fruit': 4304, 'kilmeny': 5741, 'tangled': 10034, 'climbs': 2287, 'kismet': 5768, '642': 328, '644': 330, 'hippocrene': 4997, 'smell': 9415, 'horseman': 5102, 'convenience': 2549, 'wellness': 11065, 'salamander': 8831, 'disco': 3154, 'cheshire': 2123, 'million': 6683, 'maid': 6299, 'groff': 4657, 'pennsylvania': 7626, 'fourplay': 4229, 'ate': 1001, 'hare': 4802, 'boulevard': 1575, '1751': 84, '1025': 15, 'lovespell': 6191, '3142': 220, 'jessie': 5544, 'webster': 11038, '594': 311, 'intrique': 5408, '138': 52, 'tainted': 10005, 'soups': 9524, 'ex': 3780, 'callie': 1820, 'accounting': 508, 'benny': 1335, 'uncovers': 10627, '32': 222, 'pendleton': 7618, 'collins': 2358, 'novocaine': 7205, 'elm': 3541, 'handling': 4768, 'capitol': 1885, 'bipartisan': 1402, 'menus': 6596, 'violet': 10874, 'audrey': 1028, 'hepburns': 4930, 'neck': 7028, 'rode': 8671, 'kenneth': 5715, 'starr': 9682, 'weekend': 11047, 'southeast': 9531, 'getaways': 4466, 'alabama': 639, 'leprechaun': 5993, 'wee': 11045, 'stillwater': 9731, 'weather': 11035, 'worry': 11271, 'rituals': 8634, 'lower': 6198, 'cholesterol': 2171, 'alternative': 711, 'scandalous': 8911, 'sissy': 9335, 'leblanc': 5955, 'saying': 8906, 'jackson': 5488, 'dk': 3206, 'jinx': 5560, 'gallows': 4360, 'dreamworld': 3329, 'options': 7335, 'cheesemakers': 2110, 'dump': 3387, 'uppity': 10714, 'cecily': 2008, 'ziegesar': 11373, 'objects': 7249, 'meats': 6537, 'whale': 11089, 'ragman': 8277, 'iacocca': 5185, 'kennedys': 5714, 'tickled': 10238, 'local': 6130, 'acquaintance': 519, 'exorcising': 3808, 'rid': 8590, 'explore': 3827, 'fortunate': 4212, 'slip': 9395, 'aspen': 978, 'catsitters': 1989, 'sumner': 9882, 'bloom': 1485, 'anarchy': 772, 'elegance': 3518, 'yale': 11327, 'chronology': 2200, 'minnow': 6701, 'sloppy': 9402, 'firsts': 4074, 'minimize': 6699, 'mortgage': 6855, 'possibility': 7941, 'inexperienced': 5315, 'ambitious': 735, 'peterson': 7687, 'greetings': 4635, '1991': 146, 'emotions': 3574, 'bypass': 1780, 'sahara': 8820, 'bliss': 1469, 'awaken': 1091, 'maui': 6491, 'hana': 4760, 'highway': 4974, 'vistors': 10897, 'celery': 2017, 'husbandry': 5167, 'strapless': 9774, 'worship': 11273, 'mario': 6411, 'salviati': 8845, 'bedspread': 1282, 'bathroom': 1235, 'thank': 10166, 'jackie': 5486, 'diabetes': 3065, 'pyramid': 8201, 'simply': 9308, 'geeks': 4411, 'idaho': 5200, 'joslin': 5595, 'lemonade': 5978, 'shell': 9193, 'timepiece': 10264, 'diabetic': 3066, 'barefoot': 1200, 'contessa': 2529, 'parties': 7526, 'haggard': 4736, 'quite': 8245, 'plums': 7855, 'starlite': 9681, 'motel': 6861, 'knocked': 5795, 'nunga': 7225, 'nungas': 7226, 'corrie': 2608, 'centenary': 2029, 'fairacre': 3879, 'wishsong': 11196, 'linen': 6085, 'timothy': 10267, 'purpose': 8189, 'divorced': 3200, 'widowed': 11127, 'couple': 2635, 'communications': 2423, 'crisis': 2709, 'skylark': 9370, 'release': 8439, 'sharpe': 9181, 'simeon': 9300, 'patients': 7567, 'claims': 2243, 'preteen': 8035, 'expectant': 3813, 'fashion': 3927, 'hippolyta': 4998, 'mattie': 6486, 'mold': 6771, 'crafting': 2670, 'hello': 4916, 'darling': 2861, 'traitor': 10409, 'hawaii': 4849, 'budget': 1704, 'trave': 10435, 'judias': 5620, 'buenoano': 1708, 'murderess': 6933, 'filthy': 4035, 'devine': 3058, 'strangeness': 9770, 'ingleside': 5333, 'funnies': 4324, 'album': 649, 'becca': 1274, 'shippen': 9211, 'benedict': 1331, 'grecian': 4617, 'turned': 10553, 'cannibals': 1867, 'tiffan': 10247, 'mess': 6617, 'persian': 7663, 'pickle': 7738, 'loses': 6168, 'error': 3688, 'dash': 2869, 'collections': 2350, 'raptured': 8316, 'employee': 3581, 'nixon': 7138, 'swamp': 9949, '95': 426, 'aldo': 656, 'applesauce': 878, 'touched': 10371, 'drinks': 3343, 'espressos': 3719, 'cappuccinos': 1887, 'lattes': 5907, 'mochas': 6759, 'piping': 7789, 'valleys': 10757, 'unicorns': 10658, 'oke': 7291, 'janette': 5508, 'acadia': 491, 'genuine': 4443, 'ozarks': 7431, 'alive': 677, 'idealism': 5202, 'loneliness': 6143, 'neurotica': 7069, 'flavor': 4115, 'peckover': 7599, 'joins': 5578, 'choir': 2168, 'journeyman': 5601, 'rust': 8784, 'belt': 1323, 'joining': 5577, 'christy': 2190, 'stitch': 9739, 'mansoul': 6375, 'bunyan': 1735, 'redeeming': 8389, 'crumbs': 2736, 'carmichael': 1916, 'basics': 1223, 'dakota': 2822, 'coop': 2568, 'concerning': 2458, 'limoges': 6080, 'begin': 1292, 'roadmap': 8646, 'movies': 6897, 'apostle': 870, 'claws': 2269, 'guards': 4683, 'winni': 11176, 'allfours': 686, 'foot': 4175, 'nifty': 7106, 'tempe': 10107, 'wick': 11120, 'testaments': 10152, '2vols': 211, 'wal': 10960, 'mart': 6431, 'mustache': 6948, 'commandments': 2409, 'villages': 10860, 'snoopy': 9433, 'wide': 11123, 'hattie': 4838, 'campbell': 1843, '1847': 97, 'seen': 9054, 'nikrova': 7120, 'evans': 3762, 'feud': 3999, 'hatfields': 4835, 'mccoys': 6516, 'simons': 9305, 'glasses': 4512, 'crossroad': 2728, 'postcard': 7945, 'embracing': 3559, 'theology': 10174, '700': 348, 'pleasing': 7845, '500': 286, 'junk': 5646, 'boots': 1554, 'swimathon': 9958, 'mathstart': 6479, 'fishermen': 4082, 'gym': 4720, 'chato': 2095, 'zora': 11391, 'hurston': 5163, 'chinaberry': 2156, 'bunyans': 1736, 'wants': 10984, 'credit': 2687, 'stepping': 9714, 'cracks': 2667, 'toad': 10288, 'giraffe': 4497, 'pelly': 7611, '365': 244, 'lyddie': 6225, 'jip': 5561, 'katarina': 5690, 'golfer': 4544, 'golfing': 4545, 'toronto': 10358, 'rough': 8731, 'pass': 7538, 'christa': 2180, 'mcauliffe': 6510, 'elves': 3549, 'preliminary': 8008, 'absalom': 475, 'corrected': 2602, 'wenny': 11071, 'chickabiddy': 2136, 'dutch': 3405, 'freewill': 4269, 'revere': 8548, 'raid': 8281, 'settlement': 9129, 'harold': 4811, 'kong': 5814, 'asia': 967, 'vistas': 10896, 'knots': 5799, 'gentlehands': 4440, 'spam': 9541, 'meat': 6536, 'lyon': 6231, 'misty': 6747, 'chincoteague': 2157, 'bridesmaids': 1654, '325': 224, 'asked': 972, 'shield': 9204, '1027': 16, 'senator': 9077, 'aristoi': 924, 'moonlit': 6820, '586': 308, '1269': 43, 'cinderella': 2220, '820': 381, 'dreammaker': 3323, '486': 281, 'ruminations': 8762, 'imagined': 5247, 'renegade': 8465, 'avenging': 1081, '358': 239, 'conquest': 2500, 'mackinnon': 6255, 'nam': 6983, 'barn': 1204, 'caboose': 1788, 'childrens': 2148, 'guts': 4715, 'castaway': 1960, 'schafer': 8932, 'plot': 7850, 'poopypants': 7911, '93': 421, 'wedgie': 11042, 'upchuck': 10710, 'rottenwilly': 8730, 'rotten': 8729, 'scouts': 8988, 'amuck': 762, 'heartland': 4879, 'dorset': 3262, 'reprints': 8481, 'jihad': 5555, 'duck': 3372, 'hollis': 5042, 'qi': 8206, 'nada': 6978, 'reino': 8424, 'oro': 7367, 'etrusca': 3747, 'candel': 1853, 'contra': 2537, 'relatos': 8437, 'bolivian': 1525, 'guevara': 4689, 'captured': 1892, 'patas': 7559, 'arriba': 943, 'escuela': 3702, 'reves': 8551, 'hyacinth': 5173, 'todo': 10299, 'visible': 10889, 'ultim': 10596, 'ancora': 779, 'cisnes': 2230, 'salvajes': 8844, 'meditacion': 6550, 'guã': 4718, 'ctica': 2745, 'peregrino': 7643, 'sigue': 9285, 'tus': 10558, 'suenos': 9853, 'jardin': 5518, 'interior': 5390, 'janã': 5513, 'literaria': 6105, 'cuida': 2757, 'ti': 10233, 'misma': 6727, 'cuidas': 2758, 'demas': 2980, 'buena': 1705, 'suerte': 9854, 'claves': 2268, 'prosperidad': 8125, 'traves': 10442, 'dejame': 2959, 'cuenteâ': 2755, 'negro': 7043, 'marcas': 6389, 'milenium': 6674, 'duden': 3376, 'pictorial': 7741, 'limpieza': 6081, 'benditas': 1329, 'viudas': 10904, 'negros': 7044, 'lapida': 5892, 'templaria': 10111, 'luces': 6203, 'esperpento': 3714, 'austral': 1052, '1307': 48, 'pais': 7450, 'inventado': 5422, 'foucault': 4218, 'reprobos': 8482, 'romancero': 8686, 'gitano': 4503, 'poema': 7867, 'cante': 1872, 'jondo': 5587, 'selecciones': 9065, 'poesã': 7869, 'antologã': 854, 'disparate': 3176, 'bula': 1718, 'colmena': 2360, 'fundaciã³n': 4320, 'ritos': 8631, 'carry': 1934, 'jeeves': 5532, 'abundancia': 483, 'travã': 10443, 'reiki': 8421, 'suelo': 9851, 'cabeza': 1785, 'estrelas': 3733, 'siete': 9276, 'leyes': 6022, 'espirituales': 3717, 'exito': 3806, 'paula': 7576, 'ave': 1078, 'nix': 7137, 'eneagrama': 3609, 'completo': 2443, 'matematica': 6472, 'buscã³n': 1759, 'sicos': 9266, 'dieta': 3102, 'estar': 3729, 'zona': 11384, 'contacto': 2518, 'tratado': 10430, 'maneras': 6352, 'ensenar': 3641, 'espiritus': 3718, 'masterworks': 6465, 'magia': 6279, 'comunicaciã³n': 2454, 'entrenador': 3652, 'juegos': 5625, 'peor': 7633, 'cada': 1791, 'fluir': 4141, 'felicidad': 3970, 'arte': 948, 'amargarse': 724, 'seres': 9109, 'imaginarios': 5243, 'narradores': 6997, 'hoy': 5126, 'practica': 7983, 'cuando': 2749, 'calzado': 1830, 'comodo': 2428, 'olvidas': 7300, 'aprendo': 886, 'decir': 2932, 'eq': 3665, 'quã': 8255, 'inteligencia': 5379, 'emocional': 3571, 'senores': 9085, 'cielo': 2214, 'recupera': 8386, 'autoestima': 1067, 'restore': 8516, 'piramide': 7791, 'acabaremos': 488, 'entendiendo': 3644, 'aprende': 885, 'fotografia': 4217, 'meditaciones': 6551, 'sanar': 8853, 'valle': 10755, 'ayãºdate': 1106, 'actitud': 526, 'positiva': 7933, 'hacia': 4730, 'mujeres': 6919, 'documento': 3210, 'rueda': 8752, 'estoy': 3732, 'bien': 1375, 'estas': 3730, 'muchas': 6910, 'vidas': 10839, 'muchos': 6911, 'introduccion': 5409, 'antropologia': 858, 'egipto': 3491, 'zonas': 11385, 'erroneas': 3686, 'acampar': 492, 'practico': 7987, 'miedo': 6664, 'libertad': 6031, 'antes': 842, 'fisica': 4087, 'inmortalidad': 5343, 'montaã': 6801, 'ismo': 5468, 'ctico': 2746, 'buho': 1713, 'viajero': 10829, 'serie': 9112, 'aire': 625, 'amar': 722, 'amores': 755, 'maligna': 6330, 'beltenebros': 1324, 'azteca': 1110, 'eres': 3675, 'dices': 3083, 'manuscrito': 6380, 'carmesi': 1915, 'astronomo': 998, 'aficionado': 583, 'amate': 725, 'mismo': 6728, 'cambiaras': 1831, 'trabajo': 10394, '141': 57, 'triã': 10494, 'ngulo': 7087, 'afectividad': 567, 'femenina': 3978, 'michele': 6649, 'misterios': 6741, 'descubierto': 3017, 'antidieta': 849, 'hijos': 4977, 'sira': 9328, 'lã³pez': 6239, 'espejo': 3711, 'madres': 6271, 'filomeno': 4034, 'pesar': 7678, 'amistades': 749, 'peligrosas': 7610, 'respeto': 8504, 'invierno': 5435, 'lisboa': 6095, 'gratitud': 4604, 'orillas': 7363, 'rio': 8615, 'sente': 9091, 'llore': 6125, 'wisteria': 11198, 'philosophers': 7710, 'shown': 9244, 'merely': 6607, 'preamble': 8000, 'shrewsbury': 9245, 'stonehenge': 9743, 'holland': 5040, 'suggestions': 9860, 'spellcoats': 9566, 'dalemark': 2825, 'drowned': 3353, 'ammet': 750, 'cart': 1938, 'cwidder': 2794, 'remake': 8449, 'caravaggio': 1896, 'kingsford': 5756, 'highlands': 4971, 'erskine': 3690, 'powell': 7973, 'dragonstar': 3305, 'merro': 6613, 'darkangel': 2854, 'gathering': 4399, 'chymical': 2206, 'necromancer': 7030, 'lengthen': 5981, 'tone': 10333, 'makeover': 6316, 'subterraneans': 9833, 'salome': 8840, 'durable': 3402, 'goods': 4552, 'mystical': 6963, 'confronting': 2482, 'chapter': 2077, 'cakewalk': 1807, 'punishments': 8177, 'nowle': 7206, 'strut': 9804, 'drowning': 3354, 'denied': 2997, 'thompson': 10198, 'longest': 6148, 'held': 4910, 'empress': 3582, 'bigamist': 1379, 'enlightened': 3633, 'liked': 6068, 'restrooms': 8519, 'strangest': 9773, 'rumored': 8763, 'guest': 4687, 'exiting': 3805, 'nirvana': 7134, 'autism': 1064, 'priory': 8068, 'decay': 2924, 'brothel': 1683, 'scholarship': 8954, 'taliban': 10016, 'paris': 7515, 'earthly': 3434, 'delights': 2967, 'rediscovery': 8394, 'whore': 11116, 'form': 4203, 'pull': 8170, 'sty': 9824, 'republic': 8486, 'cliffs': 2283, 'tin': 10268, 'pga': 7696, 'elven': 3547, 'pigeons': 7760, 'larrys': 5898, 'cloning': 2299, 'eric': 3677, 'penal': 7615, 'colony': 2365, '60s': 319, 'waving': 11026, 'heather': 4885, '60p': 318, 'pariah': 7514, 'akã': 637, 'lynchers': 6229, 'broca': 1676, 'jakob': 5500, 'gunten': 4707, 'bulwer': 1726, 'lytton': 6236, 'contest': 2530, 'homage': 5052, 'diderot': 3094, '1988': 143, 'candidate': 1856, 'forgetting': 4197, 'saddam': 8808, 'liberating': 6028, 'facing': 3864, 'painful': 7444, 'clown': 2311, 'grizzly': 4655, 'corruption': 2609, 'reagan': 8347, 'mercies': 6603, 'karma': 5684, 'ngengrad': 7084, 'trinity': 10482, '805': 376, 'roderick': 8672, '926': 419, '984': 441, 'virtues': 10884, 'dominoes': 3240, '22282': 175, '3193': 221, 'capricorn': 1888, 'bound': 1577, '281': 199, 'rugged': 8755, 'ruthless': 8787, '689': 341, 'vow': 10934, '885': 406, 'honeyed': 5081, '209': 163, '1089': 24, 'wolfe': 11223, '382': 251, '682': 339, '915': 414, 'hartwell': 4823, 'chests': 2127, '872': 401, '438': 268, '903': 410, 'nanotech': 6990, 'finally': 4039, '841': 389, '989': 446, 'bandit': 1175, 'pack': 7433, '728': 355, 'swap': 9952, '868': 398, 'instant': 5373, 'deveraux': 3054, '949': 425, 'harsh': 4819, '874': 402, '520': 292, '852': 393, '524': 294, 'ms': 6907, '863': 396, 'frisco': 4292, 'fiancee': 4006, 'dozen': 3287, '977': 439, 'inherited': 5338, '976': 438, 'hurricane': 5161, '695': 344, 'tanya': 10040, 'rent': 8470, '867': 397, 'diagnosis': 3069, '596': 312, '973': 437, 'commander': 2405, 'uniform': 10659, '954': 428, 'fortunes': 4214, 'netherhells': 7064, 'manhunting': 6359, '681': 338, 'crannach': 2676, '3093': 216, 'lon': 6140, '1511': 67, '968': 434, 'jackpot': 5487, '953': 427, 'lockharts': 6135, '870': 400, 'ranger': 8308, '986': 443, '840': 388, '985': 442, '387': 252, '916': 415, '366': 246, '956': 429, 'decree': 2939, '401': 258, '443': 270, 'camerons': 1836, '687': 340, 'confusion': 2485, '936': 424, 'stranded': 9767, 'hideaway': 4963, '932': 422, 'blacksheep': 1433, 'billion': 1390, 'braddocks': 1598, '919': 417, 'lif': 6053, '242': 183, 'flamingo': 4101, 'vengeance': 10789, '264': 193, '674': 337, '643': 329, 'switched': 9967, '1143': 29, '480': 278, 'billionaire': 1391, 'matched': 6469, 'gemstone': 4423, '391': 254, '1493': 64, 'accent': 494, '420': 266, '449': 271, 'whilton': 11098, 'mob': 6758, 'enigma': 3628, 'valiant': 10751, 'sutherland': 9943, '411': 263, 'gambling': 4363, 'superomance': 9905, '407': 261, '784': 369, '1692': 78, 'reasons': 8358, '1122': 28, 'bandera': 1174, 'confession': 2474, 'conveniently': 2551, '918': 416, 'texan': 10159, '615': 321, 'corsican': 2611, '1637': 74, '205': 161, 'darth': 2864, 'maul': 6492, 'promises': 8106, '506': 288, 'lyonsbridge': 6233, '529': 296, 'stud': 9808, 'temptations': 10118, '357': 238, 'humble': 5144, '354': 237, '1302': 47, '300': 213, 'wrapped': 11286, '657': 333, '880': 404, 'heartfire': 4878, 'joker': 5580, '344': 233, '379': 248, 'lured': 6220, '412': 264, 'blushing': 1501, '521': 293, '74': 358, 'pledge': 7848, '326': 225, 'buffalo': 1709, 'mccloud': 6515, '16567': 75, '1865': 101, '2148': 167, 'temperatures': 10109, 'ris': 8621, '336': 228, '717': 353, '353': 236, '222': 174, '221': 173, 'fleet': 4116, '1055': 22, 'mistletoe': 6742, '272': 196, 'benjy': 1333, '735': 357, 'candlelight': 1859, '427': 267, 'spaces': 9538, '536': 298, 'restless': 8514, '3207': 223, 'tilt': 10257, '773': 367, 'splintered': 9603, 'glove': 4524, 'madne': 6269, '638': 327, 'sheriff': 9200, 'exclusively': 3790, '1162': 30, '211': 166, '405': 259, 'raine': 8286, '693': 343, '774': 368, 'silhoette': 9290, '1368': 50, 'doorstep': 3255, '752': 361, '659': 334, '3510': 235, 'roarke': 8652, 'ciara': 2209, 'lovestruck': 6192, 'crimson': 2708, 'initmate': 5340, 'intriguing': 5407, '491': 283, 'harlequinn': 4806, 'bounds': 1578, '118': 33, 'wrapt': 11287, 'vectors': 10775, 'helix': 4912, 'blossom': 1487, 'drenai': 3332, 'chickadee': 2137, 'unbreakable': 10618, '904': 411, 'magics': 6288, 'swordhunt': 9973, 'rihannsu': 8606, '1794': 90, 'standoff': 9663, '707': 351, 'restoration': 8515, 'excalibur': 3785, 'sabrehill': 8800, '582': 307, '554': 302, 'nighti': 7114, '559': 303, '334': 227, '342': 232, '9898': 447, '581': 306, 'cassandra': 1957, 'pinnacle': 7783, '8870': 407, '194': 124, '359': 240, '274': 197, 'bowdrie': 1587, '456': 276, '609': 317, 'poem': 7866, 'penelope': 7621, 'alla': 678, 'dottor': 3265, 'niu': 7136, 'nomad': 7150, 'eberhardt': 3446, 'virago': 10877, 'beacon': 1252, 'wishbone': 11194, '07': 6, 'novelization': 7200, 'passport': 7548, 'thoth': 10205, 'shamans': 9163, 'occult': 7263, 'telling': 10101, 'balls': 1167, 'apropos': 888, 'hw': 5172, 'overture': 7415, 'seventeenth': 9133, 'adolf': 547, 'midway': 6660, 'navy': 7017, 'lando': 5878, 'calrissian': 1827, 'flamewind': 4099, 'oseon': 7373, 'vicar': 10830, 'horary': 5094, 'electional': 3514, 'vi': 10824, '1001': 9, 'checkmate': 2104, 'rhialto': 8570, 'marvellous': 6439, 'devotions': 3060, 'hindu': 4994, 'kush': 5850, 'reports': 8479, 'brains': 1608, '1998': 150, 'standard': 9660, 'postage': 7944, 'stamp': 9657, 'catalogue': 1967, 'affiliated': 572, 'territories': 10141, 'nations': 7009, '154th': 69, 'commanders': 2406, 'afro': 591, 'rebels': 8363, 'devils': 3057, 'revisions': 8555, 'moontide': 6826, 'cyteen': 2806, 'lovecraft': 6184, 'zombie': 11382, 'dimensioneers': 3121, 'fours': 4230, 'roswell': 8726, 'milligan': 6682, 'chakra': 2051, 'kundalini': 5845, 'rejuvenation': 8432, 'powers': 7977, 'realization': 8351, 'puckoon': 8161, 'spike': 9584, 'instincts': 5375, 'methuen': 6638, 'edtion': 3473, 'rache': 8264, 'kennt': 5716, 'kein': 5705, 'gebot': 4410, 'opernball': 7327, 'gute': 4713, 'mensch': 6590, 'sezuan': 9144, 'doosie': 3256, 'tanzt': 10041, 'bligh': 1462, 'classes': 2260, 'englischsprachige': 3623, 'ausgabe': 1045, 'guardians': 4681, 'suhrkamp': 9861, 'warten': 11001, 'endlich': 3605, 'wunschgewicht': 11307, 'einfache': 3505, 'gewichtsproblemen': 4471, 'schluã': 8948, 'machen': 6247, 'markert': 6414, 'diã': 3204, 'jo': 5564, 'effekt': 3487, 'kerzenlicht': 5725, 'leiche': 5974, 'markbys': 6413, 'achter': 515, 'adultera': 553, 'sarabande': 8878, 'blindem': 1464, 'zorn': 11392, 'umsausgabe': 10605, 'schatulle': 8937, 'anhalter': 806, 'galaxis': 4354, 'â¼ne': 11418, 'tomaten': 10321, 'dawson': 2887, 'faceless': 3863, 'details': 3042, 'shutterbug': 9254, 'follies': 4162, 'nuts': 7235, 'airlines': 627, 'recipe': 8375, 'arcanum': 902, 'cartographic': 1940, 'coquette': 2582, 'aurora': 1042, 'leigh': 5975, 'optimism': 7333, 'abounding': 467, 'punishment': 8176, 'destruction': 3041, 'indies': 5305, 'chuang': 2202, 'arkana': 928, 'semi': 9076, 'pseudo': 8143, 'stanislavski': 9666, 'digested': 3110, 'konstantin': 5816, 'carnage': 1918, 'ravenloft': 8328, 'soth': 9514, 'unquiet': 10682, 'cutting': 2791, 'overcoming': 7408, 'mutilation': 6952, 'distress': 3185, 'manic': 6362, 'maintaining': 6307, 'stability': 9638, 'harbinger': 4795, 'workbooks': 11257, 'sonnets': 9493, 'portuguese': 7932, 'torrents': 10360, 'moveable': 6887, 'obsidian': 7261, 'cartoon': 1941, 'statistics': 9698, 'stains': 9646, 'darksong': 2858, 'spellsong': 9569, 'soprano': 9504, 'id': 5198, 'brainstorm': 1609, 'boosters': 1552, 'bitch': 1414, 'claiming': 2242, 'clever': 2279, 'professo': 8090, 'teodora': 10130, 'morelli': 6835, 'profane': 8088, 'sickness': 9265, 'airport': 628, 'chthon': 2201, 'devices': 3055, 'desires': 3029, 'quiver': 8246, 'creatures': 2686, 'robbery': 8654, 'amorous': 756, 'perry': 7661, 'vanity': 10769, 'ghatti': 4474, 'bizarre': 1422, 'perdition': 7640, 'tristan': 10487, 'isolde': 5470, 'bark': 1202, 'jukebox': 5628, 'malta': 6334, 'sushi': 9938, 'keyes': 5727, 'marian': 6400, 'madeline': 6266, 'edible': 3466, 'mephistopheles': 6598, 'spotlight': 9614, 'tasty': 10061, 'snap': 9428, 'certain': 2041, 'cacciato': 1789, 'wroe': 11300, 'virgins': 10881, 'greater': 4614, 'apprenticeship': 883, 'duddy': 3374, 'kravitz': 5831, 'amistad': 748, 'tomcat': 10326, 'downhill': 3280, 'kits': 5776, 'oxygen': 7427, 'hyena': 5175, 'belly': 1318, 'ethiopian': 3743, 'vinyl': 10870, 'cezanne': 2047, 'barebones': 1199, 'canoe': 1868, 'motherless': 6867, 'camel': 1834, 'herb': 4934, 'lorna': 6164, 'tolls': 10315, 'palm': 7465, 'foolish': 4172, 'minik': 6697, 'eskimo': 3703, 'chorus': 2175, 'mushrooms': 6942, 'nunatak': 7224, 'pepys': 7636, 'clapping': 2251, 'generica': 4433, 'raintree': 8289, 'provincial': 8136, 'baroque': 1210, 'burying': 1756, 'ariel': 922, 'islamic': 5463, 'chrome': 2191, 'suite': 9866, 'regeneration': 8415, 'injuries': 5341, 'kabul': 5662, 'tesseract': 10147, 'ninth': 7133, 'scarf': 8919, 'boise': 1520, 'jefferson': 5533, 'na': 6971, 'wahine': 10950, 'hawaiin': 4851, 'quotes': 8253, 'doyle': 3286, 'founders': 4224, 'courtroom': 2644, 'dunn': 3400, 'conundrum': 2547, 'symmetries': 9979, 'snows': 9436, 'kilimanjaro': 5735, 'papa': 7481, 'toot': 10348, 'scoot': 8979, 'undead': 10630, 'unwed': 10706, 'wahiawa': 10949, 'requiem': 8488, 'frisby': 4291, 'nimh': 7124, 'kingdoms': 5753, 'catechist': 1974, 'animating': 813, 'w3': 10944, 'tex': 10158, 'afterlife': 593, 'leonard': 5989, 'maltin': 6336, 'whoo': 11115, 'lead': 5932, 'garrett': 4390, 'pawing': 7580, 'murphy': 6938, 'magnificat': 6291, 'milieu': 6676, 'cosbyology': 2613, 'forrester': 4208, 'quilters': 8240, 'firehouse': 4066, '56': 304, 'moominpappa': 6814, 'pardon': 7506, 'youre': 11351, 'eyeball': 3851, 'snake': 9426, 'scumble': 9010, 'ken': 5712, 'catfantastic': 1978, 'angie': 800, 'amalfi': 720, 'monticello': 6808, 'orleans': 7366, 'valente': 10747, 'concubine': 2464, 'kindred': 5750, 'aikau': 620, 'hawaiian': 4850, 'pioneer': 7785, 'surfing': 9921, 'wardrobe': 10987, 'pied': 7748, 'piper': 7788, 'panther': 7477, 'financially': 4043, 'secure': 9039, 'depeche': 3003, 'mode': 6761, 'concordance': 2462, 'twentynine': 10566, 'marines': 6410, 'mojave': 6770, 'dollmaker': 3231, 'eudora': 3750, 'welty': 11070, 'elephantasm': 3524, 'gadget': 4346, 'cabin': 1786, 'brat': 1615, 'observatory': 7255, 'generals': 4430, 'dawgs': 2884, 'amuse': 763, 'fur': 4326, 'mikwright': 6671, 'hilarious': 4982, 'built': 1717, 'blanche': 1443, 'passes': 7542, 'compulsive': 2448, 'disorder': 3174, 'witty': 11212, 'wiener': 11132, 'halloween': 4749, 'titled': 10284, 'disguise': 3169, 'rolls': 8683, 'eentsy': 3481, 'weentsy': 11050, 'fingerplays': 4052, 'rhymes': 8574, 'frindle': 4288, 'nestleton': 7061, 'person': 7665, 'comics': 2401, '001': 2, 'personality': 7667, 'creepy': 2690, 'susie': 9939, 'troubled': 10504, 'cheaper': 2100, 'lexicon': 6019, 'foodlore': 4168, 'customs': 2789, 'wade': 10946, 'minimalist': 6698, 'fewer': 4003, 'ingredients': 5335, 'luscious': 6221, '175': 82, 'scandinavian': 8913, 'feasts': 3952, 'crepe': 2692, 'furious': 4327, 'wok': 11221, 'stir': 9738, 'fry': 4307, 'bread': 1622, 'tomato': 10322, 'garlic': 4386, 'ubiquitous': 10585, 'shrimp': 9246, 'snacks': 9424, 'savor': 8900, 'seafood': 9016, 'unplugged': 10680, 'joys': 5609, 'bakery': 1153, 'butter': 1772, 'packed': 7435, 'holds': 5033, 'barred': 1211, 'philadelphia': 7703, 'palate': 7457, 'dinners': 3129, 'fiesta': 4021, 'hospitality': 5107, 'terrific': 10140, 'trash': 10428, 'jargon': 5519, 'gallery': 4358, 'hardback': 4798, 'oahu': 7239, 'migraine': 6668, 'companions': 2432, 'triumphant': 10490, 'athletes': 1003, 'breakers': 1625, 'picking': 7737, 'disabled': 3146, 'spin': 9586, 'confrontations': 2481, 'enriching': 3639, 'iliad': 5224, 'attention': 1017, 'span': 9542, 'pear': 7595, 'whoreson': 11117, 'ghetto': 4475, 'pimp': 7775, 'cannery': 1865, 'antoinette': 852, 'austria': 1057, '1769': 86, '57': 305, 'singin': 9315, 'swingin': 9963, 'hail': 4739, 'gump': 4703, 'burma': 1747, 'shan': 9167, 'babycakes': 1120, 'cd': 2006, 'shel': 9191, 'silverstein': 9299, 'constable': 2511, 'evan': 3758, 'auntie': 1039, 'mayhem': 6505, 'slippery': 9398, 'slope': 9401, 'stamberg': 9656, 'considers': 2508, 'tear': 10077, 'moomintroll': 6815, 'cracker': 2664, 'swordboat': 9972, 'kowloon': 5829, 'tong': 10336, 'sadly': 8811, 'torpedo': 10359, 'zachariah': 11359, 'blu': 1492, 'codes': 2326, 'girlhoods': 4501, 'suckas': 9845, 'boondocks': 1550, 'sling': 9394, 'outdoors': 7385, 'reweaving': 8564, 'ecofeminism': 3452, 'gynecology': 4721, 'metaethics': 6624, 'radical': 8270, 'temperature': 10108, 'colorblind': 2369, 'intimacy': 5402, 'morrison': 6849, 'smartest': 9413, 'dolittles': 3224, 'esau': 3694, 'schoolchild': 8958, 'checkered': 2103, 'seal': 9018, 'folks': 4160, 'commonly': 2419, 'awe': 1099, 'colore': 2370, 'schoolhouse': 8959, 'flaps': 4107, 'unbelievably': 10615, 'deals': 2911, 'absoultely': 480, 'handprints': 4771, 'propeller': 8113, 'coach': 2317, 'burger': 1741, 'wuss': 11308, 'miguel': 6669, 'cervantes': 2044, 'conscious': 2503, 'adornment': 550, 'accessories': 498, 'scuffy': 9007, 'tugboat': 10539, 'dolly': 3233, 'honolulu': 5086, 'homicide': 5071, 'obake': 7245, 'bloodchild': 1476, 'foxfire': 4235, 'unique': 10661, 'ceremony': 2039, 'petal': 7681, 'poops': 7910, 'eragon': 3670, 'intersecting': 5398, 'hapa': 4785, 'ridge': 8597, '76': 364, 'jumanji': 5635, 'potters': 7964, 'pussy': 8195, 'kitty': 5777, 'bath': 1233, 'harvard': 4825, 'herriot': 4948, 'vet': 10819, 'bobos': 1508, 'bargain': 1201, 'mandela': 6349, 'baghdad': 1146, 'correspondent': 2607, 'garrels': 4389, 'prisoners': 8071, 'captivity': 1890, 'typee': 10577, 'acclaim': 502, 'hurt': 5164, 'frustration': 4306, 'quicksand': 8233, 'gypsies': 4722, 'spirited': 9592, 'progressives': 8097, 'oswald': 7374, 'landers': 5875, 'burg': 1740, 'chicka': 2135, 'wilder': 11138, 'diner': 3123, 'courageous': 2638, 'biker': 1384, 'advocacy': 563, 'fact': 3865, 'raccoon': 8262, 'comet': 2395, 'moominland': 6813, 'outrageously': 7398, 'songwords': 9489, 'fantasia': 3910, 'heffalump': 4897, 'snails': 9425, 'measurement': 6534, 'headed': 4862, 'gooseberry': 4556, 'alligator': 689, 'sticker': 9724, 'palabras': 7454, 'nuevas': 7217, 'dinofours': 3131, 'batty': 1245, 'bats': 1237, 'pumpkin': 8172, 'folktale': 4161, 'trick': 10474, 'treat': 10451, 'henson': 4929, 'muppets': 6929, 'grover': 4669, 'busiest': 1762, 'firefighters': 4063, 'slam': 9375, 'alloy': 692, 'confidential': 2478, 'postmodern': 7952, 'warhol': 10988, 'postmen': 7951, 'truck': 10511, 'rehearsal': 8418, 'pupus': 8183, 'fattest': 3939, 'hitchhiking': 5016, 'borrowed': 1562, 'aids': 619, 'nonpareil': 7156, 'counting': 2630, 'toddlers': 10297, 'jp': 5610, '067': 5, 'keia': 5704, 'hawai': 4848, 'mahu': 6297, 'transgender': 10418, 'communities': 2425, 'concise': 2460, 'given': 4504, 'dressler': 3336, 'dreamer': 3319, 'colored': 2371, 'considered': 2506, 'suicide': 9862, 'enuf': 3655, 'jennifer': 5538, 'mckinley': 6521, 'educator': 3478, 'workout': 11261, 'neighborhood': 7046, 'drugs': 3357, 'bronx': 1679, 'stunt': 9816, 'committed': 2416, 'cottage': 2620, 'joye': 5607, 'jobs': 5570, 'wong': 11240, 'pagoda': 7442, 'workplace': 11263, 'jaguars': 5493, 'ripped': 8617, 'risky': 8626, 'aloha': 697, 'skip': 9364, 'langdon': 5885, 'kelling': 5707, 'bittersohn': 1420, 'proving': 8137, 'katapult': 5689, 'katwalk': 5695, 'y2k': 11325, 'memphis': 6581, 'belladonna': 1314, 'rubik': 8745, 'framing': 4241, 'daydreams': 2894, 'mermaids': 6611, 'singing': 9316, 'breaker': 1624, 'honky': 5085, 'tonk': 10342, 'shoulder': 9239, 'benjamin': 1332, 'january': 5512, 'hide': 4962, 'seek': 9049, 'walks': 10967, 'dixie': 3202, 'inventor': 5425, 'wartime': 11002, 'tubby': 10530, 'dubonnet': 3370, 'slackjaw': 9374, 'dublin': 3369, 'exclusive': 3789, 'freeing': 4267, 'rubin': 8746, 'carter': 1939, 'moor': 6827, 'russell': 8780, 'slider': 9391, 'asthma': 993, 'celebrated': 2012, 'introduce': 5410, 'collier': 2356, 'frankie': 4254, 'yard': 11329, 'animosity': 816, 'frost': 4299, 'bootlegger': 1553, 'jumps': 5637, 'aurelio': 1041, 'privacy': 8072, 'francis': 4246, 'cuddy': 2754, 'shallow': 9160, 'shenandoah': 9197, '1024': 14, 'inconvenience': 5289, 'maple': 6384, '1033': 18, 'taggarts': 9997, '933': 423, 'labors': 5856, 'hercules': 4937, 'sideshow': 9271, 'forests': 4190, 'specters': 9558, 'investigates': 5428, 'fuzzy': 4337, 'alternate': 710, 'epona': 3664, 'solar': 9456, 'lasertown': 5900, 'tied': 10242, 'tinsel': 10271, '1850': 100, 'dynamic': 3413, 'doxy': 3285, 'nero': 7055, 'chocoholic': 2163, 'zits': 11377, 'unzipped': 10707, 'sketchbook': 9356, 'yesh': 11340, 'mutts': 6955, 'bounce': 1576, 'ngapuhi': 7083, 'whakapapa': 11088, 'police': 7889, 'spinsters': 9590, 'shtuff': 9251, 'ambulance': 736, 'emt': 3584, 'adler': 541, 'hander': 4767, 'fender': 3984, 'benders': 1327, 'rivera': 8637, 'false': 3895, 'beat': 1263, 'died': 3097, 'wool': 11249, 'neglect': 7039, 'tenderness': 10122, 'groovitude': 4662, 'truelove': 10515, 'homegrown': 5058, 'whiskey': 11101, 'descent': 3015, 'budding': 1703, 'prospects': 8124, 'dinkum': 3127, 'aussies': 1049, 'kiwis': 5778, 'boris': 1560, 'shaggy': 9156, 'potiki': 7957, 'talanoa': 10011, 'ppr': 7981, 'nz': 7238, 'hypnotism': 5181, 'hardcvoer': 4800, 'appreciation': 881, 'nellie': 7050, 'tokens': 10307, 'nonrequired': 7157, 'ginmill': 4492, 'closes': 2303, 'matthew': 6485, 'scudder': 9006, 'wreck': 11290, 'nun': 7223, 'rashomon': 8319, 'alleyn': 685, 'footman': 4177, 'promiscuity': 8103, 'boyfriend': 1595, 'heavy': 4890, 'rump': 8765, 'stern': 9719, 'answering': 836, 'sacajawea': 8803, 'everville': 3771, 'rider': 8594, 'doubtful': 3269, 'langslow': 5888, 'lanslow': 5891, 'hammerhead': 4758, 'fluke': 4142, 'winged': 11171, 'sings': 9319, 'cereal': 2036, 'rico': 8589, 'vanishes': 10766, 'wrench': 11291, 'solitaire': 9463, 'oracles': 7337, 'tangi': 10032, 'blowfish': 1488, 'covert': 2653, 'operations': 7326, 'luncheon': 6217, 'moose': 6829, 'mackintosh': 6256, 'qwilleran': 8256, 'quaker': 8208, 'indictment': 5303, 'elliot': 3539, 'detection': 3043, 'highwayman': 4975, 'treading': 10446, 'grits': 4654, 'peer': 7605, 'trifles': 10477, 'enter': 3645, 'murderer': 6932, 'oranges': 7341, 'thickens': 10180, 'villains': 10861, 'chicks': 2139, 'fearlessly': 3949, 'inappropriate': 5275, 'fabulously': 3861, 'eccentric': 3447, 'puddle': 8164, 'fred': 4263, 'overheard': 7409, 'bookstore': 1548, 'stout': 9763, 'swell': 9957, 'foop': 4174, 'junkie': 5647, 'burroughs': 1754, 'businesses': 1764, 'catering': 1976, 'parsley': 7523, 'sage': 8818, 'rosemary': 8718, 'maus': 6495, 'troubles': 10505, 'laveau': 5916, 'ripley': 8616, 'bogle': 1516, 'tamarind': 10025, 'mitch': 6749, 'bulls': 1722, 'unrequited': 10685, 'burglar': 1742, 'bogart': 1515, 'bernie': 1349, 'rhodenbarr': 8572, 'bleeds': 1455, 'vlad': 10910, 'galilee': 4356, 'bloodsucking': 1483, 'fiends': 4018, 'demonkeeping': 2989, 'kurt': 5848, 'diemberger': 3098, 'summits': 9878, 'junky': 5648, 'collecting': 2348, 'rutledge': 8789, 'sunk': 9888, 'bessie': 1355, 'molise': 6774, 'letterman': 6008, 'mouth': 6886, 'walled': 10969, 'englishman': 3625, 'toyotomi': 10390, 'blades': 1438, 'tokyo': 10308, 'pond': 7903, 'novelist': 7199, '613': 320, 'caitlin': 1804, 'bluff': 1499, 'berryman': 1350, 'topaz': 10350, 'sticks': 9725, 'scones': 8978, 'camille': 1838, 'brings': 1671, 'forgiving': 4200, 'tongues': 10339, 'channeling': 2074, 'zippy': 11376, 'mooreland': 6828, 'indiana': 5302, 'hayfever': 4856, 'permanently': 7657, 'thorsons': 10204, 'otto': 7379, 'finds': 4048, 'paperboy': 7486, 'couples': 2636, 'overachieving': 7405, 'necessary': 7026, 'robots': 8663, 'chambermaid': 2057, 'soviet': 9534, 'belief': 1309, 'peder': 7601, 'pioneers': 7786, 'deadlock': 2905, 'sandwich': 8863, 'bowlies': 1589, 'boychiks': 1594, 'hasidic': 4828, 'sleeper': 9384, 'awakes': 1094, 'kentucky': 5718, 'spinning': 9589, 'aspirin': 979, 'headache': 4861, 'pixel': 7800, 'gryphon': 4677, 'rediscovered': 8392, 'riftwar': 8602, 'bleeding': 1454, 'enchanters': 3588, 'bits': 1416, 'fumblerules': 4317, 'lighthearted': 6060, 'belgarath': 1306, 'francisco': 4247, 'cadaveres': 1792, 'exquisitos': 3837, 'heroics': 4945, 'swing': 9962, 'duets': 3379, 'tenor': 10126, 'saz': 8908, 'unexpurgated': 10647, 'anais': 768, 'nin': 7126, '1931': 119, '1932': 120, 'flat': 4112, 'junction': 5638, 'lizbeth': 6120, 'ginger': 4490, 'burl': 1745, 'obituary': 7246, 'spite': 9598, 'shards': 9176, 'serpentwar': 9116, 'mccaffrey': 6512, '1824': 93, 'recollections': 8379, 'lips': 6093, 'seinlanguage': 9061, 'fig': 4025, 'eater': 3443, 'firebird': 4060, 'hara': 4794, 'cows': 2660, 'strip': 9796, 'tease': 10079, 'jade': 5491, 'nonfiction': 7155, 'maryland': 6445, 'bookshelf': 1546, 'allegations': 680, 'duty': 3406, 'clone': 2297, 'homebrew': 5056, 'beers': 1288, 'sportswriter': 9612, 'propaganda': 8112, 'distorts': 3183, 'skywriting': 9372, 'yoko': 11345, 'ro': 8644, 'daydreamer': 2893, 'wealthy': 11031, 'barber': 1192, 'commonsense': 2421, 'picturing': 7744, 'imperial': 5259, 'drove': 3351, 'stopping': 9748, 'separation': 9097, 'spanking': 9545, 'blown': 1489, 'resume': 8520, 'greenhouse': 4627, 'nurses': 7228, 'matchmaker': 6470, 'rattlesnake': 8323, 'chef': 2113, 'snarvey': 9431, 'gooper': 4554, 'raggedy': 8275, 'potion': 7958, 'motown': 6875, 'catalunya': 1968, 'costa': 2619, 'brava': 1616, 'circling': 2225, 'drain': 3306, 'eggleton': 3489, 'spence': 9570, 'lila': 6069, 'twain': 10563, 'ignorance': 5215, 'vanishing': 10767, 'shakespearean': 9158, 'oval': 7404, 'kaplan': 5675, '1996': 148, 'gorgeous': 4559, 'angelica': 797, 'broke': 1677, 'bankruptcies': 1182, '7th': 373, 'simisola': 9302, 'forming': 4206, 'enjoying': 3632, 'stimulating': 9733, 'resplendent': 8505, 'victorians': 10835, 'gardener': 4379, 'sow': 9535, 'afield': 584, 'platte': 7831, 'canteen': 1873, 'sein': 9059, 'transit': 10419, 'subway': 9837, 'workers': 11259, 'macgowen': 6244, 'alligators': 690, 'andau': 782, 'hacienda': 4731, 'gracious': 4578, 'plenty': 7849, 'stick': 9723, 'waterfall': 11017, 'furniture': 4328, 'grew': 4638, 'vagina': 10743, 'monologues': 6793, 'trout': 10508, 'bobby': 1507, 'dollanganger': 3226, 'baedeker': 1140, 'scriptwriter': 9003, 'harness': 4810, 'instinct': 5374, 'assassination': 982, 'jesse': 5543, 'gypsy': 4723, 'impressionist': 5268, 'borrower': 1563, 'franco': 4248, 'sade': 8810, 'valet': 10749, 'winker': 11173, 'organize': 7354, 'feed': 3961, 'elegy': 3520, 'feline': 3972, 'celebrate': 2011, 'beaumont': 1269, 'perfidia': 7649, 'workshops': 11265, 'considering': 2507, 'stanislaskis': 9665, 'monongahela': 6794, 'soloist': 9467, 'epicoene': 3660, 'mermaid': 6610, 'completely': 2442, 'asks': 974, 'sinister': 9321, 'beads': 1253, 'fiber': 4007, 'jewelry': 5550, 'gault': 4403, 'portugal': 7931, 'lexus': 6020, 'olive': 7298, 'mediterranean': 6553, 'ivory': 5478, 'columbia': 2378, 'edenshaw': 3462, 'davidso': 2879, 'deejay': 2941, 'utero': 10736, 'bodhran': 1510, 'slowly': 9404, 'enema': 3610, 'pines': 7780, 'cloudsplitter': 2309, 'sutra': 9944, 'rooster': 8710, 'deadliest': 2902, 'bullfighter': 1721, 'checks': 2105, 'makeup': 6320, 'tara': 10050, 'condo': 2468, 'deserve': 3021, 'charges': 2082, '544': 300, 'upbeat': 10709, 'downbeat': 3278, 'millstone': 6688, 'wexford': 11087, 'ali': 664, 'nino': 7132, 'appear': 874, 'ragtime': 8280, '747': 359, 'maggody': 6277, 'militia': 6678, 'arly': 929, 'hanks': 4782, 'claibornes': 2240, 'asmara': 976, 'spies': 9583, 'settling': 9130, 'oasis': 7240, 'handyman': 4773, 'tending': 10123, 'lempriere': 5979, 'eucalyptus': 3749, 'dogless': 3219, 'metchosin': 6632, 'toes': 10300, 'slowness': 9405, 'bred': 1637, 'cloister': 2296, 'stayed': 9700, 'cannibal': 1866, 'flirt': 4127, 'darndest': 2862}\n"
     ]
    }
   ],
   "source": [
    "print(tfid.vocabulary_)"
   ]
  },
  {
   "cell_type": "code",
   "execution_count": 40,
   "metadata": {
    "ExecuteTime": {
     "end_time": "2021-06-13T19:38:24.371910Z",
     "start_time": "2021-06-13T19:38:23.447857Z"
    }
   },
   "outputs": [
    {
     "name": "stdout",
     "output_type": "stream",
     "text": [
      "[[1. 0. 0. ... 0. 0. 0.]\n",
      " [0. 1. 0. ... 0. 0. 0.]\n",
      " [0. 0. 1. ... 0. 0. 0.]\n",
      " ...\n",
      " [0. 0. 0. ... 1. 0. 0.]\n",
      " [0. 0. 0. ... 0. 1. 0.]\n",
      " [0. 0. 0. ... 0. 0. 1.]]\n"
     ]
    }
   ],
   "source": [
    "# Computing the cosine similarity on Tfidf matrix\n",
    "cos_sim_matrix = linear_kernel(tfid_matrix,tfid_matrix)\n",
    "print(cos_sim_matrix)"
   ]
  },
  {
   "cell_type": "code",
   "execution_count": 41,
   "metadata": {
    "ExecuteTime": {
     "end_time": "2021-06-13T19:38:52.900541Z",
     "start_time": "2021-06-13T19:38:52.851539Z"
    }
   },
   "outputs": [
    {
     "name": "stdout",
     "output_type": "stream",
     "text": [
      "Book.Title\n",
      "Classical Mythology                                                                                      0\n",
      "Clara Callan                                                                                             1\n",
      "Decision in Normandy                                                                                     2\n",
      "Flu: The Story of the Great Influenza Pandemic of 1918 and the Search for the Virus That Caused It       3\n",
      "The Mummies of Urumchi                                                                                   4\n",
      "                                                                                                      ... \n",
      "American Fried: Adventures of a Happy Eater.                                                          9995\n",
      "Cannibal In Manhattan                                                                                 9996\n",
      "How to Flirt: A Practical Guide                                                                       9997\n",
      "Twilight                                                                                              9998\n",
      "Kids Say the Darndest Things                                                                          9999\n",
      "Length: 10000, dtype: int64\n"
     ]
    }
   ],
   "source": [
    "# creating a mapping of anime name to index number \n",
    "book_index = pd.Series(book.index,index=book['Book.Title']).drop_duplicates()\n",
    "print(book_index)"
   ]
  },
  {
   "cell_type": "code",
   "execution_count": 49,
   "metadata": {
    "ExecuteTime": {
     "end_time": "2021-06-13T19:42:07.559675Z",
     "start_time": "2021-06-13T19:42:07.531674Z"
    }
   },
   "outputs": [
    {
     "data": {
      "text/plain": [
       "57"
      ]
     },
     "execution_count": 49,
     "metadata": {},
     "output_type": "execute_result"
    }
   ],
   "source": [
    "book.duplicated([\"Book.Title\", \"Book.Rating\"]).sum()"
   ]
  },
  {
   "cell_type": "code",
   "execution_count": 46,
   "metadata": {
    "ExecuteTime": {
     "end_time": "2021-06-13T19:40:59.077758Z",
     "start_time": "2021-06-13T19:40:58.991753Z"
    }
   },
   "outputs": [
    {
     "data": {
      "text/plain": [
       "9996"
      ]
     },
     "execution_count": 46,
     "metadata": {},
     "output_type": "execute_result"
    }
   ],
   "source": [
    "book_index[\"Cannibal In Manhattan\"]"
   ]
  },
  {
   "cell_type": "code",
   "execution_count": 50,
   "metadata": {
    "ExecuteTime": {
     "end_time": "2021-06-13T19:42:32.949127Z",
     "start_time": "2021-06-13T19:42:32.939127Z"
    }
   },
   "outputs": [],
   "source": [
    "split_value = int(len(book) * 0.80)\n",
    "train_data = book[:split_value]\n",
    "test_data = book[split_value:]"
   ]
  },
  {
   "cell_type": "code",
   "execution_count": 51,
   "metadata": {
    "ExecuteTime": {
     "end_time": "2021-06-13T19:42:53.040277Z",
     "start_time": "2021-06-13T19:42:53.028276Z"
    }
   },
   "outputs": [
    {
     "name": "stdout",
     "output_type": "stream",
     "text": [
      "(8000, 4)\n",
      "(2000, 4)\n"
     ]
    }
   ],
   "source": [
    "print(train_data.shape)\n",
    "print(test_data.shape)"
   ]
  },
  {
   "cell_type": "code",
   "execution_count": 53,
   "metadata": {
    "ExecuteTime": {
     "end_time": "2021-06-13T19:43:53.405729Z",
     "start_time": "2021-06-13T19:43:52.208661Z"
    }
   },
   "outputs": [
    {
     "name": "stderr",
     "output_type": "stream",
     "text": [
      "<ipython-input-53-a13ad94a8651>:3: UserWarning: FixedFormatter should only be used together with FixedLocator\n",
      "  ax.set_yticklabels([num for num in ax.get_yticks()])\n"
     ]
    },
    {
     "data": {
      "image/png": "[encoded data removed]",
      "text/plain": [
       "<Figure size 864x576 with 1 Axes>"
      ]
     },
     "metadata": {
      "needs_background": "light"
     },
     "output_type": "display_data"
    }
   ],
   "source": [
    "plt.figure(figsize = (12, 8))\n",
    "ax = sns.countplot(x=\"Book.Rating\", data=book)\n",
    "ax.set_yticklabels([num for num in ax.get_yticks()])\n",
    "\n",
    "plt.tick_params(labelsize = 15)\n",
    "plt.title(\"Count Ratings in Original data\", fontsize = 20)\n",
    "plt.xlabel(\"Book.Ratings\", fontsize = 20)\n",
    "plt.ylabel(\"Number of Ratings\", fontsize = 20)\n",
    "plt.show()"
   ]
  },
  {
   "cell_type": "code",
   "execution_count": 54,
   "metadata": {
    "ExecuteTime": {
     "end_time": "2021-06-13T19:45:10.266125Z",
     "start_time": "2021-06-13T19:45:09.025055Z"
    }
   },
   "outputs": [
    {
     "name": "stderr",
     "output_type": "stream",
     "text": [
      "<ipython-input-54-e45d3b012c58>:3: UserWarning: FixedFormatter should only be used together with FixedLocator\n",
      "  ax.set_yticklabels([num for num in ax.get_yticks()])\n"
     ]
    },
    {
     "data": {
      "image/png": "[encoded data removed]",
      "text/plain": [
       "<Figure size 864x576 with 1 Axes>"
      ]
     },
     "metadata": {
      "needs_background": "light"
     },
     "output_type": "display_data"
    }
   ],
   "source": [
    "plt.figure(figsize = (12, 8))\n",
    "ax = sns.countplot(x=\"Book.Rating\", data=train_data)\n",
    "ax.set_yticklabels([num for num in ax.get_yticks()])\n",
    "\n",
    "plt.tick_params(labelsize = 15)\n",
    "plt.title(\"Count Book.Ratings in train data\", fontsize = 20)\n",
    "plt.xlabel(\"Book.Ratings\", fontsize = 20)\n",
    "plt.ylabel(\"Number of Book.Ratings\", fontsize = 20)\n",
    "plt.show()"
   ]
  },
  {
   "cell_type": "code",
   "execution_count": 55,
   "metadata": {
    "ExecuteTime": {
     "end_time": "2021-06-13T19:45:47.815273Z",
     "start_time": "2021-06-13T19:45:47.794272Z"
    }
   },
   "outputs": [],
   "source": [
    "def get_user_item_sparse_matrix(df):\n",
    "    sparse_data = sparse.csr_matrix((df[:,1], (df[:,3], df[:,2])))\n",
    "    return sparse_data"
   ]
  },
  {
   "cell_type": "code",
   "execution_count": 56,
   "metadata": {
    "ExecuteTime": {
     "end_time": "2021-06-13T19:47:09.422941Z",
     "start_time": "2021-06-13T19:47:09.400940Z"
    }
   },
   "outputs": [],
   "source": [
    "def get_book_recommendations(Title,topN):\n",
    "      #topN = 10\n",
    "    # Getting the book index using its title \n",
    "    book_id = book_index[Title]\n",
    "    # Getting the pair wise similarity score for all the book's \n",
    "    #print(book_id)\n",
    "    cosine_scores = list(enumerate(cos_sim_matrix[book_id]))  \n",
    "    # Sorting the cosine_similarity scores based on scores \n",
    "    cosine_scores = sorted(cosine_scores,key=lambda x:x[1],reverse = True)\n",
    "    #print(cosine_scores)\n",
    "    # Get the scores of top 10 most similar books\n",
    "    cosine_scores_10 = cosine_scores[0:topN+1] \n",
    "    #print(cosine_scores_10)\n",
    "    # Getting the book index \n",
    "    book_idx  =  [i[0] for i in cosine_scores_10]\n",
    "    rat_scores =  [i[1] for i in cosine_scores_10]\n",
    "    # Similar book and scores\n",
    "    similar_books = pd.DataFrame(columns=[\"Book.Title\",\"Book.Rating\"])\n",
    "    similar_books[\"Book.Title\"] = book.loc[book_idx,\"Book.Title\"]\n",
    "    similar_books[\"Book.Rating\"] = rat_scores\n",
    "    print (similar_books)\n",
    "    similar_books.reset_index(inplace=True)  \n",
    "    similar_books.drop([\"Book.Title\"],axis=1,inplace=True)\n",
    "    #print (similar_books)\n",
    "    "
   ]
  },
  {
   "cell_type": "code",
   "execution_count": 57,
   "metadata": {
    "ExecuteTime": {
     "end_time": "2021-06-13T19:47:35.620439Z",
     "start_time": "2021-06-13T19:47:35.556436Z"
    }
   },
   "outputs": [
    {
     "name": "stdout",
     "output_type": "stream",
     "text": [
      "                                             Book.Title  Book.Rating\n",
      "2                                  Decision in Normandy     1.000000\n",
      "3560          Currahee!:  A Screaming Eagle at Normandy     0.318337\n",
      "3559  If You Survive: From Normandy to the Battle of...     0.209653\n"
     ]
    }
   ],
   "source": [
    "get_book_recommendations('Decision in Normandy',topN=2)"
   ]
  },
  {
   "cell_type": "code",
   "execution_count": 58,
   "metadata": {
    "ExecuteTime": {
     "end_time": "2021-06-13T19:47:59.907828Z",
     "start_time": "2021-06-13T19:47:59.851825Z"
    }
   },
   "outputs": [
    {
     "name": "stdout",
     "output_type": "stream",
     "text": [
      "                                             Book.Title  Book.Rating\n",
      "9999                       Kids Say the Darndest Things     1.000000\n",
      "8717                               Before I Say Goodbye     0.319959\n",
      "8865                                     Say No to Joe?     0.319959\n",
      "2321                          How to Say It Style Guide     0.293177\n",
      "136                               Before I Say Good-Bye     0.272421\n",
      "5474  Everything Cat: What Kids Really Want to Know ...     0.267615\n"
     ]
    }
   ],
   "source": [
    "get_book_recommendations('Kids Say the Darndest Things',topN=5)"
   ]
  },
  {
   "cell_type": "code",
   "execution_count": 59,
   "metadata": {
    "ExecuteTime": {
     "end_time": "2021-06-13T19:48:16.114755Z",
     "start_time": "2021-06-13T19:48:16.055752Z"
    }
   },
   "outputs": [
    {
     "name": "stdout",
     "output_type": "stream",
     "text": [
      "                                             Book.Title  Book.Rating\n",
      "136                               Before I Say Good-Bye     1.000000\n",
      "1679                    Before I Say Good-Bye : A Novel     0.955136\n",
      "1456  Bye, Bye, Butterfree (Pokemon Adventure (Golde...     0.478495\n",
      "2544                                     How to Be Good     0.467538\n",
      "7846                                  When She Was Good     0.467538\n",
      "9140                                            So Good     0.467538\n",
      "8717                               Before I Say Goodbye     0.377568\n",
      "8865                                     Say No to Joe?     0.377568\n",
      "9748                                      The Good Life     0.365183\n",
      "2321                          How to Say It Style Guide     0.345964\n",
      "3720                                Too Good to Be True     0.333519\n",
      "8175                   You Can't Keep a Good Woman Down     0.333119\n",
      "2944                                         GOOD EARTH     0.323719\n",
      "6986                                         GOOD EARTH     0.323719\n",
      "7475                                    The Good Mother     0.312326\n",
      "5447                                    The Good Sister     0.302577\n",
      "1496                                        Good in Bed     0.295998\n",
      "6273         Coercion: Why We Listen to What \\They\\ Say     0.276993\n",
      "9999                       Kids Say the Darndest Things     0.272421\n",
      "1352                                         Good Omens     0.269977\n",
      "5884         More Momilies: As My Mother Used to Say...     0.259791\n"
     ]
    }
   ],
   "source": [
    "get_book_recommendations('Before I Say Good-Bye',topN=20)"
   ]
  },
  {
   "cell_type": "code",
   "execution_count": 60,
   "metadata": {
    "ExecuteTime": {
     "end_time": "2021-06-13T19:48:35.875886Z",
     "start_time": "2021-06-13T19:48:35.855885Z"
    }
   },
   "outputs": [
    {
     "data": {
      "text/html": [
       "<div>\n",
       "<style scoped>\n",
       "    .dataframe tbody tr th:only-of-type {\n",
       "        vertical-align: middle;\n",
       "    }\n",
       "\n",
       "    .dataframe tbody tr th {\n",
       "        vertical-align: top;\n",
       "    }\n",
       "\n",
       "    .dataframe thead th {\n",
       "        text-align: right;\n",
       "    }\n",
       "</style>\n",
       "<table border=\"1\" class=\"dataframe\">\n",
       "  <thead>\n",
       "    <tr style=\"text-align: right;\">\n",
       "      <th></th>\n",
       "      <th>Unnamed: 0</th>\n",
       "      <th>User.ID</th>\n",
       "      <th>Book.Title</th>\n",
       "      <th>Book.Rating</th>\n",
       "    </tr>\n",
       "  </thead>\n",
       "  <tbody>\n",
       "    <tr>\n",
       "      <th>0</th>\n",
       "      <td>1</td>\n",
       "      <td>276726</td>\n",
       "      <td>Classical Mythology</td>\n",
       "      <td>5</td>\n",
       "    </tr>\n",
       "    <tr>\n",
       "      <th>1</th>\n",
       "      <td>2</td>\n",
       "      <td>276729</td>\n",
       "      <td>Clara Callan</td>\n",
       "      <td>3</td>\n",
       "    </tr>\n",
       "    <tr>\n",
       "      <th>2</th>\n",
       "      <td>3</td>\n",
       "      <td>276729</td>\n",
       "      <td>Decision in Normandy</td>\n",
       "      <td>6</td>\n",
       "    </tr>\n",
       "    <tr>\n",
       "      <th>3</th>\n",
       "      <td>4</td>\n",
       "      <td>276736</td>\n",
       "      <td>Flu: The Story of the Great Influenza Pandemic...</td>\n",
       "      <td>8</td>\n",
       "    </tr>\n",
       "    <tr>\n",
       "      <th>4</th>\n",
       "      <td>5</td>\n",
       "      <td>276737</td>\n",
       "      <td>The Mummies of Urumchi</td>\n",
       "      <td>6</td>\n",
       "    </tr>\n",
       "  </tbody>\n",
       "</table>\n",
       "</div>"
      ],
      "text/plain": [
       "   Unnamed: 0  User.ID                                         Book.Title  \\\n",
       "0           1   276726                                Classical Mythology   \n",
       "1           2   276729                                       Clara Callan   \n",
       "2           3   276729                               Decision in Normandy   \n",
       "3           4   276736  Flu: The Story of the Great Influenza Pandemic...   \n",
       "4           5   276737                             The Mummies of Urumchi   \n",
       "\n",
       "   Book.Rating  \n",
       "0            5  \n",
       "1            3  \n",
       "2            6  \n",
       "3            8  \n",
       "4            6  "
      ]
     },
     "execution_count": 60,
     "metadata": {},
     "output_type": "execute_result"
    }
   ],
   "source": [
    "book.head()"
   ]
  },
  {
   "cell_type": "code",
   "execution_count": 61,
   "metadata": {
    "ExecuteTime": {
     "end_time": "2021-06-13T19:49:21.731508Z",
     "start_time": "2021-06-13T19:49:21.499495Z"
    }
   },
   "outputs": [],
   "source": [
    "user_book_rating = book.pivot_table(columns='Book.Title', values='Book.Rating')"
   ]
  },
  {
   "cell_type": "code",
   "execution_count": 62,
   "metadata": {
    "ExecuteTime": {
     "end_time": "2021-06-13T19:49:39.213508Z",
     "start_time": "2021-06-13T19:49:39.053499Z"
    }
   },
   "outputs": [
    {
     "data": {
      "text/html": [
       "<div>\n",
       "<style scoped>\n",
       "    .dataframe tbody tr th:only-of-type {\n",
       "        vertical-align: middle;\n",
       "    }\n",
       "\n",
       "    .dataframe tbody tr th {\n",
       "        vertical-align: top;\n",
       "    }\n",
       "\n",
       "    .dataframe thead th {\n",
       "        text-align: right;\n",
       "    }\n",
       "</style>\n",
       "<table border=\"1\" class=\"dataframe\">\n",
       "  <thead>\n",
       "    <tr style=\"text-align: right;\">\n",
       "      <th>Book.Title</th>\n",
       "      <th>Jason, Madison &amp;amp</th>\n",
       "      <th>Other Stories;Merril;1985;McClelland &amp;amp</th>\n",
       "      <th>Repairing PC Drives &amp;amp</th>\n",
       "      <th>'48</th>\n",
       "      <th>'O Au No Keia: Voices from Hawai'I's Mahu and Transgender Communities</th>\n",
       "      <th>...AND THE HORSE HE RODE IN ON : THE PEOPLE V. KENNETH STARR</th>\n",
       "      <th>01-01-00: A Novel of the Millennium</th>\n",
       "      <th>1,401 More Things That P*Ss Me Off</th>\n",
       "      <th>10 Commandments Of Dating</th>\n",
       "      <th>100 Great Fantasy Short, Short Stories</th>\n",
       "      <th>...</th>\n",
       "      <th>Zora Hurston and the Chinaberry Tree (Reading Rainbow Book)</th>\n",
       "      <th>\\Even Monkeys Fall from Trees\\ and Other Japanese Proverbs</th>\n",
       "      <th>\\I Won't Learn from You\\: And Other Thoughts on Creative Maladjustment</th>\n",
       "      <th>\\More More More,\\ Said the Baby</th>\n",
       "      <th>\\O\\ Is for Outlaw</th>\n",
       "      <th>\\Surely You're Joking, Mr. Feynman!\\: Adventures of a Curious Character</th>\n",
       "      <th>\\Well, there's your problem\\: Cartoons</th>\n",
       "      <th>iI Paradiso Degli Orchi</th>\n",
       "      <th>stardust</th>\n",
       "      <th>Ã?Â?bermorgen.</th>\n",
       "    </tr>\n",
       "  </thead>\n",
       "  <tbody>\n",
       "    <tr>\n",
       "      <th>Book.Rating</th>\n",
       "      <td>8.0</td>\n",
       "      <td>6.0</td>\n",
       "      <td>4.0</td>\n",
       "      <td>7.0</td>\n",
       "      <td>8.0</td>\n",
       "      <td>7.0</td>\n",
       "      <td>10.0</td>\n",
       "      <td>10.0</td>\n",
       "      <td>7.0</td>\n",
       "      <td>10.0</td>\n",
       "      <td>...</td>\n",
       "      <td>8.0</td>\n",
       "      <td>9.0</td>\n",
       "      <td>10.0</td>\n",
       "      <td>7.0</td>\n",
       "      <td>8.0</td>\n",
       "      <td>8.0</td>\n",
       "      <td>9.0</td>\n",
       "      <td>7.0</td>\n",
       "      <td>5.0</td>\n",
       "      <td>4.0</td>\n",
       "    </tr>\n",
       "  </tbody>\n",
       "</table>\n",
       "<p>1 rows × 9659 columns</p>\n",
       "</div>"
      ],
      "text/plain": [
       "Book.Title    Jason, Madison &amp   Other Stories;Merril;1985;McClelland &amp  \\\n",
       "Book.Rating                   8.0                                         6.0   \n",
       "\n",
       "Book.Title    Repairing PC Drives &amp  '48  \\\n",
       "Book.Rating                        4.0  7.0   \n",
       "\n",
       "Book.Title   'O Au No Keia: Voices from Hawai'I's Mahu and Transgender Communities  \\\n",
       "Book.Rating                                                8.0                       \n",
       "\n",
       "Book.Title   ...AND THE HORSE HE RODE IN ON : THE PEOPLE V. KENNETH STARR  \\\n",
       "Book.Rating                                                7.0              \n",
       "\n",
       "Book.Title   01-01-00: A Novel of the Millennium  \\\n",
       "Book.Rating                                 10.0   \n",
       "\n",
       "Book.Title   1,401 More Things That P*Ss Me Off  10 Commandments Of Dating  \\\n",
       "Book.Rating                                10.0                        7.0   \n",
       "\n",
       "Book.Title   100 Great Fantasy Short, Short Stories  ...  \\\n",
       "Book.Rating                                    10.0  ...   \n",
       "\n",
       "Book.Title   Zora Hurston and the Chinaberry Tree (Reading Rainbow Book)  \\\n",
       "Book.Rating                                                8.0             \n",
       "\n",
       "Book.Title   \\Even Monkeys Fall from Trees\\ and Other Japanese Proverbs  \\\n",
       "Book.Rating                                                9.0            \n",
       "\n",
       "Book.Title   \\I Won't Learn from You\\: And Other Thoughts on Creative Maladjustment  \\\n",
       "Book.Rating                                               10.0                        \n",
       "\n",
       "Book.Title   \\More More More,\\ Said the Baby  \\O\\ Is for Outlaw  \\\n",
       "Book.Rating                              7.0                8.0   \n",
       "\n",
       "Book.Title   \\Surely You're Joking, Mr. Feynman!\\: Adventures of a Curious Character  \\\n",
       "Book.Rating                                                8.0                         \n",
       "\n",
       "Book.Title   \\Well, there's your problem\\: Cartoons  iI Paradiso Degli Orchi  \\\n",
       "Book.Rating                                     9.0                      7.0   \n",
       "\n",
       "Book.Title   stardust  Ã?Â?bermorgen.  \n",
       "Book.Rating       5.0             4.0  \n",
       "\n",
       "[1 rows x 9659 columns]"
      ]
     },
     "execution_count": 62,
     "metadata": {},
     "output_type": "execute_result"
    }
   ],
   "source": [
    "user_book_rating"
   ]
  },
  {
   "cell_type": "code",
   "execution_count": 63,
   "metadata": {
    "ExecuteTime": {
     "end_time": "2021-06-13T19:50:05.668022Z",
     "start_time": "2021-06-13T19:50:05.659021Z"
    }
   },
   "outputs": [],
   "source": [
    "gump_ratings = user_book_rating['Good in Bed']"
   ]
  },
  {
   "cell_type": "code",
   "execution_count": 64,
   "metadata": {
    "ExecuteTime": {
     "end_time": "2021-06-13T19:50:20.451867Z",
     "start_time": "2021-06-13T19:50:20.433866Z"
    }
   },
   "outputs": [
    {
     "data": {
      "text/plain": [
       "Book.Rating    7.0\n",
       "Name: Good in Bed, dtype: float64"
      ]
     },
     "execution_count": 64,
     "metadata": {},
     "output_type": "execute_result"
    }
   ],
   "source": [
    "gump_ratings.head()"
   ]
  },
  {
   "cell_type": "code",
   "execution_count": 65,
   "metadata": {
    "ExecuteTime": {
     "end_time": "2021-06-13T19:50:44.754257Z",
     "start_time": "2021-06-13T19:50:35.317717Z"
    }
   },
   "outputs": [
    {
     "name": "stderr",
     "output_type": "stream",
     "text": [
      "D:\\ProgramData\\Anaconda3\\lib\\site-packages\\numpy\\lib\\function_base.py:2551: RuntimeWarning: Degrees of freedom <= 0 for slice\n",
      "  c = cov(x, y, rowvar)\n",
      "D:\\ProgramData\\Anaconda3\\lib\\site-packages\\numpy\\lib\\function_base.py:2480: RuntimeWarning: divide by zero encountered in true_divide\n",
      "  c *= np.true_divide(1, fact)\n"
     ]
    },
    {
     "data": {
      "text/html": [
       "<div>\n",
       "<style scoped>\n",
       "    .dataframe tbody tr th:only-of-type {\n",
       "        vertical-align: middle;\n",
       "    }\n",
       "\n",
       "    .dataframe tbody tr th {\n",
       "        vertical-align: top;\n",
       "    }\n",
       "\n",
       "    .dataframe thead th {\n",
       "        text-align: right;\n",
       "    }\n",
       "</style>\n",
       "<table border=\"1\" class=\"dataframe\">\n",
       "  <thead>\n",
       "    <tr style=\"text-align: right;\">\n",
       "      <th></th>\n",
       "      <th>Correlation</th>\n",
       "    </tr>\n",
       "    <tr>\n",
       "      <th>Book.Title</th>\n",
       "      <th></th>\n",
       "    </tr>\n",
       "  </thead>\n",
       "  <tbody>\n",
       "  </tbody>\n",
       "</table>\n",
       "</div>"
      ],
      "text/plain": [
       "Empty DataFrame\n",
       "Columns: [Correlation]\n",
       "Index: []"
      ]
     },
     "execution_count": 65,
     "metadata": {},
     "output_type": "execute_result"
    }
   ],
   "source": [
    "books_like_gump = user_book_rating.corrwith(gump_ratings)\n",
    "corr_gump = pd.DataFrame(books_like_gump, columns=['Correlation'])\n",
    "corr_gump.dropna(inplace=True)\n",
    "corr_gump.head()"
   ]
  },
  {
   "cell_type": "code",
   "execution_count": 66,
   "metadata": {
    "ExecuteTime": {
     "end_time": "2021-06-13T19:51:05.251429Z",
     "start_time": "2021-06-13T19:51:05.229428Z"
    }
   },
   "outputs": [
    {
     "data": {
      "text/html": [
       "<div>\n",
       "<style scoped>\n",
       "    .dataframe tbody tr th:only-of-type {\n",
       "        vertical-align: middle;\n",
       "    }\n",
       "\n",
       "    .dataframe tbody tr th {\n",
       "        vertical-align: top;\n",
       "    }\n",
       "\n",
       "    .dataframe thead th {\n",
       "        text-align: right;\n",
       "    }\n",
       "</style>\n",
       "<table border=\"1\" class=\"dataframe\">\n",
       "  <thead>\n",
       "    <tr style=\"text-align: right;\">\n",
       "      <th></th>\n",
       "      <th>Correlation</th>\n",
       "    </tr>\n",
       "    <tr>\n",
       "      <th>Book.Title</th>\n",
       "      <th></th>\n",
       "    </tr>\n",
       "  </thead>\n",
       "  <tbody>\n",
       "  </tbody>\n",
       "</table>\n",
       "</div>"
      ],
      "text/plain": [
       "Empty DataFrame\n",
       "Columns: [Correlation]\n",
       "Index: []"
      ]
     },
     "execution_count": 66,
     "metadata": {},
     "output_type": "execute_result"
    }
   ],
   "source": [
    "corr_gump.sort_values('Correlation', ascending=False).head(10)"
   ]
  },
  {
   "cell_type": "code",
   "execution_count": 67,
   "metadata": {
    "ExecuteTime": {
     "end_time": "2021-06-13T19:51:25.179569Z",
     "start_time": "2021-06-13T19:51:25.098565Z"
    }
   },
   "outputs": [
    {
     "data": {
      "text/html": [
       "<div>\n",
       "<style scoped>\n",
       "    .dataframe tbody tr th:only-of-type {\n",
       "        vertical-align: middle;\n",
       "    }\n",
       "\n",
       "    .dataframe tbody tr th {\n",
       "        vertical-align: top;\n",
       "    }\n",
       "\n",
       "    .dataframe thead th {\n",
       "        text-align: right;\n",
       "    }\n",
       "</style>\n",
       "<table border=\"1\" class=\"dataframe\">\n",
       "  <thead>\n",
       "    <tr style=\"text-align: right;\">\n",
       "      <th></th>\n",
       "      <th>Correlation</th>\n",
       "      <th>num of ratings</th>\n",
       "    </tr>\n",
       "    <tr>\n",
       "      <th>Book.Title</th>\n",
       "      <th></th>\n",
       "      <th></th>\n",
       "    </tr>\n",
       "  </thead>\n",
       "  <tbody>\n",
       "  </tbody>\n",
       "</table>\n",
       "</div>"
      ],
      "text/plain": [
       "Empty DataFrame\n",
       "Columns: [Correlation, num of ratings]\n",
       "Index: []"
      ]
     },
     "execution_count": 67,
     "metadata": {},
     "output_type": "execute_result"
    }
   ],
   "source": [
    "corr_gump_mean = corr_gump.join(ratings['num of ratings'])\n",
    "corr_gump_mean.head()"
   ]
  },
  {
   "cell_type": "code",
   "execution_count": 68,
   "metadata": {
    "ExecuteTime": {
     "end_time": "2021-06-13T19:52:00.768605Z",
     "start_time": "2021-06-13T19:52:00.740603Z"
    }
   },
   "outputs": [
    {
     "data": {
      "text/html": [
       "<div>\n",
       "<style scoped>\n",
       "    .dataframe tbody tr th:only-of-type {\n",
       "        vertical-align: middle;\n",
       "    }\n",
       "\n",
       "    .dataframe tbody tr th {\n",
       "        vertical-align: top;\n",
       "    }\n",
       "\n",
       "    .dataframe thead th {\n",
       "        text-align: right;\n",
       "    }\n",
       "</style>\n",
       "<table border=\"1\" class=\"dataframe\">\n",
       "  <thead>\n",
       "    <tr style=\"text-align: right;\">\n",
       "      <th></th>\n",
       "      <th>Correlation</th>\n",
       "      <th>num of ratings</th>\n",
       "    </tr>\n",
       "    <tr>\n",
       "      <th>Book.Title</th>\n",
       "      <th></th>\n",
       "      <th></th>\n",
       "    </tr>\n",
       "  </thead>\n",
       "  <tbody>\n",
       "  </tbody>\n",
       "</table>\n",
       "</div>"
      ],
      "text/plain": [
       "Empty DataFrame\n",
       "Columns: [Correlation, num of ratings]\n",
       "Index: []"
      ]
     },
     "execution_count": 68,
     "metadata": {},
     "output_type": "execute_result"
    }
   ],
   "source": [
    "corr_gump_mean[corr_gump_mean ['num of ratings']>50].sort_values('Correlation', ascending=False).head()"
   ]
  }
 ],
 "metadata": {
  "kernelspec": {
   "display_name": "Python 3",
   "language": "python",
   "name": "python3"
  },
  "language_info": {
   "codemirror_mode": {
    "name": "ipython",
    "version": 3
   },
   "file_extension": ".py",
   "mimetype": "text/x-python",
   "name": "python",
   "nbconvert_exporter": "python",
   "pygments_lexer": "ipython3",
   "version": "3.8.5"
  }
 },
 "nbformat": 4,
 "nbformat_minor": 4
}
